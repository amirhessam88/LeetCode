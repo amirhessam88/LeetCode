{
 "cells": [
  {
   "cell_type": "markdown",
   "metadata": {},
   "source": [
    "# DYNAMIC PROGRAMMING PROBLEMS"
   ]
  },
  {
   "cell_type": "markdown",
   "metadata": {},
   "source": [
    "## LeetCode.139:  Word Break"
   ]
  },
  {
   "cell_type": "markdown",
   "metadata": {},
   "source": [
    "Given a non-empty string s and a dictionary wordDict containing a list of non-empty words, determine if s can be segmented into a space-separated sequence of one or more dictionary words.\n",
    "\n",
    "**Note:**\n",
    "\n",
    "The same word in the dictionary may be reused multiple times in the segmentation.\n",
    "You may assume the dictionary does not contain duplicate words.\n",
    "\n",
    "**Example 1:**\n",
    "\n",
    "Input: s = \"leetcode\", wordDict = [\"leet\", \"code\"]\n",
    "\n",
    "Output: true\n",
    "\n",
    "Explanation: Return true because \"leetcode\" can be segmented as \"leet code\".\n",
    "\n",
    "**Example 2:**\n",
    "\n",
    "Input: s = \"applepenapple\", wordDict = [\"apple\", \"pen\"]\n",
    "\n",
    "Output: true\n",
    "\n",
    "Explanation: Return true because \"applepenapple\" can be segmented as \"apple pen apple\".\n",
    "             Note that you are allowed to reuse a dictionary word."
   ]
  },
  {
   "cell_type": "code",
   "execution_count": 5,
   "metadata": {},
   "outputs": [],
   "source": [
    "def wordBreak(s, wordDict):\n",
    "    \"\"\"\n",
    "    Time-Complexity O(N^2)\n",
    "    \"\"\"\n",
    "    # remove duplicates\n",
    "    wordSet = set(wordDict)\n",
    "    \n",
    "    # define N\n",
    "    N = len(s)\n",
    "    \n",
    "    # define dp array with N + 1 elements\n",
    "    dp = [False] * (N + 1)\n",
    "    \n",
    "    # initialize the dp\n",
    "    dp[0] = True\n",
    "    \n",
    "    # main loop\n",
    "    for i in range(N + 1):\n",
    "        for j in range(i + 1, N + 1):\n",
    "            if s[i:j] in wordSet and dp[i]:\n",
    "                dp[j] = True\n",
    "    return dp[-1]    "
   ]
  },
  {
   "cell_type": "code",
   "execution_count": 6,
   "metadata": {},
   "outputs": [
    {
     "data": {
      "text/plain": [
       "True"
      ]
     },
     "execution_count": 6,
     "metadata": {},
     "output_type": "execute_result"
    }
   ],
   "source": [
    "s = \"applepenapple\"\n",
    "wordDict = [\"apple\", \"pen\"]\n",
    "wordBreak(s, wordDict)"
   ]
  },
  {
   "cell_type": "code",
   "execution_count": null,
   "metadata": {},
   "outputs": [],
   "source": []
  }
 ],
 "metadata": {
  "kernelspec": {
   "display_name": "Python 3",
   "language": "python",
   "name": "python3"
  },
  "language_info": {
   "codemirror_mode": {
    "name": "ipython",
    "version": 3
   },
   "file_extension": ".py",
   "mimetype": "text/x-python",
   "name": "python",
   "nbconvert_exporter": "python",
   "pygments_lexer": "ipython3",
   "version": "3.7.6"
  }
 },
 "nbformat": 4,
 "nbformat_minor": 4
}
