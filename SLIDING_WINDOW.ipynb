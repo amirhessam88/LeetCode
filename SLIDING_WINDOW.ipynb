{
 "cells": [
  {
   "cell_type": "markdown",
   "metadata": {},
   "source": [
    "# SLIDING WINDOW PROBLEMS"
   ]
  },
  {
   "cell_type": "markdown",
   "metadata": {},
   "source": [
    "## LeetCode.713: Subarray Product Less Than K"
   ]
  },
  {
   "cell_type": "markdown",
   "metadata": {},
   "source": [
    "Your are given an array of positive integers nums.\n",
    "\n",
    "Count and print the number of (contiguous) subarrays where the product of all the elements in the subarray is less than k.\n",
    "\n",
    "**Example 1:**\n",
    "\n",
    "Input: nums = [10, 5, 2, 6], k = 100\n",
    "\n",
    "Output: 8\n",
    "\n",
    "Explanation: The 8 subarrays that have product less than 100 are: [10], [5], [2], [6], [10, 5], [5, 2], [2, 6], [5, 2, 6].\n",
    "Note that [10, 5, 2] is not included as the product of 100 is not strictly less than k."
   ]
  },
  {
   "cell_type": "code",
   "execution_count": 7,
   "metadata": {},
   "outputs": [],
   "source": [
    "def numSubarrayProductLessThanK1(nums, k):\n",
    "    \"\"\"\n",
    "    Brute Force\n",
    "    Time-Complexity: O(N^3)\n",
    "    \"\"\"\n",
    "    def _prod(arr):\n",
    "        \"\"\"\n",
    "        Helper to calculate the prod of subarrays\n",
    "        \"\"\"\n",
    "        prod = 1\n",
    "        for i in arr:\n",
    "            prod *= i\n",
    "        \n",
    "        return prod\n",
    "    \n",
    "    ans = 0\n",
    "    # main loop\n",
    "    for i in range(len(nums)):\n",
    "        for j in range(i, len(nums)):\n",
    "            sub = nums[i:j+1]\n",
    "            if _prod(sub) < k:\n",
    "                ans += 1\n",
    "                \n",
    "    return ans"
   ]
  },
  {
   "cell_type": "code",
   "execution_count": 8,
   "metadata": {},
   "outputs": [],
   "source": [
    "def numSubarrayProductLessThanK2(nums, k):\n",
    "    \"\"\"\n",
    "    Sliding Window\n",
    "    Time-Complexity: O(N^2)\n",
    "    \"\"\"\n",
    "    left = 0\n",
    "    right = 0\n",
    "    ans = 0\n",
    "    prod = 1\n",
    "    \n",
    "    # main loop\n",
    "    while left < len(nums) and right < len(nums):\n",
    "        prod *= nums[right]\n",
    "        \n",
    "        while prod >= k:\n",
    "            prod /= nums[left]\n",
    "            left += 1\n",
    "        ans += (right - left + 1)\n",
    "        right += 1\n",
    "    \n",
    "    return ans "
   ]
  },
  {
   "cell_type": "code",
   "execution_count": 9,
   "metadata": {},
   "outputs": [
    {
     "name": "stdout",
     "output_type": "stream",
     "text": [
      "8\n",
      "8\n"
     ]
    }
   ],
   "source": [
    "nums = [10, 5, 2, 6]\n",
    "k = 100\n",
    "print(numSubarrayProductLessThanK1(nums, k))\n",
    "print(numSubarrayProductLessThanK2(nums, k))"
   ]
  },
  {
   "cell_type": "code",
   "execution_count": null,
   "metadata": {},
   "outputs": [],
   "source": []
  }
 ],
 "metadata": {
  "kernelspec": {
   "display_name": "Python 3",
   "language": "python",
   "name": "python3"
  },
  "language_info": {
   "codemirror_mode": {
    "name": "ipython",
    "version": 3
   },
   "file_extension": ".py",
   "mimetype": "text/x-python",
   "name": "python",
   "nbconvert_exporter": "python",
   "pygments_lexer": "ipython3",
   "version": "3.7.6"
  }
 },
 "nbformat": 4,
 "nbformat_minor": 4
}
