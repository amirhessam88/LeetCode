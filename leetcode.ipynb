{
 "cells": [
  {
   "cell_type": "markdown",
   "metadata": {},
   "source": [
    "# Here is some of the questions I solved for coding interviews from LeetCode"
   ]
  },
  {
   "cell_type": "markdown",
   "metadata": {},
   "source": [
    "## 1) The count of prime numbers before non-negative number N.\n",
    "### Test case: Input = 10 --> Output: 4"
   ]
  },
  {
   "cell_type": "code",
   "execution_count": 2,
   "metadata": {},
   "outputs": [],
   "source": [
    "def countPrime(N):\n",
    "    \"\"\"\n",
    "    input: int N\n",
    "    output: int count\n",
    "    \"\"\"\n",
    "    def isPrime(M):\n",
    "        \"\"\"\n",
    "        input: int M\n",
    "        output: bool\n",
    "        \"\"\"\n",
    "        for m in range(2, M):\n",
    "            if(M % m == 0):\n",
    "                return False\n",
    "            \n",
    "        return True\n",
    "    \n",
    "    count = []\n",
    "    for n in range(2, N+1):\n",
    "        count.append(isPrime(n))\n",
    "    \n",
    "    return sum(count)\n",
    "        "
   ]
  },
  {
   "cell_type": "code",
   "execution_count": 2,
   "metadata": {},
   "outputs": [
    {
     "data": {
      "text/plain": [
       "4"
      ]
     },
     "execution_count": 2,
     "metadata": {},
     "output_type": "execute_result"
    }
   ],
   "source": [
    "countPrime(10)"
   ]
  },
  {
   "cell_type": "markdown",
   "metadata": {},
   "source": [
    "## 2) Given an array of integers, return indices of the two numbers such that they add up to a specific target. You may assume that each input would have exactly one solution, and you may not use the same element twice.\n",
    "### Test case: Inputs: array = [2, 7, 11, 15], target = 9 -->  Output = [0, 1]"
   ]
  },
  {
   "cell_type": "code",
   "execution_count": 1,
   "metadata": {},
   "outputs": [],
   "source": [
    "def TwoSum(nums, target):\n",
    "    \"\"\"\n",
    "    input: List(int) num\n",
    "           int target\n",
    "    output: list of indices\n",
    "    \"\"\"\n",
    "    for i in nums:\n",
    "        subTarget = int(target - i)\n",
    "        if(subTarget in nums):\n",
    "            return [nums.index(i), nums.index(subTarget)]\n",
    "        \n",
    "    return \"Does not exist\"\n",
    "    "
   ]
  },
  {
   "cell_type": "code",
   "execution_count": 3,
   "metadata": {},
   "outputs": [],
   "source": [
    "def TwoSum2(nums, target):\n",
    "    \"\"\"\n",
    "    input: List(int) num\n",
    "           int target\n",
    "    output: list of indices\n",
    "    \"\"\"\n",
    "    seen = {}\n",
    "    for idx, num in enumerate(nums):\n",
    "        num2 = int(target - num)\n",
    "        if num2 in seen:\n",
    "            return [seen[num2], idx]\n",
    "        else:\n",
    "            seen[num] = idx\n",
    "    "
   ]
  },
  {
   "cell_type": "code",
   "execution_count": 7,
   "metadata": {},
   "outputs": [
    {
     "name": "stdout",
     "output_type": "stream",
     "text": [
      "[0, 0]\n",
      "[0, 1]\n"
     ]
    }
   ],
   "source": [
    "nums = [5, 5]\n",
    "target = 10\n",
    "\n",
    "print(TwoSum(nums, target))\n",
    "print(TwoSum2(nums, target))"
   ]
  },
  {
   "cell_type": "markdown",
   "metadata": {},
   "source": [
    "## 3) Given a 32-bit signed integer, reverse digits of an integer.\n",
    "### Test case: Input: 123 --> Output: 321; Input: -123 --> Output: -321; Input: 120 --> Output: 21"
   ]
  },
  {
   "cell_type": "code",
   "execution_count": 1,
   "metadata": {},
   "outputs": [],
   "source": [
    "def ReverseDigits(N):\n",
    "    \"\"\"\n",
    "    input: int N\n",
    "    output: int \n",
    "    \"\"\"\n",
    "    if(N >= 0):\n",
    "        return int(str(N)[::-1])\n",
    "    \n",
    "    else:\n",
    "        return (-1) * int(str(abs(N))[::-1])"
   ]
  },
  {
   "cell_type": "code",
   "execution_count": 2,
   "metadata": {},
   "outputs": [
    {
     "name": "stdout",
     "output_type": "stream",
     "text": [
      "123 --> 321\n",
      "-123 --> -321\n",
      "120 --> 21\n"
     ]
    }
   ],
   "source": [
    "for N in [123, -123, 120]:\n",
    "    print(F\"{N} --> {ReverseDigits(N)}\")"
   ]
  },
  {
   "cell_type": "markdown",
   "metadata": {},
   "source": [
    "## 4) Determine whether an integer is a palindrome. An integer is a palindrome when it reads the same backward as forward.\n",
    "### Test case: Input: 121 --> Output: True; Input: -121 --> Output: False; Input: 10 --> Output: False"
   ]
  },
  {
   "cell_type": "code",
   "execution_count": 7,
   "metadata": {},
   "outputs": [],
   "source": [
    "def isPalindrome(N):\n",
    "    \"\"\"\n",
    "    input: int N\n",
    "    output: bool\n",
    "    \"\"\"\n",
    "    if(N % 10 == 0 or N < 0):\n",
    "        return False\n",
    "    \n",
    "    if(int(str(N)[::-1]) == N):\n",
    "        return True\n",
    "    else:\n",
    "        return False"
   ]
  },
  {
   "cell_type": "code",
   "execution_count": 8,
   "metadata": {},
   "outputs": [
    {
     "name": "stdout",
     "output_type": "stream",
     "text": [
      "121 --> True\n",
      "-121 --> False\n",
      "10 --> False\n"
     ]
    }
   ],
   "source": [
    "for N in [121, -121, 10]:\n",
    "    print(F\"{N} --> {isPalindrome(N)}\")"
   ]
  },
  {
   "cell_type": "markdown",
   "metadata": {},
   "source": [
    "## 5) Find the longest common prefix string amongst an array of strings.\n",
    "### Test case: Input: [\"flower\", \"flow\", \"flight\"] --> Output: \"fl\"; Input: [\"dog\", \"racecar\", \"car\"] --> Output: \" \""
   ]
  },
  {
   "cell_type": "code",
   "execution_count": 9,
   "metadata": {},
   "outputs": [],
   "source": [
    "def LongestPrefix(strs):\n",
    "    \"\"\"\n",
    "    input: List(str) strs\n",
    "    outout: str\n",
    "    \"\"\"\n",
    "    if not strs:\n",
    "        return \"\"\n",
    "    \n",
    "    minlength = min(strs)\n",
    "    for i in range(len(minlength)):\n",
    "        for s in strs:\n",
    "            if s[i] != minlength[i]:\n",
    "                return minlength[:i] if i > 0 else \"\"\n",
    "    \n",
    "    "
   ]
  },
  {
   "cell_type": "code",
   "execution_count": 10,
   "metadata": {},
   "outputs": [
    {
     "data": {
      "text/plain": [
       "'fl'"
      ]
     },
     "execution_count": 10,
     "metadata": {},
     "output_type": "execute_result"
    }
   ],
   "source": [
    "strs = [\"flower\", \"flow\", \"flight\"]\n",
    "LongestPrefix(strs)"
   ]
  },
  {
   "cell_type": "code",
   "execution_count": 11,
   "metadata": {},
   "outputs": [
    {
     "data": {
      "text/plain": [
       "''"
      ]
     },
     "execution_count": 11,
     "metadata": {},
     "output_type": "execute_result"
    }
   ],
   "source": [
    "strs = [\"dog\", \"racecar\", \"car\"]\n",
    "LongestPrefix(strs)"
   ]
  },
  {
   "cell_type": "markdown",
   "metadata": {},
   "source": [
    "## 6) Compute and return the square root of x, where x is guaranteed to be a non-negative integer. Since the return type is an integer, the decimal digits are truncated and only the integer part of the result is returned.\n",
    "### Test case: Input: 8 --> Output: 2"
   ]
  },
  {
   "cell_type": "code",
   "execution_count": 12,
   "metadata": {},
   "outputs": [],
   "source": [
    "def sqrt(x):\n",
    "    \"\"\"\n",
    "    input: int x\n",
    "    output: int\n",
    "    \"\"\"\n",
    "    return int(x ** (0.5))  "
   ]
  },
  {
   "cell_type": "code",
   "execution_count": 13,
   "metadata": {},
   "outputs": [
    {
     "data": {
      "text/plain": [
       "2"
      ]
     },
     "execution_count": 13,
     "metadata": {},
     "output_type": "execute_result"
    }
   ],
   "source": [
    "sqrt(8)"
   ]
  },
  {
   "cell_type": "markdown",
   "metadata": {},
   "source": [
    "## 7) Return the index of the first occurrence of needle in haystack, or -1 if needle is not part of haystack.\n",
    "### Test case: Input: haystack = \"hello\", needle = \"ll\", Output: 2; Input: haystack = \"aaaa\", needle = \"bba\", output = -1"
   ]
  },
  {
   "cell_type": "code",
   "execution_count": 14,
   "metadata": {},
   "outputs": [],
   "source": [
    "def strStr(haystack, needle):\n",
    "    \"\"\"\n",
    "    input: haystack str\n",
    "           needle str\n",
    "    output: int\n",
    "    \"\"\"\n",
    "    step = len(needle)\n",
    "    for i in range(len(haystack)):\n",
    "        if(haystack[i:i+step] == needle):\n",
    "            return i\n",
    "    \n",
    "    return -1"
   ]
  },
  {
   "cell_type": "code",
   "execution_count": 15,
   "metadata": {},
   "outputs": [
    {
     "data": {
      "text/plain": [
       "2"
      ]
     },
     "execution_count": 15,
     "metadata": {},
     "output_type": "execute_result"
    }
   ],
   "source": [
    "strStr(haystack = \"hello\", needle = \"ll\")"
   ]
  },
  {
   "cell_type": "code",
   "execution_count": 16,
   "metadata": {},
   "outputs": [
    {
     "data": {
      "text/plain": [
       "-1"
      ]
     },
     "execution_count": 16,
     "metadata": {},
     "output_type": "execute_result"
    }
   ],
   "source": [
    "strStr(haystack = \"aaaa\", needle = \"bba\")"
   ]
  },
  {
   "cell_type": "markdown",
   "metadata": {},
   "source": [
    "## 8) Given a sorted array and a target value, return the index if the target is found. If not, return the index where it would be if it were inserted in order. You may assume no duplicates in the array.\n",
    "### Test case: Input: [1, 3, 5, 6], 5, Output: 2; Input: [1, 3, 5, 6], 2, Output: 1; Input: [1, 3, 5, 6], 7, Output: 4; Input: [1, 3, 5, 6], 0, Output: 0"
   ]
  },
  {
   "cell_type": "code",
   "execution_count": 17,
   "metadata": {},
   "outputs": [],
   "source": [
    "def searchInsert1(nums, target):\n",
    "    \"\"\"\n",
    "    input: List(int) nums\n",
    "           int target\n",
    "    output: int\n",
    "    \"\"\"\n",
    "    nums.append(target)\n",
    "    nums_sorted = sorted(nums)\n",
    "    index = nums_sorted.index(target)\n",
    "    \n",
    "    return index"
   ]
  },
  {
   "cell_type": "code",
   "execution_count": 18,
   "metadata": {},
   "outputs": [],
   "source": [
    "def searchInsert2(nums, target):\n",
    "    \"\"\"\n",
    "    input: List(int) nums\n",
    "           int target\n",
    "    output: int\n",
    "    \"\"\"\n",
    "    for i in range(len(nums)):\n",
    "        if(nums[i] >= target):\n",
    "            return i\n",
    "    return i+1"
   ]
  },
  {
   "cell_type": "code",
   "execution_count": 19,
   "metadata": {},
   "outputs": [
    {
     "name": "stdout",
     "output_type": "stream",
     "text": [
      "2\n",
      "1\n",
      "4\n",
      "0\n"
     ]
    }
   ],
   "source": [
    "nums = [1, 3, 5, 6]\n",
    "targets = [5, 2, 7, 0]\n",
    "for target in targets:\n",
    "    print(searchInsert2(nums, target))"
   ]
  },
  {
   "cell_type": "markdown",
   "metadata": {},
   "source": [
    "## 9) If we list all the natural numbers below 10 that are multiples of 3 or 5, we get 3, 5, 6 and 9. The sum of these multiples is 23.\n",
    "### Test case: Input: 1000, Output: 233168"
   ]
  },
  {
   "cell_type": "code",
   "execution_count": 20,
   "metadata": {},
   "outputs": [],
   "source": [
    "def three_five_multipliers(N):\n",
    "    \"\"\"\n",
    "    input: integer N\n",
    "    output: integer\n",
    "    \"\"\"\n",
    "    nums = []\n",
    "    for n in range(N):\n",
    "        if(n % 3 == 0 or n % 5 == 0):\n",
    "            nums.append(n)\n",
    "        \n",
    "    return sum(nums)"
   ]
  },
  {
   "cell_type": "code",
   "execution_count": 21,
   "metadata": {},
   "outputs": [
    {
     "data": {
      "text/plain": [
       "233168"
      ]
     },
     "execution_count": 21,
     "metadata": {},
     "output_type": "execute_result"
    }
   ],
   "source": [
    "three_five_multipliers(1000)"
   ]
  },
  {
   "cell_type": "markdown",
   "metadata": {},
   "source": [
    "## 10) Given a string containing just the characters '(', ')', '{', '}', '[' and ']', determine if the input string is valid. \n",
    "## An input string is valid if:\n",
    "### Open brackets must be closed by the same type of brackets.\n",
    "### Open brackets must be closed in the correct order.\n",
    "### Note that an empty string is also considered valid.\n",
    "### Test case: Input: \"()\", Output: True; Input: \"()[]{}\", Output: true; Input: \"(]\", Output: false"
   ]
  },
  {
   "cell_type": "code",
   "execution_count": 22,
   "metadata": {},
   "outputs": [],
   "source": [
    "def isValidPrantheses(s):\n",
    "    \"\"\"\n",
    "    input: string s\n",
    "    outout: bool\n",
    "    \"\"\"\n",
    "    stack = []\n",
    "    char_dict = {\"(\" : 1, \")\" : -1,\n",
    "                 \"[\" : 3, \"]\" : -3,\n",
    "                 \"{\" : 5, \"}\" : -5}\n",
    "\n",
    "    for char in s:\n",
    "        char_value = char_dict[char]\n",
    "        if(char_value > 0):\n",
    "            stack.append(char_value)\n",
    "        elif(len(stack) > 0 and (stack[-1] + char_value) == 0):\n",
    "            stack.pop()\n",
    "        else:\n",
    "            return False\n",
    "\n",
    "    if(len(stack) == 0):\n",
    "        return True\n",
    "    else:\n",
    "        return False"
   ]
  },
  {
   "cell_type": "code",
   "execution_count": 23,
   "metadata": {},
   "outputs": [
    {
     "name": "stdout",
     "output_type": "stream",
     "text": [
      "True\n",
      "True\n",
      "False\n",
      "True\n",
      "True\n"
     ]
    }
   ],
   "source": [
    "for s in [\"()\", \"()[]{}\", \"(])\", \"\", \"{[]}\"]:\n",
    "    print(isValidPrantheses(s))"
   ]
  },
  {
   "cell_type": "markdown",
   "metadata": {},
   "source": [
    "## 11) The Palindrome number less than 100,000, divisible by 109:\n",
    "### Test case: Input: 100,000, Output: [545, 5995, 15151, 64746, 74447, 79897, 84148, 89598, 99299]"
   ]
  },
  {
   "cell_type": "code",
   "execution_count": 54,
   "metadata": {},
   "outputs": [],
   "source": [
    "def isPalindrome_109(N):\n",
    "    \"\"\"\n",
    "    input: int N\n",
    "    ouput: List(int)\n",
    "    \"\"\"\n",
    "    def isPalindrome(N):\n",
    "        \"\"\"\n",
    "        input: int N\n",
    "        output: bool\n",
    "        \"\"\"\n",
    "        if(N % 10 == 0 or N < 0):\n",
    "            return False\n",
    "\n",
    "        if(int(str(N)[::-1]) == N):\n",
    "            return True\n",
    "        else:\n",
    "            return False\n",
    "    \n",
    "    nums = []\n",
    "    for n in range(N):\n",
    "        if(isPalindrome(n) and n % 109 == 0):\n",
    "            nums.append(n)\n",
    "            \n",
    "    return nums"
   ]
  },
  {
   "cell_type": "code",
   "execution_count": 55,
   "metadata": {},
   "outputs": [
    {
     "data": {
      "text/plain": [
       "[545, 5995, 15151, 64746, 74447, 79897, 84148, 89598, 99299]"
      ]
     },
     "execution_count": 55,
     "metadata": {},
     "output_type": "execute_result"
    }
   ],
   "source": [
    "isPalindrome_109(10**5)"
   ]
  },
  {
   "cell_type": "markdown",
   "metadata": {},
   "source": [
    "## 12) Given an integer, write a function to determine if N is power of M\n",
    "### Test case for M=2: Input: 1, Output: True; Input: 16, Output: True; Input: 218, Output: False"
   ]
  },
  {
   "cell_type": "code",
   "execution_count": 26,
   "metadata": {},
   "outputs": [],
   "source": [
    "def isNPowerOfM(N, M):\n",
    "    \"\"\"\n",
    "    input: int N\n",
    "           int M\n",
    "    output: bool\n",
    "    \"\"\"\n",
    "    while(N > 1):\n",
    "        N = N/M\n",
    "    \n",
    "    if(N == 1):\n",
    "        return True\n",
    "    else:\n",
    "        return False   "
   ]
  },
  {
   "cell_type": "code",
   "execution_count": 27,
   "metadata": {},
   "outputs": [
    {
     "name": "stdout",
     "output_type": "stream",
     "text": [
      "True\n",
      "True\n",
      "False\n"
     ]
    }
   ],
   "source": [
    "for N in [1, 16, 218]:\n",
    "    print(isNPowerOfM(N, 2))"
   ]
  },
  {
   "cell_type": "markdown",
   "metadata": {},
   "source": [
    "## 13) Calculate $x^y$ with using only operator +"
   ]
  },
  {
   "cell_type": "code",
   "execution_count": 28,
   "metadata": {},
   "outputs": [],
   "source": [
    "def x_y_pow_with_sum(x, y):\n",
    "    \"\"\"\n",
    "    input: int x\n",
    "           int y\n",
    "    output: int\n",
    "    \"\"\"\n",
    "    \n",
    "    def pow_x_2(x):\n",
    "        count = 1\n",
    "        temp = 0\n",
    "        while(count <= x):\n",
    "            temp += x\n",
    "            count += 1\n",
    "        return temp\n",
    "    \n",
    "    def multiply_x_y(x, y):\n",
    "        count = 1\n",
    "        temp = 0\n",
    "        while(count <= y):\n",
    "            temp += x\n",
    "            count += 1\n",
    "        return temp\n",
    "\n",
    "    power = pow_x_2(x)\n",
    "    count = 1\n",
    "\n",
    "    while(count <= y-2): \n",
    "        power = multiply_x_y(power, x)\n",
    "        count += 1\n",
    "            \n",
    "    return power"
   ]
  },
  {
   "cell_type": "code",
   "execution_count": 29,
   "metadata": {},
   "outputs": [
    {
     "data": {
      "text/plain": [
       "81"
      ]
     },
     "execution_count": 29,
     "metadata": {},
     "output_type": "execute_result"
    }
   ],
   "source": [
    "x_y_pow_with_sum(3, 4)"
   ]
  },
  {
   "cell_type": "markdown",
   "metadata": {},
   "source": [
    "## 14) Calculate $\\sqrt[n]{x}$ for float x > 0 and int n >= 2"
   ]
  },
  {
   "cell_type": "code",
   "execution_count": 60,
   "metadata": {},
   "outputs": [],
   "source": [
    "def sqrt_n_x(x, n):\n",
    "    \"\"\"\n",
    "    input: float x\n",
    "           int n\n",
    "    output: float\n",
    "    \"\"\"\n",
    "    def Newton(x, n, x0):\n",
    "        dev = n * x0**(n-1)\n",
    "        f = x0**n - x\n",
    "        \n",
    "        return x0 - f/dev\n",
    "    \n",
    "    count = 0\n",
    "    x0 = 1e-6\n",
    "    while(count <= 1e4):\n",
    "        x0 = Newton(x, n, x0)\n",
    "        count += 1\n",
    "        \n",
    "        \n",
    "    return x0  "
   ]
  },
  {
   "cell_type": "code",
   "execution_count": 65,
   "metadata": {},
   "outputs": [
    {
     "name": "stdout",
     "output_type": "stream",
     "text": [
      "1.414213562373095\n",
      "2.0\n"
     ]
    }
   ],
   "source": [
    "for x, n in zip([2, 8] , [2, 3]):\n",
    "    print(sqrt_n_x(x, n))"
   ]
  },
  {
   "cell_type": "markdown",
   "metadata": {},
   "source": [
    "## 15) Given an array of integers, find if the array contains any duplicates. Your function should return true if any value appears at least twice in the array, and it should return false if every element is distinct.\n",
    "### Test case: Input: [1,2,3,1], Output: True"
   ]
  },
  {
   "cell_type": "code",
   "execution_count": 48,
   "metadata": {},
   "outputs": [],
   "source": [
    "def containsDuplicate1(nums):\n",
    "    \"\"\"\n",
    "    input: List[int]\n",
    "    output: bool\n",
    "    \"\"\"\n",
    "    if(len(nums) == 1):\n",
    "        return False\n",
    "\n",
    "    sorted_nums = sorted(nums)\n",
    "\n",
    "    for i in range(1, len(sorted_nums)):\n",
    "        if(sorted_nums[i-1] == sorted_nums[i]):\n",
    "            return True\n",
    "    return False"
   ]
  },
  {
   "cell_type": "code",
   "execution_count": 52,
   "metadata": {},
   "outputs": [],
   "source": [
    "def containsDuplicate2(nums):\n",
    "    \"\"\"\n",
    "    input: List[int]\n",
    "    output: bool\n",
    "    \"\"\"\n",
    "    \n",
    "    return not len(set(nums)) == len(nums)"
   ]
  },
  {
   "cell_type": "code",
   "execution_count": 53,
   "metadata": {},
   "outputs": [
    {
     "name": "stdout",
     "output_type": "stream",
     "text": [
      "True\n",
      "True\n"
     ]
    }
   ],
   "source": [
    "print(containsDuplicate1([1,2,3,1]))\n",
    "print(containsDuplicate2([1,2,3,1]))"
   ]
  },
  {
   "cell_type": "markdown",
   "metadata": {},
   "source": [
    "## 16) Write an algorithm to determine if a number is \"happy\". A happy number is a number defined by the following process: Starting with any positive integer, replace the number by the sum of the squares of its digits, and repeat the process until the number equals 1 (where it will stay), or it loops endlessly in a cycle which does not include 1. Those numbers for which this process ends in 1 are happy numbers.\n",
    "### Test case: Input: 19, Output: True"
   ]
  },
  {
   "cell_type": "code",
   "execution_count": 29,
   "metadata": {},
   "outputs": [],
   "source": [
    "def isHappy(n):\n",
    "    def square(n):\n",
    "        return sum([int(i)**2 for i in str(n)])\n",
    "    \n",
    "    happyFlag = n\n",
    "    count = 1\n",
    "    while(happyFlag != 1 and count < 1000):\n",
    "        happyFlag = square(happyFlag)\n",
    "        count += 1\n",
    "\n",
    "    if(count >= 1000):\n",
    "        return False\n",
    "    else:\n",
    "        return True\n"
   ]
  },
  {
   "cell_type": "code",
   "execution_count": 30,
   "metadata": {},
   "outputs": [
    {
     "data": {
      "text/plain": [
       "True"
      ]
     },
     "execution_count": 30,
     "metadata": {},
     "output_type": "execute_result"
    }
   ],
   "source": [
    "isHappy(19)"
   ]
  },
  {
   "cell_type": "markdown",
   "metadata": {},
   "source": [
    "## 17) Given two strings s and t, determine if they are isomorphic. Two strings are isomorphic if the characters in s can be replaced to get t. All occurrences of a character must be replaced with another character while preserving the order of characters. No two characters may map to the same character but a character may map to itself.\n",
    "## Test case: Input: s = \"egg\", t = \"add\", Output: True"
   ]
  },
  {
   "cell_type": "code",
   "execution_count": 24,
   "metadata": {},
   "outputs": [],
   "source": [
    "def isIsomorphic1(s, t):\n",
    "    \"\"\"\n",
    "    input: str s\n",
    "           str t\n",
    "    output: bool\n",
    "    \"\"\"\n",
    "    return len(set(zip(s,t))) == len(set(s)) == len(set(t))"
   ]
  },
  {
   "cell_type": "code",
   "execution_count": 25,
   "metadata": {},
   "outputs": [],
   "source": [
    "def isIsomorphic2(s, t):\n",
    "    \"\"\"\n",
    "    input: str s\n",
    "           str t\n",
    "    output: bool\n",
    "    \"\"\"\n",
    "    return [s.find(i) for i in s] == [t.find(i) for i in t]"
   ]
  },
  {
   "cell_type": "code",
   "execution_count": 26,
   "metadata": {},
   "outputs": [
    {
     "name": "stdout",
     "output_type": "stream",
     "text": [
      "True\n",
      "True\n"
     ]
    }
   ],
   "source": [
    "s, t = \"add\", \"egg\"\n",
    "print(isIsomorphic1(s, t))\n",
    "print(isIsomorphic2(s, t))"
   ]
  },
  {
   "cell_type": "markdown",
   "metadata": {},
   "source": [
    "## 18) Given an array of n positive integers and a positive integer s, find the minimal length of a contiguous subarray of which the sum ≥ s. If there isn't one, return 0 instead.\n",
    "### Input: s = 7, nums = [2,3,1,2,4,3], Output: 2"
   ]
  },
  {
   "cell_type": "code",
   "execution_count": 1,
   "metadata": {},
   "outputs": [],
   "source": [
    "def minSubArrayLen(s, nums):\n",
    "    \"\"\"\n",
    "    input: int s\n",
    "           List[int] nums\n",
    "    output: int\n",
    "    \"\"\"\n",
    "    minLen = len(nums) + 1\n",
    "    total = 0\n",
    "    start =  0\n",
    "    for i in range(len(nums)):\n",
    "        total += nums[i]\n",
    "        while total >=  s:\n",
    "            minLen = min(i - start + 1, minLen)\n",
    "            total = total - nums[start]\n",
    "            start = start + 1\n",
    "        \n",
    "    return 0 if minLen > len(nums) else minLen"
   ]
  },
  {
   "cell_type": "code",
   "execution_count": 2,
   "metadata": {},
   "outputs": [
    {
     "data": {
      "text/plain": [
       "2"
      ]
     },
     "execution_count": 2,
     "metadata": {},
     "output_type": "execute_result"
    }
   ],
   "source": [
    "minSubArrayLen( s = 7, nums = [2,3,1,2,4,3])"
   ]
  },
  {
   "cell_type": "markdown",
   "metadata": {},
   "source": [
    "## 19) Given a non-empty array of integers, every element appears twice except for one. Find that single one.\n",
    "### Test case: [4,1,2,1,2], Output: 4"
   ]
  },
  {
   "cell_type": "code",
   "execution_count": 10,
   "metadata": {},
   "outputs": [],
   "source": [
    "def singleNumber1(nums):\n",
    "    \"\"\"\n",
    "    input: list(int) nums\n",
    "    output: int\n",
    "    \"\"\"\n",
    "    return sum(list(set(nums)))*2 - sum(nums)\n"
   ]
  },
  {
   "cell_type": "code",
   "execution_count": 11,
   "metadata": {},
   "outputs": [],
   "source": [
    "def singleNumber2(nums):\n",
    "    single = []\n",
    "    for x in nums:\n",
    "        if x in single:\n",
    "            single.remove(x)\n",
    "        else:\n",
    "            single.append(x)\n",
    "            \n",
    "    return single[0]"
   ]
  },
  {
   "cell_type": "code",
   "execution_count": 12,
   "metadata": {},
   "outputs": [
    {
     "name": "stdout",
     "output_type": "stream",
     "text": [
      "4\n",
      "4\n"
     ]
    }
   ],
   "source": [
    "nums = [4,1,2,1,2]\n",
    "print(singleNumber1(nums))\n",
    "print(singleNumber2(nums))"
   ]
  },
  {
   "cell_type": "markdown",
   "metadata": {},
   "source": [
    "## 20) Given a string, find the first non-repeating character in it and return it's index. If it doesn't exist, return -1.\n",
    "### Test case: s = \"loveleetcode\", Output = 2."
   ]
  },
  {
   "cell_type": "code",
   "execution_count": 14,
   "metadata": {},
   "outputs": [],
   "source": [
    "def firstUniqChar(s):\n",
    "    \"\"\"\n",
    "    :type s: str\n",
    "    :rtype: int\n",
    "    \"\"\"\n",
    "    s_list = list(s)\n",
    "    s_d = dict([(x,0) for x in list(set(s))])\n",
    "    for x in s:\n",
    "        s_d[x] += 1\n",
    "\n",
    "    key_list = []\n",
    "    for key, val in s_d.items():\n",
    "        if val == 1:\n",
    "            key_list.append(key)\n",
    "\n",
    "    if not key_list:\n",
    "        return -1\n",
    "    else:\n",
    "        return min(s.find(x) for x in key_list)"
   ]
  },
  {
   "cell_type": "code",
   "execution_count": 15,
   "metadata": {},
   "outputs": [
    {
     "data": {
      "text/plain": [
       "2"
      ]
     },
     "execution_count": 15,
     "metadata": {},
     "output_type": "execute_result"
    }
   ],
   "source": [
    "firstUniqChar(\"loveleetcode\")"
   ]
  },
  {
   "cell_type": "markdown",
   "metadata": {},
   "source": [
    "## 21) Given an array of characters, compress it in-place. The length after compression must always be smaller than or equal to the original array. Every element of the array should be a character (not int) of length 1. After you are done modifying the input array in-place, return the new length of the array.\n",
    "### Test case: Input: [\"a\",\"a\",\"b\",\"b\",\"c\",\"c\",\"c\"], Output: [\"a\",\"2\",\"b\",\"2\",\"c\",\"3\"]; Input: [\"a\",\"b\",\"b\",\"b\",\"b\",\"b\",\"b\",\"b\",\"b\",\"b\",\"b\",\"b\",\"b\"], Output: [\"a\",\"b\",\"1\",\"2\"]"
   ]
  },
  {
   "cell_type": "code",
   "execution_count": 39,
   "metadata": {},
   "outputs": [],
   "source": [
    "def compress(chars):\n",
    "    \"\"\"\n",
    "    input: List(str) chars\n",
    "    output List(str)\n",
    "    \"\"\"\n",
    "    dct = dict([(s,0) for s in list(set(chars))])\n",
    "    \n",
    "    for s in chars:\n",
    "        dct[s] += 1\n",
    "    flst = []\n",
    "    for key, val in dct.items():\n",
    "        if(val == 1):\n",
    "            flst.append(key)\n",
    "        elif(val > 9):\n",
    "            flst.append(key)\n",
    "            for s in str(val):\n",
    "                flst.append(s)\n",
    "        else:\n",
    "            flst.append(key)\n",
    "            flst.append(str(val))\n",
    "\n",
    "    return flst\n",
    "    \n",
    "    "
   ]
  },
  {
   "cell_type": "code",
   "execution_count": 40,
   "metadata": {},
   "outputs": [
    {
     "name": "stdout",
     "output_type": "stream",
     "text": [
      "['c', '3', 'a', '2', 'b', '2']\n",
      "['a', 'b', '1', '2']\n"
     ]
    }
   ],
   "source": [
    "print(compress([\"a\",\"a\",\"b\",\"b\",\"c\",\"c\",\"c\"]))\n",
    "print(compress([\"a\",\"b\",\"b\",\"b\",\"b\",\"b\",\"b\",\"b\",\"b\",\"b\",\"b\",\"b\",\"b\"]))"
   ]
  },
  {
   "cell_type": "markdown",
   "metadata": {},
   "source": [
    "## 22) Fibonacci Numbers"
   ]
  },
  {
   "cell_type": "code",
   "execution_count": 47,
   "metadata": {},
   "outputs": [],
   "source": [
    "def fib(N):\n",
    "    \"\"\"\n",
    "    :type N: int\n",
    "    :rtype: int\n",
    "    \"\"\"\n",
    "    if(N == 0):\n",
    "        return 0\n",
    "    if(N == 1):\n",
    "        return 1\n",
    "    if(N > 1):\n",
    "        return fib(N-1) + fib(N-2)"
   ]
  },
  {
   "cell_type": "code",
   "execution_count": 50,
   "metadata": {},
   "outputs": [
    {
     "name": "stdout",
     "output_type": "stream",
     "text": [
      "0\n",
      "1\n",
      "1\n",
      "2\n",
      "3\n",
      "5\n",
      "8\n",
      "13\n",
      "21\n",
      "34\n"
     ]
    }
   ],
   "source": [
    "for i in range(10):\n",
    "    print(fib(i))"
   ]
  },
  {
   "cell_type": "markdown",
   "metadata": {},
   "source": [
    "## 23) Adding two numbers in string format without casting"
   ]
  },
  {
   "cell_type": "code",
   "execution_count": 1,
   "metadata": {},
   "outputs": [],
   "source": [
    "def sumString(num1, num2):\n",
    "    \"\"\"\n",
    "    input: str num1\n",
    "           str num2\n",
    "    output: int num1 + num2\n",
    "    \"\"\"\n",
    "    def numString(num):\n",
    "        \"\"\"\n",
    "        a function to convert a str number to int\n",
    "        \"\"\"\n",
    "        dct = {\"1\" : 1, \"2\" : 2, \"3\" : 3, \"4\" : 4, \"5\" : 5,\n",
    "               \"6\" : 6, \"7\" : 7, \"8\" : 8, \"9\" : 9, \"0\" : 0\n",
    "              }\n",
    "        \n",
    "        length = len(num) - 1\n",
    "        number = 0\n",
    "        \n",
    "        for idx, val in enumerate(num):\n",
    "            number += dct[val] * 10**(length - idx)\n",
    "            \n",
    "        return number\n",
    "    \n",
    "    return numString(num1) + numString(num2)\n",
    "        \n",
    "        "
   ]
  },
  {
   "cell_type": "code",
   "execution_count": 4,
   "metadata": {},
   "outputs": [
    {
     "data": {
      "text/plain": [
       "49459"
      ]
     },
     "execution_count": 4,
     "metadata": {},
     "output_type": "execute_result"
    }
   ],
   "source": [
    "sumString(\"111\", \"49348\")"
   ]
  },
  {
   "cell_type": "markdown",
   "metadata": {},
   "source": [
    "## 24) Sum of binary numbers:"
   ]
  },
  {
   "cell_type": "code",
   "execution_count": 4,
   "metadata": {},
   "outputs": [],
   "source": [
    "def binSum(num1, num2):\n",
    "    \"\"\"\n",
    "    inputs: str num1\n",
    "            str num2\n",
    "    output: str\n",
    "    \"\"\"\n",
    "    binNum1 = int(num1, 2)\n",
    "    binNum2 = int(num2, 2)\n",
    "    \n",
    "    binSums = bin(binNum1 + binNum2)[2:]\n",
    "    \n",
    "    return binSums"
   ]
  },
  {
   "cell_type": "code",
   "execution_count": 5,
   "metadata": {},
   "outputs": [
    {
     "data": {
      "text/plain": [
       "'100'"
      ]
     },
     "execution_count": 5,
     "metadata": {},
     "output_type": "execute_result"
    }
   ],
   "source": [
    "binSum(\"11\", \"1\")"
   ]
  },
  {
   "cell_type": "markdown",
   "metadata": {},
   "source": [
    "## 25) Most common characters in words"
   ]
  },
  {
   "cell_type": "code",
   "execution_count": 68,
   "metadata": {},
   "outputs": [],
   "source": [
    "def mostCommonChars(strs):\n",
    "    \"\"\"\n",
    "    input: List[str]\n",
    "    output: List[str]\n",
    "    \"\"\"\n",
    "    from collections import Counter\n",
    "    results = []\n",
    "    cnt = Counter(strs[0])\n",
    "    for s in strs[1:]:\n",
    "        cnt &= Counter(s)\n",
    "        \n",
    "    return list(cnt.elements())"
   ]
  },
  {
   "cell_type": "code",
   "execution_count": 69,
   "metadata": {},
   "outputs": [
    {
     "data": {
      "text/plain": [
       "['e', 'l', 'l']"
      ]
     },
     "execution_count": 69,
     "metadata": {},
     "output_type": "execute_result"
    }
   ],
   "source": [
    "mostCommonChars(['bella', 'label', 'roller'])"
   ]
  },
  {
   "cell_type": "markdown",
   "metadata": {},
   "source": [
    "## 26) Longest palindrome chars"
   ]
  },
  {
   "cell_type": "code",
   "execution_count": 3,
   "metadata": {},
   "outputs": [],
   "source": [
    "def longestPalindrome(chars):\n",
    "    \"\"\"\n",
    "    input: string charts\n",
    "    output: int\n",
    "    \"\"\"\n",
    "    from collections import Counter\n",
    "    dct = dict(Counter(chars))\n",
    "    \n",
    "    count = 0\n",
    "    flag = False\n",
    "    for key, val in dct.items():\n",
    "        if(val % 2 == 0):\n",
    "            count += val\n",
    "        else:\n",
    "            count += val -1\n",
    "            flag = True\n",
    "    if flag:\n",
    "        count += 1\n",
    "            \n",
    "    return count\n"
   ]
  },
  {
   "cell_type": "code",
   "execution_count": 5,
   "metadata": {},
   "outputs": [
    {
     "data": {
      "text/plain": [
       "11"
      ]
     },
     "execution_count": 5,
     "metadata": {},
     "output_type": "execute_result"
    }
   ],
   "source": [
    "longestPalindrome(\"aaaccccddaa\")"
   ]
  },
  {
   "cell_type": "markdown",
   "metadata": {},
   "source": [
    "## 27) Binary Search"
   ]
  },
  {
   "cell_type": "code",
   "execution_count": 27,
   "metadata": {},
   "outputs": [],
   "source": [
    "def binary_search(nums, target):\n",
    "    \"\"\"\n",
    "    Binary tree to return the index of target in nums\n",
    "    nums: List[int]\n",
    "    target: int\n",
    "    \"\"\"\n",
    "    N = len(nums)\n",
    "    left = 0\n",
    "    right = N - 1\n",
    "    while left <= right:\n",
    "        mid = int((left + right)/2)\n",
    "        if target < nums[mid]:\n",
    "            right = mid - 1\n",
    "        elif target > nums[mid]:\n",
    "            left = mid + 1\n",
    "        else:\n",
    "            return mid"
   ]
  },
  {
   "cell_type": "code",
   "execution_count": 33,
   "metadata": {},
   "outputs": [
    {
     "name": "stdout",
     "output_type": "stream",
     "text": [
      "CPU times: user 0 ns, sys: 0 ns, total: 0 ns\n",
      "Wall time: 15.5 µs\n"
     ]
    }
   ],
   "source": [
    "%%time\n",
    "nums = [1, 2, 3, 4, 5, 6, 7, 8, 9]\n",
    "target = 7\n",
    "binary_search(nums, target)"
   ]
  },
  {
   "cell_type": "markdown",
   "metadata": {},
   "source": [
    "## 27) Linear Search"
   ]
  },
  {
   "cell_type": "code",
   "execution_count": 29,
   "metadata": {},
   "outputs": [],
   "source": [
    "def linear_search(nums, target):\n",
    "    \"\"\"\n",
    "    Linear search to return the index target in nums\n",
    "    nums: List[int]\n",
    "    target: int\n",
    "    \"\"\"\n",
    "    for idx, num in enumerate(nums):\n",
    "        if num == target:\n",
    "            return idx"
   ]
  },
  {
   "cell_type": "code",
   "execution_count": 46,
   "metadata": {},
   "outputs": [
    {
     "name": "stdout",
     "output_type": "stream",
     "text": [
      "CPU times: user 0 ns, sys: 0 ns, total: 0 ns\n",
      "Wall time: 8.82 µs\n"
     ]
    }
   ],
   "source": [
    "%%time\n",
    "nums = [1, 2, 3, 4, 5, 6, 7, 8, 9]\n",
    "target = 7\n",
    "linear_search(nums, target)"
   ]
  },
  {
   "cell_type": "markdown",
   "metadata": {},
   "source": [
    "## 28) Merge Sort"
   ]
  },
  {
   "cell_type": "code",
   "execution_count": 67,
   "metadata": {},
   "outputs": [],
   "source": [
    "def merge_sort(arr): \n",
    "    if len(arr) > 1: \n",
    "        mid = len(arr)//2 #Finding the mid of the array \n",
    "        L = arr[:mid] # Dividing the array elements  \n",
    "        R = arr[mid:] # into 2 halves \n",
    "  \n",
    "        merge_sort(L) # Sorting the first half \n",
    "        merge_sort(R) # Sorting the second half \n",
    "  \n",
    "        i = j = k = 0\n",
    "          \n",
    "        # Copy data to temp arrays L[] and R[] \n",
    "        while i < len(L) and j < len(R): \n",
    "            if L[i] < R[j]: \n",
    "                arr[k] = L[i] \n",
    "                i+=1\n",
    "            else: \n",
    "                arr[k] = R[j] \n",
    "                j+=1\n",
    "            k+=1\n",
    "          \n",
    "        # Checking if any element was left \n",
    "        while i < len(L): \n",
    "            arr[k] = L[i] \n",
    "            i+=1\n",
    "            k+=1\n",
    "          \n",
    "        while j < len(R): \n",
    "            arr[k] = R[j] \n",
    "            j+=1\n",
    "            k+=1"
   ]
  },
  {
   "cell_type": "code",
   "execution_count": 69,
   "metadata": {},
   "outputs": [
    {
     "name": "stdout",
     "output_type": "stream",
     "text": [
      "[0, 1, 2, 3, 4, 5, 6, 7, 8, 9]\n"
     ]
    }
   ],
   "source": [
    "data = [9, 1, 7, 6, 2, 8, 5, 3, 4, 0]\n",
    "merge_sort(data)\n",
    "print(data)"
   ]
  },
  {
   "cell_type": "markdown",
   "metadata": {},
   "source": [
    "## 29) Find the missing number\n",
    "### Input: = [1, 2, 4, 6, 3, 7, 8], Output: 5"
   ]
  },
  {
   "cell_type": "code",
   "execution_count": 60,
   "metadata": {},
   "outputs": [],
   "source": [
    "def missingNo(nums):\n",
    "    n = len(nums) + 1\n",
    "    real_sum = n * (n + 1) / 2\n",
    "    temp_sum = sum(nums)\n",
    "    \n",
    "    return real_sum - temp_sum"
   ]
  },
  {
   "cell_type": "code",
   "execution_count": 63,
   "metadata": {},
   "outputs": [
    {
     "data": {
      "text/plain": [
       "5.0"
      ]
     },
     "execution_count": 63,
     "metadata": {},
     "output_type": "execute_result"
    }
   ],
   "source": [
    "nums = [1,2,3,4,6,7,8]\n",
    "missingNo(nums)"
   ]
  },
  {
   "cell_type": "markdown",
   "metadata": {},
   "source": [
    "## 30) Find pair with maximum product\n",
    "### Input:  {1, 4, 3, 6, 7, 0}, Output: {6,7}  \n",
    "### Input:  {-1, -3, -4, 2, 0, -5}, Output: {-4,-5} "
   ]
  },
  {
   "cell_type": "code",
   "execution_count": 70,
   "metadata": {},
   "outputs": [],
   "source": [
    "def maxProduct(nums):\n",
    "    max_a = max(nums)\n",
    "    nums.remove(max_a)\n",
    "    max_b = max(nums)\n",
    "    nums.remove(max_b)\n",
    "    \n",
    "    min_a = min(nums)\n",
    "    nums.remove(min_a)\n",
    "    min_b = min(nums)\n",
    "\n",
    "    \n",
    "    prod_a = max_a * max_b\n",
    "    prod_b = min_a * min_b\n",
    "    \n",
    "    if prod_a > prod_b:\n",
    "        return [max_a, max_b]\n",
    "    else:\n",
    "        return [min_a, min_b]"
   ]
  },
  {
   "cell_type": "code",
   "execution_count": 71,
   "metadata": {},
   "outputs": [
    {
     "data": {
      "text/plain": [
       "[7, 6]"
      ]
     },
     "execution_count": 71,
     "metadata": {},
     "output_type": "execute_result"
    }
   ],
   "source": [
    "nums = [1, 4, 3, 6, 7, 0]\n",
    "maxProduct(nums)"
   ]
  },
  {
   "cell_type": "code",
   "execution_count": 72,
   "metadata": {},
   "outputs": [
    {
     "data": {
      "text/plain": [
       "[-5, -4]"
      ]
     },
     "execution_count": 72,
     "metadata": {},
     "output_type": "execute_result"
    }
   ],
   "source": [
    "nums = [-1, -3, -4, 2, 0, -5]\n",
    "maxProduct(nums)"
   ]
  },
  {
   "cell_type": "code",
   "execution_count": null,
   "metadata": {},
   "outputs": [],
   "source": []
  },
  {
   "cell_type": "code",
   "execution_count": 4,
   "metadata": {},
   "outputs": [],
   "source": [
    "\n",
    "words = [\"mass\",\"as\",\"hero\",\"superhero\"]\n",
    "def stringMatching(words):\n",
    "    \"\"\"\n",
    "    input List[str]\n",
    "    output List[str]\n",
    "    \"\"\"\n",
    "#     for i, w in enumerate(words)\n",
    "    pass\n",
    "    \n",
    "    "
   ]
  },
  {
   "cell_type": "code",
   "execution_count": 6,
   "metadata": {},
   "outputs": [
    {
     "name": "stdout",
     "output_type": "stream",
     "text": [
      "['as', 'hero']\n"
     ]
    }
   ],
   "source": [
    "lst = []\n",
    "for i in range(len(words)):\n",
    "    for j in range(len(words)):\n",
    "        if words[i] in words[j] and i != j:\n",
    "            lst.append(words[i])\n",
    "\n",
    "print(lst)"
   ]
  },
  {
   "cell_type": "code",
   "execution_count": null,
   "metadata": {},
   "outputs": [],
   "source": []
  },
  {
   "cell_type": "code",
   "execution_count": 23,
   "metadata": {},
   "outputs": [],
   "source": [
    "def max_subarray(nums):\n",
    "    \"\"\"\n",
    "    Kadane's Algorithm\n",
    "    \"\"\"\n",
    "    max_current = max_global = nums[0]\n",
    "    \n",
    "    for i in range(1, len(nums)):\n",
    "        max_current = max(nums[i], max_current+nums[i])\n",
    "        \n",
    "        if max_current > max_global:\n",
    "            max_global = max_current\n",
    "            \n",
    "    return max_global"
   ]
  },
  {
   "cell_type": "code",
   "execution_count": 24,
   "metadata": {},
   "outputs": [
    {
     "data": {
      "text/plain": [
       "9"
      ]
     },
     "execution_count": 24,
     "metadata": {},
     "output_type": "execute_result"
    }
   ],
   "source": [
    "nums = [-1, 4, 5, -5, 5]\n",
    "max_subarray(nums)"
   ]
  },
  {
   "cell_type": "code",
   "execution_count": 27,
   "metadata": {},
   "outputs": [],
   "source": [
    "def is_anagram(a, b):\n",
    "    if len(a) != len(b):\n",
    "        return False\n",
    "\n",
    "    list_a = list(a)\n",
    "    for c in list(b):\n",
    "        if c in list_a:\n",
    "            list_a.remove(c)\n",
    "\n",
    "    if not list_a:\n",
    "        return True\n",
    "    else:\n",
    "        return False"
   ]
  },
  {
   "cell_type": "code",
   "execution_count": 29,
   "metadata": {},
   "outputs": [
    {
     "data": {
      "text/plain": [
       "False"
      ]
     },
     "execution_count": 29,
     "metadata": {},
     "output_type": "execute_result"
    }
   ],
   "source": [
    "is_anagram(\"bsat\", \"tab\")"
   ]
  },
  {
   "cell_type": "code",
   "execution_count": null,
   "metadata": {},
   "outputs": [],
   "source": []
  },
  {
   "cell_type": "code",
   "execution_count": null,
   "metadata": {},
   "outputs": [],
   "source": []
  },
  {
   "cell_type": "code",
   "execution_count": null,
   "metadata": {},
   "outputs": [],
   "source": []
  },
  {
   "cell_type": "code",
   "execution_count": 7,
   "metadata": {},
   "outputs": [],
   "source": [
    "from collections import Counter"
   ]
  },
  {
   "cell_type": "code",
   "execution_count": 8,
   "metadata": {},
   "outputs": [],
   "source": [
    "arr = [2,2,3,4]"
   ]
  },
  {
   "cell_type": "code",
   "execution_count": 9,
   "metadata": {},
   "outputs": [],
   "source": [
    "cnt = Counter(arr)"
   ]
  },
  {
   "cell_type": "code",
   "execution_count": 11,
   "metadata": {},
   "outputs": [
    {
     "data": {
      "text/plain": [
       "Counter({2: 2, 3: 1, 4: 1})"
      ]
     },
     "execution_count": 11,
     "metadata": {},
     "output_type": "execute_result"
    }
   ],
   "source": [
    "cnt"
   ]
  },
  {
   "cell_type": "code",
   "execution_count": 15,
   "metadata": {},
   "outputs": [],
   "source": [
    "for k,v in cnt.items():\n",
    "    if k == v:\n",
    "        lucky = k"
   ]
  },
  {
   "cell_type": "code",
   "execution_count": 16,
   "metadata": {},
   "outputs": [
    {
     "data": {
      "text/plain": [
       "2"
      ]
     },
     "execution_count": 16,
     "metadata": {},
     "output_type": "execute_result"
    }
   ],
   "source": [
    "lucky"
   ]
  },
  {
   "cell_type": "code",
   "execution_count": 17,
   "metadata": {},
   "outputs": [],
   "source": [
    "a = {2:4}"
   ]
  },
  {
   "cell_type": "code",
   "execution_count": 18,
   "metadata": {},
   "outputs": [
    {
     "data": {
      "text/plain": [
       "4"
      ]
     },
     "execution_count": 18,
     "metadata": {},
     "output_type": "execute_result"
    }
   ],
   "source": [
    "a[2]"
   ]
  },
  {
   "cell_type": "code",
   "execution_count": 22,
   "metadata": {},
   "outputs": [],
   "source": [
    "lst[]"
   ]
  },
  {
   "cell_type": "code",
   "execution_count": null,
   "metadata": {},
   "outputs": [],
   "source": []
  },
  {
   "cell_type": "code",
   "execution_count": null,
   "metadata": {},
   "outputs": [],
   "source": []
  },
  {
   "cell_type": "code",
   "execution_count": null,
   "metadata": {},
   "outputs": [],
   "source": [
    "    n = len(data)\n",
    "    left = 0\n",
    "    right = n - 1\n",
    "    while left <= right:\n",
    "        middle = (left + right) // 2\n",
    "        if value < data[middle]:\n",
    "            right = middle - 1\n",
    "        elif value > data[middle]:\n",
    "            left = middle + 1\n",
    "        else:\n",
    "            return middle"
   ]
  },
  {
   "cell_type": "markdown",
   "metadata": {},
   "source": [
    "# Max number of points in a line"
   ]
  },
  {
   "cell_type": "code",
   "execution_count": 6,
   "metadata": {},
   "outputs": [],
   "source": [
    "def maxPoints(points):\n",
    "    \"\"\"\n",
    "    :type points: List[List[int]]\n",
    "    :rtype: int\n",
    "    \"\"\"\n",
    "    lst = points\n",
    "    if not lst:\n",
    "        return 0\n",
    "    elif len(lst) == 1:\n",
    "        return 1\n",
    "\n",
    "    # calculating the slopes\n",
    "    from collections import Counter\n",
    "    slps = []\n",
    "    for i in lst:\n",
    "        for j in lst[lst.index(i)+1:]:\n",
    "            if (i[0] != j[0]):\n",
    "                slps.append( (j[1]-i[1])/(j[0] - i[0]))\n",
    "\n",
    "    slopes = dict(Counter(slps).most_common())\n",
    "\n",
    "    # now intercepts\n",
    "    intercepts = dict([(x, 0) for x in slopes.keys()])\n",
    "\n",
    "    for slp, count in slopes.items():\n",
    "        b = []\n",
    "        for i in lst:\n",
    "            b.append(slp * i[0] - i[1])\n",
    "        intercepts[slp] = Counter(b).most_common()[0][1]\n",
    "\n",
    "    bb = list(intercepts.values())\n",
    "\n",
    "    for b in bb:\n",
    "        if b != max(bb):\n",
    "            bb.remove(b)\n",
    "\n",
    "    if not bb:\n",
    "        return len(points)\n",
    "    else:\n",
    "        return max(bb)"
   ]
  },
  {
   "cell_type": "code",
   "execution_count": 7,
   "metadata": {},
   "outputs": [
    {
     "data": {
      "text/plain": [
       "4"
      ]
     },
     "execution_count": 7,
     "metadata": {},
     "output_type": "execute_result"
    }
   ],
   "source": [
    "points = [[1,1],[3,2],[5,3],[4,1],[2,3],[1,4]]\n",
    "maxPoints(points)"
   ]
  },
  {
   "cell_type": "markdown",
   "metadata": {},
   "source": [
    "# Max consecutive 1s in a binary list."
   ]
  },
  {
   "cell_type": "code",
   "execution_count": 12,
   "metadata": {},
   "outputs": [],
   "source": [
    "def findMaxConsecutiveOnes(nums):\n",
    "    \"\"\"\n",
    "    :type nums: List[int]\n",
    "    :rtype: int\n",
    "    \"\"\"\n",
    "\n",
    "    lst = []\n",
    "    temp = 0\n",
    "    for i in nums:\n",
    "\n",
    "        temp += i\n",
    "        temp *= i\n",
    "        lst.append(temp)\n",
    "\n",
    "    return max(lst)"
   ]
  },
  {
   "cell_type": "code",
   "execution_count": 13,
   "metadata": {},
   "outputs": [],
   "source": [
    "def findMaxConsecutiveOnes2(nums):\n",
    "    \"\"\"\n",
    "    :type nums: List[int]\n",
    "    :rtype: int\n",
    "    \"\"\"\n",
    "    string = str(nums).replace(',','').replace('[','').replace(']','').replace(' ', '')\n",
    "    string2 = string.split('0')\n",
    "    string2.sort(reverse=True)\n",
    "    return len(string2[0])"
   ]
  },
  {
   "cell_type": "code",
   "execution_count": 14,
   "metadata": {},
   "outputs": [
    {
     "name": "stdout",
     "output_type": "stream",
     "text": [
      "3\n",
      "3\n"
     ]
    }
   ],
   "source": [
    "print(findMaxConsecutiveOnes([1,0,1,1,1,0,0,1,1,0,1,1]))\n",
    "print(findMaxConsecutiveOnes2([1,0,1,1,1,0,0,1,1,0,1,1]))"
   ]
  },
  {
   "cell_type": "code",
   "execution_count": 34,
   "metadata": {},
   "outputs": [],
   "source": [
    "s = [\"h\",\"e\",\"l\",\"l\",\"o\"]"
   ]
  },
  {
   "cell_type": "code",
   "execution_count": 35,
   "metadata": {},
   "outputs": [],
   "source": [
    "s = \"\".join(s)\n",
    "\n",
    "s = list(s[::-1])\n"
   ]
  },
  {
   "cell_type": "code",
   "execution_count": 36,
   "metadata": {},
   "outputs": [
    {
     "data": {
      "text/plain": [
       "['o', 'l', 'l', 'e', 'h']"
      ]
     },
     "execution_count": 36,
     "metadata": {},
     "output_type": "execute_result"
    }
   ],
   "source": [
    "s"
   ]
  },
  {
   "cell_type": "code",
   "execution_count": 33,
   "metadata": {},
   "outputs": [
    {
     "data": {
      "text/plain": [
       "['o', 'l', 'l', 'e', 'h']"
      ]
     },
     "execution_count": 33,
     "metadata": {},
     "output_type": "execute_result"
    }
   ],
   "source": [
    "list(s[::-1])"
   ]
  },
  {
   "cell_type": "code",
   "execution_count": null,
   "metadata": {},
   "outputs": [],
   "source": []
  },
  {
   "cell_type": "code",
   "execution_count": 7,
   "metadata": {},
   "outputs": [],
   "source": [
    "def maxPoints(points):\n",
    "    \"\"\"\n",
    "    :type points: List[List[int]]\n",
    "    :rtype: int\n",
    "    \"\"\"\n",
    "\n",
    "    if not points:\n",
    "        return 0\n",
    "    elif len(points) == 1:\n",
    "        return 1\n",
    "\n",
    "    # calculating the slopes\n",
    "    from collections import Counter\n",
    "    list_slopes = []\n",
    "    for i in points:\n",
    "        for j in points[points.index(i)+1:]:\n",
    "            if (i[0] != j[0]):\n",
    "                list_slopes.append((j[1]-i[1])/(j[0] - i[0]))\n",
    "\n",
    "    dict_slopes = dict(Counter(list_slopes).most_common())\n",
    "\n",
    "    # now intercepts\n",
    "    dict_intercepts = dict([(x, 0) for x in dict_slopes.keys()])\n",
    "\n",
    "    for slope, count in dict_slopes.items():\n",
    "        b = []\n",
    "        for i in points:\n",
    "            b.append(slope * i[0] - i[1])\n",
    "        dict_intercepts[slope] = Counter(b).most_common()[0][1]\n",
    "\n",
    "    bb = list(dict_intercepts.values())\n",
    "    \n",
    "    if not bb:\n",
    "        return 1\n",
    "    else:\n",
    "        return max(bb)\n",
    "\n"
   ]
  },
  {
   "cell_type": "code",
   "execution_count": 10,
   "metadata": {},
   "outputs": [],
   "source": [
    "points = [[0,0], [0,0]]"
   ]
  },
  {
   "cell_type": "code",
   "execution_count": 9,
   "metadata": {},
   "outputs": [
    {
     "data": {
      "text/plain": [
       "1"
      ]
     },
     "execution_count": 9,
     "metadata": {},
     "output_type": "execute_result"
    }
   ],
   "source": [
    "maxPoints(points)"
   ]
  },
  {
   "cell_type": "code",
   "execution_count": 11,
   "metadata": {},
   "outputs": [],
   "source": [
    "from collections import Counter"
   ]
  },
  {
   "cell_type": "code",
   "execution_count": 13,
   "metadata": {},
   "outputs": [
    {
     "ename": "AttributeError",
     "evalue": "'list' object has no attribute 'x'",
     "output_type": "error",
     "traceback": [
      "\u001b[0;31m---------------------------------------------------------------------------\u001b[0m",
      "\u001b[0;31mAttributeError\u001b[0m                            Traceback (most recent call last)",
      "\u001b[0;32m<ipython-input-13-a7d4fbab8f54>\u001b[0m in \u001b[0;36m<module>\u001b[0;34m\u001b[0m\n\u001b[0;32m----> 1\u001b[0;31m \u001b[0mpoints\u001b[0m\u001b[0;34m[\u001b[0m\u001b[0;36m0\u001b[0m\u001b[0;34m]\u001b[0m\u001b[0;34m.\u001b[0m\u001b[0mx\u001b[0m\u001b[0;34m\u001b[0m\u001b[0;34m\u001b[0m\u001b[0m\n\u001b[0m",
      "\u001b[0;31mAttributeError\u001b[0m: 'list' object has no attribute 'x'"
     ]
    }
   ],
   "source": [
    "points[0].x"
   ]
  },
  {
   "cell_type": "code",
   "execution_count": null,
   "metadata": {},
   "outputs": [],
   "source": []
  },
  {
   "cell_type": "code",
   "execution_count": 20,
   "metadata": {},
   "outputs": [],
   "source": [
    "slps = slopes(lst)"
   ]
  },
  {
   "cell_type": "code",
   "execution_count": 30,
   "metadata": {},
   "outputs": [
    {
     "data": {
      "text/plain": [
       "{-1.0: 6, 0.5: 3, 0.0: 2, 2.0: 2, -0.25: 1}"
      ]
     },
     "execution_count": 30,
     "metadata": {},
     "output_type": "execute_result"
    }
   ],
   "source": [
    "slps"
   ]
  },
  {
   "cell_type": "code",
   "execution_count": 22,
   "metadata": {},
   "outputs": [],
   "source": [
    "intercepts = dict([(x,0) for x in slps.keys()])"
   ]
  },
  {
   "cell_type": "code",
   "execution_count": 23,
   "metadata": {},
   "outputs": [
    {
     "data": {
      "text/plain": [
       "{-1.0: 0, 0.5: 0, 0.0: 0, 2.0: 0, -0.25: 0}"
      ]
     },
     "execution_count": 23,
     "metadata": {},
     "output_type": "execute_result"
    }
   ],
   "source": [
    "intercepts"
   ]
  },
  {
   "cell_type": "code",
   "execution_count": null,
   "metadata": {},
   "outputs": [],
   "source": []
  },
  {
   "cell_type": "code",
   "execution_count": 28,
   "metadata": {},
   "outputs": [],
   "source": [
    "intercepts = dict([(x,0) for x in slps.keys()])\n",
    "for slp, count in slps.items():\n",
    "    b = []\n",
    "    for i in lst:\n",
    "        b.append(slp * i[0] - i[1])\n",
    "    intercepts[slp] = Counter(b).most_common()[0][1]\n",
    "    \n",
    "    \n",
    "    "
   ]
  },
  {
   "cell_type": "code",
   "execution_count": 43,
   "metadata": {},
   "outputs": [
    {
     "data": {
      "text/plain": [
       "{-1.0: 6, 0.5: 3, 0.0: 2, 2.0: 2, -0.25: 1}"
      ]
     },
     "execution_count": 43,
     "metadata": {},
     "output_type": "execute_result"
    }
   ],
   "source": [
    "slps"
   ]
  },
  {
   "cell_type": "code",
   "execution_count": 44,
   "metadata": {},
   "outputs": [
    {
     "data": {
      "text/plain": [
       "{-1.0: 4, 0.5: 3, 0.0: 2, 2.0: 2, -0.25: 2}"
      ]
     },
     "execution_count": 44,
     "metadata": {},
     "output_type": "execute_result"
    }
   ],
   "source": [
    "intercepts    "
   ]
  },
  {
   "cell_type": "code",
   "execution_count": 37,
   "metadata": {},
   "outputs": [],
   "source": [
    "final = dict(zip(list(slps.values()) , list(intercepts.values())))"
   ]
  },
  {
   "cell_type": "code",
   "execution_count": 38,
   "metadata": {},
   "outputs": [
    {
     "data": {
      "text/plain": [
       "{6: 4, 3: 3, 2: 2, 1: 2}"
      ]
     },
     "execution_count": 38,
     "metadata": {},
     "output_type": "execute_result"
    }
   ],
   "source": [
    "final"
   ]
  },
  {
   "cell_type": "code",
   "execution_count": 10,
   "metadata": {},
   "outputs": [
    {
     "data": {
      "text/plain": [
       "(-1.0, 6)"
      ]
     },
     "execution_count": 10,
     "metadata": {},
     "output_type": "execute_result"
    }
   ],
   "source": [
    "from collections import Counter\n",
    "\n",
    "Counter(slopes).most_common()[0]"
   ]
  },
  {
   "cell_type": "code",
   "execution_count": 45,
   "metadata": {},
   "outputs": [
    {
     "data": {
      "text/plain": [
       "[4, 3, 2, 2, 2]"
      ]
     },
     "execution_count": 45,
     "metadata": {},
     "output_type": "execute_result"
    }
   ],
   "source": [
    "jj = [3, 6, 7]"
   ]
  },
  {
   "cell_type": "code",
   "execution_count": 46,
   "metadata": {},
   "outputs": [
    {
     "data": {
      "text/plain": [
       "4"
      ]
     },
     "execution_count": 46,
     "metadata": {},
     "output_type": "execute_result"
    }
   ],
   "source": [
    "jj = list(intercepts.values())\n",
    "for j in jj:\n",
    "    if j != max(jj):\n",
    "        jj.remove(j)\n",
    "\n",
    "max(jj)\n",
    "        "
   ]
  },
  {
   "cell_type": "code",
   "execution_count": 47,
   "metadata": {},
   "outputs": [
    {
     "ename": "TypeError",
     "evalue": "unhashable type: 'list'",
     "output_type": "error",
     "traceback": [
      "\u001b[0;31m---------------------------------------------------------------------------\u001b[0m",
      "\u001b[0;31mTypeError\u001b[0m                                 Traceback (most recent call last)",
      "\u001b[0;32m<ipython-input-47-cf5ee65a1e55>\u001b[0m in \u001b[0;36m<module>\u001b[0;34m\u001b[0m\n\u001b[0;32m----> 1\u001b[0;31m \u001b[0mset\u001b[0m\u001b[0;34m(\u001b[0m\u001b[0;34m[\u001b[0m  \u001b[0;34m[\u001b[0m\u001b[0;36m0\u001b[0m\u001b[0;34m,\u001b[0m\u001b[0;36m0\u001b[0m\u001b[0;34m]\u001b[0m\u001b[0;34m,\u001b[0m \u001b[0;34m[\u001b[0m\u001b[0;36m0\u001b[0m\u001b[0;34m,\u001b[0m\u001b[0;36m0\u001b[0m\u001b[0;34m]\u001b[0m\u001b[0;34m]\u001b[0m\u001b[0;34m)\u001b[0m\u001b[0;34m\u001b[0m\u001b[0;34m\u001b[0m\u001b[0m\n\u001b[0m",
      "\u001b[0;31mTypeError\u001b[0m: unhashable type: 'list'"
     ]
    }
   ],
   "source": [
    "set([  [0,0], [0,0]])"
   ]
  },
  {
   "cell_type": "code",
   "execution_count": 148,
   "metadata": {},
   "outputs": [],
   "source": [
    "import numpy as np"
   ]
  },
  {
   "cell_type": "code",
   "execution_count": 149,
   "metadata": {},
   "outputs": [],
   "source": [
    "array = np.zeros((row+2, col + 2))\n",
    "for i in range(row):\n",
    "    for j in range(col):\n",
    "        array[i+1][j+1] = lst[i][j] "
   ]
  },
  {
   "cell_type": "code",
   "execution_count": 150,
   "metadata": {},
   "outputs": [
    {
     "data": {
      "text/plain": [
       "array([[0., 0., 0., 0., 0., 0.],\n",
       "       [0., 0., 1., 0., 0., 0.],\n",
       "       [0., 1., 1., 1., 0., 0.],\n",
       "       [0., 0., 1., 0., 0., 0.],\n",
       "       [0., 1., 1., 0., 0., 0.],\n",
       "       [0., 0., 0., 0., 0., 0.]])"
      ]
     },
     "execution_count": 150,
     "metadata": {},
     "output_type": "execute_result"
    }
   ],
   "source": [
    "array"
   ]
  },
  {
   "cell_type": "code",
   "execution_count": 159,
   "metadata": {},
   "outputs": [],
   "source": [
    "count = []\n",
    "\n",
    "c = 0\n",
    "for i in range(1,row+2):\n",
    "    for j in range(1,col + 2):\n",
    "        if(array[i][j] == 1.0):\n",
    "            if(array[i-1][j] == 0):\n",
    "                count.append( (i-1,j))\n",
    "                c+= 1\n",
    "\n",
    "            if(array[i][j-1] == 0):\n",
    "                count.append( (i,j))\n",
    "                c+= 1\n",
    "                \n",
    "            if(array[i+1][j] == 0):\n",
    "                count.append( (i,j))\n",
    "                c+= 1\n",
    "                \n",
    "            if(array[i][j+1] == 0):\n",
    "                count.append( (i,j))\n",
    "                c+= 1\n"
   ]
  },
  {
   "cell_type": "code",
   "execution_count": 160,
   "metadata": {},
   "outputs": [
    {
     "data": {
      "text/plain": [
       "16"
      ]
     },
     "execution_count": 160,
     "metadata": {},
     "output_type": "execute_result"
    }
   ],
   "source": [
    "c"
   ]
  },
  {
   "cell_type": "code",
   "execution_count": 8,
   "metadata": {},
   "outputs": [],
   "source": [
    "nums = [2,1,2,5,3,2]"
   ]
  },
  {
   "cell_type": "code",
   "execution_count": 11,
   "metadata": {},
   "outputs": [
    {
     "data": {
      "text/plain": [
       "18"
      ]
     },
     "execution_count": 11,
     "metadata": {},
     "output_type": "execute_result"
    }
   ],
   "source": [
    "N = int(0.5 * len(nums))\n",
    "(len(nums) - N) * sum(list(set(nums))) - sum(nums)"
   ]
  },
  {
   "cell_type": "code",
   "execution_count": 73,
   "metadata": {},
   "outputs": [],
   "source": [
    "a = \"aaaba\""
   ]
  },
  {
   "cell_type": "code",
   "execution_count": 82,
   "metadata": {},
   "outputs": [],
   "source": [
    "def repeatedStringMatch(A, B):\n",
    "    \"\"\"\n",
    "    :type A: str\n",
    "    :type B: str\n",
    "    :rtype: int\n",
    "    \"\"\"\n",
    "    i = 1\n",
    "    lengthA = len(A)\n",
    "    Answer = -1\n",
    "    while lengthA < 10000:\n",
    "        temp = i * A\n",
    "        lengthA = len(temp)\n",
    "        if B in temp[:len(B)]:\n",
    "            Answer = i\n",
    "            Flag = False\n",
    "        else:\n",
    "            i += 1\n",
    "\n",
    "\n",
    "    return Answer"
   ]
  },
  {
   "cell_type": "code",
   "execution_count": 83,
   "metadata": {},
   "outputs": [
    {
     "data": {
      "text/plain": [
       "-1"
      ]
     },
     "execution_count": 83,
     "metadata": {},
     "output_type": "execute_result"
    }
   ],
   "source": [
    "repeatedStringMatch(\"abcabcabcabc\", \"abac\")"
   ]
  },
  {
   "cell_type": "markdown",
   "metadata": {},
   "source": [
    "## ?) Given ad 2D binary matrix filled with 0's and 1's, find the largest square containing only 1's and return its area.\n",
    "### Test case: Input: $\\left(\\begin{array}11& 0 &1 &0& 0 \\\\1 &0 &1& 1& 1 \\\\ 1& 1 &1 &1 &1 \\\\ 1& 0& 0 &1 &0 \\end{array}\\right)$ --> Output: 4"
   ]
  },
  {
   "cell_type": "code",
   "execution_count": null,
   "metadata": {},
   "outputs": [],
   "source": [
    "def maxSquare(binaryMatrix):\n",
    "    \"\"\"\n",
    "    input: array str (0,1)\n",
    "    output: int\n",
    "    \"\"\"\n",
    "    # check for no input\n",
    "    if not binaryMatrix:\n",
    "        return 0\n",
    "    \n",
    "    # find the number of rows and columns: (m,n)\n",
    "    m, n = len(binaryMatrix), len(binaryMatrix[0])\n",
    "    \n",
    "    # casting the matrix from str to int\n",
    "    for i in range(m):\n",
    "        for j in range(n):\n",
    "            binaryMatrix[i][j] = int(binaryMatrix[i][j])\n",
    "    \n"
   ]
  },
  {
   "cell_type": "code",
   "execution_count": null,
   "metadata": {},
   "outputs": [],
   "source": []
  },
  {
   "cell_type": "code",
   "execution_count": 45,
   "metadata": {},
   "outputs": [],
   "source": [
    "binaryMatrix = [[\"1\",\"0\",\"1\",\"0\",\"0\"],[\"1\",\"0\",\"1\",\"1\",\"1\"],[\"1\",\"1\",\"1\",\"1\",\"1\"],[\"1\",\"0\",\"0\",\"1\",\"0\"]]"
   ]
  },
  {
   "cell_type": "code",
   "execution_count": 37,
   "metadata": {},
   "outputs": [
    {
     "data": {
      "text/plain": [
       "[[1, 0, 1, 0, 0], [1, 0, 1, 1, 1], [1, 1, 1, 1, 1], [1, 0, 0, 1, 0]]"
      ]
     },
     "execution_count": 37,
     "metadata": {},
     "output_type": "execute_result"
    }
   ],
   "source": [
    "binaryMatrix"
   ]
  },
  {
   "cell_type": "code",
   "execution_count": 30,
   "metadata": {},
   "outputs": [
    {
     "data": {
      "text/plain": [
       "[1, 0, 1, 0, 0]"
      ]
     },
     "execution_count": 30,
     "metadata": {},
     "output_type": "execute_result"
    }
   ],
   "source": [
    "binaryMatrix[0]"
   ]
  },
  {
   "cell_type": "code",
   "execution_count": 48,
   "metadata": {},
   "outputs": [],
   "source": [
    "def maxarea(matrix):\n",
    "    \n",
    "    if not matrix:\n",
    "        return 0\n",
    "    r, c = len(matrix), len(matrix[0])\n",
    "    pre = cur = [0] * (c+1)\n",
    "    res = 0\n",
    "    for i in range(r):\n",
    "        for j in range(c):\n",
    "            cur[j+1] = (min(pre[j], pre[j+1], cur[j])+1)*int(matrix[i][j])\n",
    "            res = max(res, cur[j+1]**2)\n",
    "        pre = cur\n",
    "        cur = [0] * (c+1)\n",
    "    return res"
   ]
  },
  {
   "cell_type": "code",
   "execution_count": 49,
   "metadata": {},
   "outputs": [
    {
     "data": {
      "text/plain": [
       "4"
      ]
     },
     "execution_count": 49,
     "metadata": {},
     "output_type": "execute_result"
    }
   ],
   "source": [
    "maxarea(binaryMatrix)"
   ]
  },
  {
   "cell_type": "code",
   "execution_count": null,
   "metadata": {},
   "outputs": [],
   "source": []
  }
 ],
 "metadata": {
  "kernelspec": {
   "display_name": "Python 3",
   "language": "python",
   "name": "python3"
  },
  "language_info": {
   "codemirror_mode": {
    "name": "ipython",
    "version": 3
   },
   "file_extension": ".py",
   "mimetype": "text/x-python",
   "name": "python",
   "nbconvert_exporter": "python",
   "pygments_lexer": "ipython3",
   "version": "3.7.6"
  }
 },
 "nbformat": 4,
 "nbformat_minor": 2
}
