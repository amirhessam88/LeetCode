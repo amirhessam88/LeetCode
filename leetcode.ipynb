{
 "cells": [
  {
   "cell_type": "markdown",
   "metadata": {},
   "source": [
    "# Here is some of the questions I solved for coding interviews from LeetCode"
   ]
  },
  {
   "cell_type": "markdown",
   "metadata": {},
   "source": [
    "## 1) The count of prime numbers before non-negative number N.\n",
    "### Test case: Input = 10 --> Output: 4"
   ]
  },
  {
   "cell_type": "code",
   "execution_count": 2,
   "metadata": {},
   "outputs": [],
   "source": [
    "def countPrime(N):\n",
    "    \"\"\"\n",
    "    input: int N\n",
    "    output: int count\n",
    "    \"\"\"\n",
    "    def isPrime(M):\n",
    "        \"\"\"\n",
    "        input: int M\n",
    "        output: bool\n",
    "        \"\"\"\n",
    "        for m in range(2, M):\n",
    "            if(M % m == 0):\n",
    "                return False\n",
    "            \n",
    "        return True\n",
    "    \n",
    "    count = []\n",
    "    for n in range(2, N+1):\n",
    "        count.append(isPrime(n))\n",
    "    \n",
    "    return sum(count)\n",
    "        "
   ]
  },
  {
   "cell_type": "code",
   "execution_count": 2,
   "metadata": {},
   "outputs": [
    {
     "data": {
      "text/plain": [
       "4"
      ]
     },
     "execution_count": 2,
     "metadata": {},
     "output_type": "execute_result"
    }
   ],
   "source": [
    "countPrime(10)"
   ]
  },
  {
   "cell_type": "markdown",
   "metadata": {},
   "source": [
    "## 2) Given an array of integers, return indices of the two numbers such that they add up to a specific target. You may assume that each input would have exactly one solution, and you may not use the same element twice.\n",
    "### Test case: Inputs: array = [2, 7, 11, 15], target = 9 -->  Output = [0, 1]"
   ]
  },
  {
   "cell_type": "code",
   "execution_count": 1,
   "metadata": {},
   "outputs": [],
   "source": [
    "def TwoSum(nums, target):\n",
    "    \"\"\"\n",
    "    input: List(int) num\n",
    "           int target\n",
    "    output: list of indices\n",
    "    \"\"\"\n",
    "    for i in nums:\n",
    "        subTarget = int(target - i)\n",
    "        if(subTarget in nums):\n",
    "            return [nums.index(i), nums.index(subTarget)]\n",
    "        \n",
    "    return \"Does not exist\"\n",
    "    "
   ]
  },
  {
   "cell_type": "code",
   "execution_count": 3,
   "metadata": {},
   "outputs": [],
   "source": [
    "def TwoSum2(nums, target):\n",
    "    \"\"\"\n",
    "    input: List(int) num\n",
    "           int target\n",
    "    output: list of indices\n",
    "    \"\"\"\n",
    "    seen = {}\n",
    "    for idx, num in enumerate(nums):\n",
    "        num2 = int(target - num)\n",
    "        if num2 in seen:\n",
    "            return [seen[num2], idx]\n",
    "        else:\n",
    "            seen[num] = idx\n",
    "    "
   ]
  },
  {
   "cell_type": "code",
   "execution_count": 7,
   "metadata": {},
   "outputs": [
    {
     "name": "stdout",
     "output_type": "stream",
     "text": [
      "[0, 0]\n",
      "[0, 1]\n"
     ]
    }
   ],
   "source": [
    "nums = [5, 5]\n",
    "target = 10\n",
    "\n",
    "print(TwoSum(nums, target))\n",
    "print(TwoSum2(nums, target))"
   ]
  },
  {
   "cell_type": "markdown",
   "metadata": {},
   "source": [
    "## 3) Given a 32-bit signed integer, reverse digits of an integer.\n",
    "### Test case: Input: 123 --> Output: 321; Input: -123 --> Output: -321; Input: 120 --> Output: 21"
   ]
  },
  {
   "cell_type": "code",
   "execution_count": 1,
   "metadata": {},
   "outputs": [],
   "source": [
    "def ReverseDigits(N):\n",
    "    \"\"\"\n",
    "    input: int N\n",
    "    output: int \n",
    "    \"\"\"\n",
    "    if(N >= 0):\n",
    "        return int(str(N)[::-1])\n",
    "    \n",
    "    else:\n",
    "        return (-1) * int(str(abs(N))[::-1])"
   ]
  },
  {
   "cell_type": "code",
   "execution_count": 2,
   "metadata": {},
   "outputs": [
    {
     "name": "stdout",
     "output_type": "stream",
     "text": [
      "123 --> 321\n",
      "-123 --> -321\n",
      "120 --> 21\n"
     ]
    }
   ],
   "source": [
    "for N in [123, -123, 120]:\n",
    "    print(F\"{N} --> {ReverseDigits(N)}\")"
   ]
  },
  {
   "cell_type": "markdown",
   "metadata": {},
   "source": [
    "## 4) Determine whether an integer is a palindrome. An integer is a palindrome when it reads the same backward as forward.\n",
    "### Test case: Input: 121 --> Output: True; Input: -121 --> Output: False; Input: 10 --> Output: False"
   ]
  },
  {
   "cell_type": "code",
   "execution_count": 7,
   "metadata": {},
   "outputs": [],
   "source": [
    "def isPalindrome(N):\n",
    "    \"\"\"\n",
    "    input: int N\n",
    "    output: bool\n",
    "    \"\"\"\n",
    "    if(N % 10 == 0 or N < 0):\n",
    "        return False\n",
    "    \n",
    "    if(int(str(N)[::-1]) == N):\n",
    "        return True\n",
    "    else:\n",
    "        return False"
   ]
  },
  {
   "cell_type": "code",
   "execution_count": 8,
   "metadata": {},
   "outputs": [
    {
     "name": "stdout",
     "output_type": "stream",
     "text": [
      "121 --> True\n",
      "-121 --> False\n",
      "10 --> False\n"
     ]
    }
   ],
   "source": [
    "for N in [121, -121, 10]:\n",
    "    print(F\"{N} --> {isPalindrome(N)}\")"
   ]
  },
  {
   "cell_type": "markdown",
   "metadata": {},
   "source": [
    "## 5) Find the longest common prefix string amongst an array of strings.\n",
    "### Test case: Input: [\"flower\", \"flow\", \"flight\"] --> Output: \"fl\"; Input: [\"dog\", \"racecar\", \"car\"] --> Output: \" \""
   ]
  },
  {
   "cell_type": "code",
   "execution_count": 9,
   "metadata": {},
   "outputs": [],
   "source": [
    "def LongestPrefix(strs):\n",
    "    \"\"\"\n",
    "    input: List(str) strs\n",
    "    outout: str\n",
    "    \"\"\"\n",
    "    if not strs:\n",
    "        return \"\"\n",
    "    \n",
    "    minlength = min(strs)\n",
    "    for i in range(len(minlength)):\n",
    "        for s in strs:\n",
    "            if s[i] != minlength[i]:\n",
    "                return minlength[:i] if i > 0 else \"\"\n",
    "    \n",
    "    "
   ]
  },
  {
   "cell_type": "code",
   "execution_count": 10,
   "metadata": {},
   "outputs": [
    {
     "data": {
      "text/plain": [
       "'fl'"
      ]
     },
     "execution_count": 10,
     "metadata": {},
     "output_type": "execute_result"
    }
   ],
   "source": [
    "strs = [\"flower\", \"flow\", \"flight\"]\n",
    "LongestPrefix(strs)"
   ]
  },
  {
   "cell_type": "code",
   "execution_count": 11,
   "metadata": {},
   "outputs": [
    {
     "data": {
      "text/plain": [
       "''"
      ]
     },
     "execution_count": 11,
     "metadata": {},
     "output_type": "execute_result"
    }
   ],
   "source": [
    "strs = [\"dog\", \"racecar\", \"car\"]\n",
    "LongestPrefix(strs)"
   ]
  },
  {
   "cell_type": "markdown",
   "metadata": {},
   "source": [
    "## 6) Compute and return the square root of x, where x is guaranteed to be a non-negative integer. Since the return type is an integer, the decimal digits are truncated and only the integer part of the result is returned.\n",
    "### Test case: Input: 8 --> Output: 2"
   ]
  },
  {
   "cell_type": "code",
   "execution_count": 12,
   "metadata": {},
   "outputs": [],
   "source": [
    "def sqrt(x):\n",
    "    \"\"\"\n",
    "    input: int x\n",
    "    output: int\n",
    "    \"\"\"\n",
    "    return int(x ** (0.5))  "
   ]
  },
  {
   "cell_type": "code",
   "execution_count": 13,
   "metadata": {},
   "outputs": [
    {
     "data": {
      "text/plain": [
       "2"
      ]
     },
     "execution_count": 13,
     "metadata": {},
     "output_type": "execute_result"
    }
   ],
   "source": [
    "sqrt(8)"
   ]
  },
  {
   "cell_type": "markdown",
   "metadata": {},
   "source": [
    "## 7) Return the index of the first occurrence of needle in haystack, or -1 if needle is not part of haystack.\n",
    "### Test case: Input: haystack = \"hello\", needle = \"ll\", Output: 2; Input: haystack = \"aaaa\", needle = \"bba\", output = -1"
   ]
  },
  {
   "cell_type": "code",
   "execution_count": 14,
   "metadata": {},
   "outputs": [],
   "source": [
    "def strStr(haystack, needle):\n",
    "    \"\"\"\n",
    "    input: haystack str\n",
    "           needle str\n",
    "    output: int\n",
    "    \"\"\"\n",
    "    step = len(needle)\n",
    "    for i in range(len(haystack)):\n",
    "        if(haystack[i:i+step] == needle):\n",
    "            return i\n",
    "    \n",
    "    return -1"
   ]
  },
  {
   "cell_type": "code",
   "execution_count": 15,
   "metadata": {},
   "outputs": [
    {
     "data": {
      "text/plain": [
       "2"
      ]
     },
     "execution_count": 15,
     "metadata": {},
     "output_type": "execute_result"
    }
   ],
   "source": [
    "strStr(haystack = \"hello\", needle = \"ll\")"
   ]
  },
  {
   "cell_type": "code",
   "execution_count": 16,
   "metadata": {},
   "outputs": [
    {
     "data": {
      "text/plain": [
       "-1"
      ]
     },
     "execution_count": 16,
     "metadata": {},
     "output_type": "execute_result"
    }
   ],
   "source": [
    "strStr(haystack = \"aaaa\", needle = \"bba\")"
   ]
  },
  {
   "cell_type": "markdown",
   "metadata": {},
   "source": [
    "## 8) Given a sorted array and a target value, return the index if the target is found. If not, return the index where it would be if it were inserted in order. You may assume no duplicates in the array.\n",
    "### Test case: Input: [1, 3, 5, 6], 5, Output: 2; Input: [1, 3, 5, 6], 2, Output: 1; Input: [1, 3, 5, 6], 7, Output: 4; Input: [1, 3, 5, 6], 0, Output: 0"
   ]
  },
  {
   "cell_type": "code",
   "execution_count": 17,
   "metadata": {},
   "outputs": [],
   "source": [
    "def searchInsert1(nums, target):\n",
    "    \"\"\"\n",
    "    input: List(int) nums\n",
    "           int target\n",
    "    output: int\n",
    "    \"\"\"\n",
    "    nums.append(target)\n",
    "    nums_sorted = sorted(nums)\n",
    "    index = nums_sorted.index(target)\n",
    "    \n",
    "    return index"
   ]
  },
  {
   "cell_type": "code",
   "execution_count": 18,
   "metadata": {},
   "outputs": [],
   "source": [
    "def searchInsert2(nums, target):\n",
    "    \"\"\"\n",
    "    input: List(int) nums\n",
    "           int target\n",
    "    output: int\n",
    "    \"\"\"\n",
    "    for i in range(len(nums)):\n",
    "        if(nums[i] >= target):\n",
    "            return i\n",
    "    return i+1"
   ]
  },
  {
   "cell_type": "code",
   "execution_count": 19,
   "metadata": {},
   "outputs": [
    {
     "name": "stdout",
     "output_type": "stream",
     "text": [
      "2\n",
      "1\n",
      "4\n",
      "0\n"
     ]
    }
   ],
   "source": [
    "nums = [1, 3, 5, 6]\n",
    "targets = [5, 2, 7, 0]\n",
    "for target in targets:\n",
    "    print(searchInsert2(nums, target))"
   ]
  },
  {
   "cell_type": "markdown",
   "metadata": {},
   "source": [
    "## 9) If we list all the natural numbers below 10 that are multiples of 3 or 5, we get 3, 5, 6 and 9. The sum of these multiples is 23.\n",
    "### Test case: Input: 1000, Output: 233168"
   ]
  },
  {
   "cell_type": "code",
   "execution_count": 20,
   "metadata": {},
   "outputs": [],
   "source": [
    "def three_five_multipliers(N):\n",
    "    \"\"\"\n",
    "    input: integer N\n",
    "    output: integer\n",
    "    \"\"\"\n",
    "    nums = []\n",
    "    for n in range(N):\n",
    "        if(n % 3 == 0 or n % 5 == 0):\n",
    "            nums.append(n)\n",
    "        \n",
    "    return sum(nums)"
   ]
  },
  {
   "cell_type": "code",
   "execution_count": 21,
   "metadata": {},
   "outputs": [
    {
     "data": {
      "text/plain": [
       "233168"
      ]
     },
     "execution_count": 21,
     "metadata": {},
     "output_type": "execute_result"
    }
   ],
   "source": [
    "three_five_multipliers(1000)"
   ]
  },
  {
   "cell_type": "markdown",
   "metadata": {},
   "source": [
    "## 10) Given a string containing just the characters '(', ')', '{', '}', '[' and ']', determine if the input string is valid. \n",
    "## An input string is valid if:\n",
    "### Open brackets must be closed by the same type of brackets.\n",
    "### Open brackets must be closed in the correct order.\n",
    "### Note that an empty string is also considered valid.\n",
    "### Test case: Input: \"()\", Output: True; Input: \"()[]{}\", Output: true; Input: \"(]\", Output: false"
   ]
  },
  {
   "cell_type": "code",
   "execution_count": 22,
   "metadata": {},
   "outputs": [],
   "source": [
    "def isValidPrantheses(s):\n",
    "    \"\"\"\n",
    "    input: string s\n",
    "    outout: bool\n",
    "    O(N)\n",
    "    \"\"\"\n",
    "    stack = []\n",
    "    char_dict = {\"(\" : 1, \")\" : -1,\n",
    "                 \"[\" : 3, \"]\" : -3,\n",
    "                 \"{\" : 5, \"}\" : -5}\n",
    "\n",
    "    for char in s:\n",
    "        char_value = char_dict[char]\n",
    "        if(char_value > 0):\n",
    "            stack.append(char_value)\n",
    "        elif(len(stack) > 0 and (stack[-1] + char_value) == 0):\n",
    "            stack.pop()\n",
    "        else:\n",
    "            return False\n",
    "\n",
    "    if(len(stack) == 0):\n",
    "        return True\n",
    "    else:\n",
    "        return False"
   ]
  },
  {
   "cell_type": "code",
   "execution_count": 23,
   "metadata": {},
   "outputs": [
    {
     "name": "stdout",
     "output_type": "stream",
     "text": [
      "True\n",
      "True\n",
      "False\n",
      "True\n",
      "True\n"
     ]
    }
   ],
   "source": [
    "for s in [\"()\", \"()[]{}\", \"(])\", \"\", \"{[]}\"]:\n",
    "    print(isValidPrantheses(s))"
   ]
  },
  {
   "cell_type": "markdown",
   "metadata": {},
   "source": [
    "## 11) The Palindrome number less than 100,000, divisible by 109:\n",
    "### Test case: Input: 100,000, Output: [545, 5995, 15151, 64746, 74447, 79897, 84148, 89598, 99299]"
   ]
  },
  {
   "cell_type": "code",
   "execution_count": 54,
   "metadata": {},
   "outputs": [],
   "source": [
    "def isPalindrome_109(N):\n",
    "    \"\"\"\n",
    "    input: int N\n",
    "    ouput: List(int)\n",
    "    \"\"\"\n",
    "    def isPalindrome(N):\n",
    "        \"\"\"\n",
    "        input: int N\n",
    "        output: bool\n",
    "        \"\"\"\n",
    "        if(N % 10 == 0 or N < 0):\n",
    "            return False\n",
    "\n",
    "        if(int(str(N)[::-1]) == N):\n",
    "            return True\n",
    "        else:\n",
    "            return False\n",
    "    \n",
    "    nums = []\n",
    "    for n in range(N):\n",
    "        if(isPalindrome(n) and n % 109 == 0):\n",
    "            nums.append(n)\n",
    "            \n",
    "    return nums"
   ]
  },
  {
   "cell_type": "code",
   "execution_count": 55,
   "metadata": {},
   "outputs": [
    {
     "data": {
      "text/plain": [
       "[545, 5995, 15151, 64746, 74447, 79897, 84148, 89598, 99299]"
      ]
     },
     "execution_count": 55,
     "metadata": {},
     "output_type": "execute_result"
    }
   ],
   "source": [
    "isPalindrome_109(10**5)"
   ]
  },
  {
   "cell_type": "markdown",
   "metadata": {},
   "source": [
    "## 12) Given an integer, write a function to determine if N is power of M\n",
    "### Test case for M=2: Input: 1, Output: True; Input: 16, Output: True; Input: 218, Output: False"
   ]
  },
  {
   "cell_type": "code",
   "execution_count": 26,
   "metadata": {},
   "outputs": [],
   "source": [
    "def isNPowerOfM(N, M):\n",
    "    \"\"\"\n",
    "    input: int N\n",
    "           int M\n",
    "    output: bool\n",
    "    \"\"\"\n",
    "    while(N > 1):\n",
    "        N = N/M\n",
    "    \n",
    "    if(N == 1):\n",
    "        return True\n",
    "    else:\n",
    "        return False   "
   ]
  },
  {
   "cell_type": "code",
   "execution_count": 27,
   "metadata": {},
   "outputs": [
    {
     "name": "stdout",
     "output_type": "stream",
     "text": [
      "True\n",
      "True\n",
      "False\n"
     ]
    }
   ],
   "source": [
    "for N in [1, 16, 218]:\n",
    "    print(isNPowerOfM(N, 2))"
   ]
  },
  {
   "cell_type": "markdown",
   "metadata": {},
   "source": [
    "## 13) Calculate $x^y$ with using only operator +"
   ]
  },
  {
   "cell_type": "code",
   "execution_count": 28,
   "metadata": {},
   "outputs": [],
   "source": [
    "def x_y_pow_with_sum(x, y):\n",
    "    \"\"\"\n",
    "    input: int x\n",
    "           int y\n",
    "    output: int\n",
    "    \"\"\"\n",
    "    \n",
    "    def pow_x_2(x):\n",
    "        count = 1\n",
    "        temp = 0\n",
    "        while(count <= x):\n",
    "            temp += x\n",
    "            count += 1\n",
    "        return temp\n",
    "    \n",
    "    def multiply_x_y(x, y):\n",
    "        count = 1\n",
    "        temp = 0\n",
    "        while(count <= y):\n",
    "            temp += x\n",
    "            count += 1\n",
    "        return temp\n",
    "\n",
    "    power = pow_x_2(x)\n",
    "    count = 1\n",
    "\n",
    "    while(count <= y-2): \n",
    "        power = multiply_x_y(power, x)\n",
    "        count += 1\n",
    "            \n",
    "    return power"
   ]
  },
  {
   "cell_type": "code",
   "execution_count": 29,
   "metadata": {},
   "outputs": [
    {
     "data": {
      "text/plain": [
       "81"
      ]
     },
     "execution_count": 29,
     "metadata": {},
     "output_type": "execute_result"
    }
   ],
   "source": [
    "x_y_pow_with_sum(3, 4)"
   ]
  },
  {
   "cell_type": "markdown",
   "metadata": {},
   "source": [
    "## 14) Calculate $\\sqrt[n]{x}$ for float x > 0 and int n >= 2"
   ]
  },
  {
   "cell_type": "code",
   "execution_count": 60,
   "metadata": {},
   "outputs": [],
   "source": [
    "def sqrt_n_x(x, n):\n",
    "    \"\"\"\n",
    "    input: float x\n",
    "           int n\n",
    "    output: float\n",
    "    \"\"\"\n",
    "    def Newton(x, n, x0):\n",
    "        dev = n * x0**(n-1)\n",
    "        f = x0**n - x\n",
    "        \n",
    "        return x0 - f/dev\n",
    "    \n",
    "    count = 0\n",
    "    x0 = 1e-6\n",
    "    while(count <= 1e4):\n",
    "        x0 = Newton(x, n, x0)\n",
    "        count += 1\n",
    "        \n",
    "        \n",
    "    return x0  "
   ]
  },
  {
   "cell_type": "code",
   "execution_count": 65,
   "metadata": {},
   "outputs": [
    {
     "name": "stdout",
     "output_type": "stream",
     "text": [
      "1.414213562373095\n",
      "2.0\n"
     ]
    }
   ],
   "source": [
    "for x, n in zip([2, 8] , [2, 3]):\n",
    "    print(sqrt_n_x(x, n))"
   ]
  },
  {
   "cell_type": "markdown",
   "metadata": {},
   "source": [
    "## 15) Given an array of integers, find if the array contains any duplicates. Your function should return true if any value appears at least twice in the array, and it should return false if every element is distinct.\n",
    "### Test case: Input: [1,2,3,1], Output: True"
   ]
  },
  {
   "cell_type": "code",
   "execution_count": 48,
   "metadata": {},
   "outputs": [],
   "source": [
    "def containsDuplicate1(nums):\n",
    "    \"\"\"\n",
    "    input: List[int]\n",
    "    output: bool\n",
    "    \"\"\"\n",
    "    if(len(nums) == 1):\n",
    "        return False\n",
    "\n",
    "    sorted_nums = sorted(nums)\n",
    "\n",
    "    for i in range(1, len(sorted_nums)):\n",
    "        if(sorted_nums[i-1] == sorted_nums[i]):\n",
    "            return True\n",
    "    return False"
   ]
  },
  {
   "cell_type": "code",
   "execution_count": 52,
   "metadata": {},
   "outputs": [],
   "source": [
    "def containsDuplicate2(nums):\n",
    "    \"\"\"\n",
    "    input: List[int]\n",
    "    output: bool\n",
    "    \"\"\"\n",
    "    \n",
    "    return not len(set(nums)) == len(nums)"
   ]
  },
  {
   "cell_type": "code",
   "execution_count": 53,
   "metadata": {},
   "outputs": [
    {
     "name": "stdout",
     "output_type": "stream",
     "text": [
      "True\n",
      "True\n"
     ]
    }
   ],
   "source": [
    "print(containsDuplicate1([1,2,3,1]))\n",
    "print(containsDuplicate2([1,2,3,1]))"
   ]
  },
  {
   "cell_type": "markdown",
   "metadata": {},
   "source": [
    "## 16) Write an algorithm to determine if a number is \"happy\". A happy number is a number defined by the following process: Starting with any positive integer, replace the number by the sum of the squares of its digits, and repeat the process until the number equals 1 (where it will stay), or it loops endlessly in a cycle which does not include 1. Those numbers for which this process ends in 1 are happy numbers.\n",
    "### Test case: Input: 19, Output: True"
   ]
  },
  {
   "cell_type": "code",
   "execution_count": 29,
   "metadata": {},
   "outputs": [],
   "source": [
    "def isHappy(n):\n",
    "    def square(n):\n",
    "        return sum([int(i)**2 for i in str(n)])\n",
    "    \n",
    "    happyFlag = n\n",
    "    count = 1\n",
    "    while(happyFlag != 1 and count < 1000):\n",
    "        happyFlag = square(happyFlag)\n",
    "        count += 1\n",
    "\n",
    "    if(count >= 1000):\n",
    "        return False\n",
    "    else:\n",
    "        return True\n"
   ]
  },
  {
   "cell_type": "code",
   "execution_count": 30,
   "metadata": {},
   "outputs": [
    {
     "data": {
      "text/plain": [
       "True"
      ]
     },
     "execution_count": 30,
     "metadata": {},
     "output_type": "execute_result"
    }
   ],
   "source": [
    "isHappy(19)"
   ]
  },
  {
   "cell_type": "markdown",
   "metadata": {},
   "source": [
    "## 17) Given two strings s and t, determine if they are isomorphic. Two strings are isomorphic if the characters in s can be replaced to get t. All occurrences of a character must be replaced with another character while preserving the order of characters. No two characters may map to the same character but a character may map to itself.\n",
    "## Test case: Input: s = \"egg\", t = \"add\", Output: True"
   ]
  },
  {
   "cell_type": "code",
   "execution_count": 24,
   "metadata": {},
   "outputs": [],
   "source": [
    "def isIsomorphic1(s, t):\n",
    "    \"\"\"\n",
    "    input: str s\n",
    "           str t\n",
    "    output: bool\n",
    "    \"\"\"\n",
    "    return len(set(zip(s,t))) == len(set(s)) == len(set(t))"
   ]
  },
  {
   "cell_type": "code",
   "execution_count": 25,
   "metadata": {},
   "outputs": [],
   "source": [
    "def isIsomorphic2(s, t):\n",
    "    \"\"\"\n",
    "    input: str s\n",
    "           str t\n",
    "    output: bool\n",
    "    \"\"\"\n",
    "    return [s.find(i) for i in s] == [t.find(i) for i in t]"
   ]
  },
  {
   "cell_type": "code",
   "execution_count": 26,
   "metadata": {},
   "outputs": [
    {
     "name": "stdout",
     "output_type": "stream",
     "text": [
      "True\n",
      "True\n"
     ]
    }
   ],
   "source": [
    "s, t = \"add\", \"egg\"\n",
    "print(isIsomorphic1(s, t))\n",
    "print(isIsomorphic2(s, t))"
   ]
  },
  {
   "cell_type": "markdown",
   "metadata": {},
   "source": [
    "## 18) Given an array of n positive integers and a positive integer s, find the minimal length of a contiguous subarray of which the sum ≥ s. If there isn't one, return 0 instead.\n",
    "### Input: s = 7, nums = [2,3,1,2,4,3], Output: 2"
   ]
  },
  {
   "cell_type": "code",
   "execution_count": 19,
   "metadata": {},
   "outputs": [],
   "source": [
    "def minSubArrayLen1(nums, k):\n",
    "    \"\"\"\n",
    "    input: int k\n",
    "           List[int] nums\n",
    "    output: int\n",
    "    O(N^2)\n",
    "    \"\"\"\n",
    "    minLen = len(nums) + 1\n",
    "    total = 0\n",
    "    start =  0\n",
    "    for i in range(len(nums)):\n",
    "        total += nums[i]\n",
    "        while total >=  k:\n",
    "            minLen = min(i - start + 1, minLen)\n",
    "            total = total - nums[start]\n",
    "            start = start + 1\n",
    "        \n",
    "    return 0 if minLen > len(nums) else minLen"
   ]
  },
  {
   "cell_type": "code",
   "execution_count": 20,
   "metadata": {},
   "outputs": [],
   "source": [
    "def minSubArrayLen2(nums, k):\n",
    "    \"\"\"\n",
    "    input: int k\n",
    "           List[int] nums\n",
    "    output: int\n",
    "    O(N)\n",
    "    \"\"\"\n",
    "    minLength = len(nums) + 1\n",
    "    current_sum = 0\n",
    "    seen = {0 : -1}\n",
    "    for i in range(len(nums)):\n",
    "        current_sum += nums[i]\n",
    "        if current_sum not in seen:\n",
    "            seen[current_sum] = i\n",
    "            \n",
    "        SumMinusK = current_sum - k\n",
    "        if SumMinusK in seen:\n",
    "            minLength = min(minLength, i - seen[SumMinusK])\n",
    "            \n",
    "    return minLength\n"
   ]
  },
  {
   "cell_type": "code",
   "execution_count": 21,
   "metadata": {},
   "outputs": [],
   "source": [
    "def minSubArrayLen3(nums, k):\n",
    "    \"\"\"\n",
    "    input: int k\n",
    "           List[int] nums\n",
    "    output: int\n",
    "    O(N^2)\n",
    "    \"\"\"\n",
    "    length = []\n",
    "    for i in range(len(nums)):\n",
    "        for j in range(len(nums)):\n",
    "            sub = nums[i:j+1]\n",
    "            if sum(sub) == k:\n",
    "                length.append(len(sub))\n",
    "                \n",
    "                \n",
    "    return min(length)\n",
    "    \n",
    "    "
   ]
  },
  {
   "cell_type": "code",
   "execution_count": 40,
   "metadata": {},
   "outputs": [],
   "source": [
    "def minSubArrayLen4(nums, k):\n",
    "    \"\"\"\n",
    "    input: int k\n",
    "           List[int] nums\n",
    "    output: int\n",
    "    O(N)\n",
    "    \"\"\"\n",
    "    start = 0\n",
    "    end = 0\n",
    "    minLength = len(nums) + 1\n",
    "    Sum = 0\n",
    "    \n",
    "    while end < len(nums) and start < len(nums):\n",
    "        Sum += nums[end]\n",
    "        \n",
    "        if Sum == k:\n",
    "            minLength = min(minLength, end-start+1)\n",
    "            end += 1\n",
    "            \n",
    "        elif Sum > k:\n",
    "            Sum -= nums[start]\n",
    "            start += 1\n",
    "        else:\n",
    "            end += 1\n",
    "            \n",
    "    return minLength"
   ]
  },
  {
   "cell_type": "code",
   "execution_count": 42,
   "metadata": {},
   "outputs": [
    {
     "name": "stdout",
     "output_type": "stream",
     "text": [
      "2\n",
      "2\n",
      "2\n",
      "2\n"
     ]
    }
   ],
   "source": [
    "k = 7\n",
    "nums = [2,3,1,2,4,3]\n",
    "print(minSubArrayLen1(nums, k))\n",
    "print(minSubArrayLen2(nums, k))\n",
    "print(minSubArrayLen3(nums, k))\n",
    "print(minSubArrayLen4(nums, k))"
   ]
  },
  {
   "cell_type": "markdown",
   "metadata": {},
   "source": [
    "## 19) Given a non-empty array of integers, every element appears twice except for one. Find that single one.\n",
    "### Test case: [4,1,2,1,2], Output: 4"
   ]
  },
  {
   "cell_type": "code",
   "execution_count": 10,
   "metadata": {},
   "outputs": [],
   "source": [
    "def singleNumber1(nums):\n",
    "    \"\"\"\n",
    "    input: list(int) nums\n",
    "    output: int\n",
    "    \"\"\"\n",
    "    return sum(list(set(nums)))*2 - sum(nums)\n"
   ]
  },
  {
   "cell_type": "code",
   "execution_count": 11,
   "metadata": {},
   "outputs": [],
   "source": [
    "def singleNumber2(nums):\n",
    "    single = []\n",
    "    for x in nums:\n",
    "        if x in single:\n",
    "            single.remove(x)\n",
    "        else:\n",
    "            single.append(x)\n",
    "            \n",
    "    return single[0]"
   ]
  },
  {
   "cell_type": "code",
   "execution_count": 12,
   "metadata": {},
   "outputs": [
    {
     "name": "stdout",
     "output_type": "stream",
     "text": [
      "4\n",
      "4\n"
     ]
    }
   ],
   "source": [
    "nums = [4,1,2,1,2]\n",
    "print(singleNumber1(nums))\n",
    "print(singleNumber2(nums))"
   ]
  },
  {
   "cell_type": "markdown",
   "metadata": {},
   "source": [
    "## 20) Given a string, find the first non-repeating character in it and return it's index. If it doesn't exist, return -1.\n",
    "### Test case: s = \"loveleetcode\", Output = 2."
   ]
  },
  {
   "cell_type": "code",
   "execution_count": 14,
   "metadata": {},
   "outputs": [],
   "source": [
    "def firstUniqChar(s):\n",
    "    \"\"\"\n",
    "    :type s: str\n",
    "    :rtype: int\n",
    "    \"\"\"\n",
    "    s_list = list(s)\n",
    "    s_d = dict([(x,0) for x in list(set(s))])\n",
    "    for x in s:\n",
    "        s_d[x] += 1\n",
    "\n",
    "    key_list = []\n",
    "    for key, val in s_d.items():\n",
    "        if val == 1:\n",
    "            key_list.append(key)\n",
    "\n",
    "    if not key_list:\n",
    "        return -1\n",
    "    else:\n",
    "        return min(s.find(x) for x in key_list)"
   ]
  },
  {
   "cell_type": "code",
   "execution_count": 15,
   "metadata": {},
   "outputs": [
    {
     "data": {
      "text/plain": [
       "2"
      ]
     },
     "execution_count": 15,
     "metadata": {},
     "output_type": "execute_result"
    }
   ],
   "source": [
    "firstUniqChar(\"loveleetcode\")"
   ]
  },
  {
   "cell_type": "markdown",
   "metadata": {},
   "source": [
    "## 21) Given an array of characters, compress it in-place. The length after compression must always be smaller than or equal to the original array. Every element of the array should be a character (not int) of length 1. After you are done modifying the input array in-place, return the new length of the array.\n",
    "### Test case: Input: [\"a\",\"a\",\"b\",\"b\",\"c\",\"c\",\"c\"], Output: [\"a\",\"2\",\"b\",\"2\",\"c\",\"3\"]; Input: [\"a\",\"b\",\"b\",\"b\",\"b\",\"b\",\"b\",\"b\",\"b\",\"b\",\"b\",\"b\",\"b\"], Output: [\"a\",\"b\",\"1\",\"2\"]"
   ]
  },
  {
   "cell_type": "code",
   "execution_count": 39,
   "metadata": {},
   "outputs": [],
   "source": [
    "def compress(chars):\n",
    "    \"\"\"\n",
    "    input: List(str) chars\n",
    "    output List(str)\n",
    "    \"\"\"\n",
    "    dct = dict([(s,0) for s in list(set(chars))])\n",
    "    \n",
    "    for s in chars:\n",
    "        dct[s] += 1\n",
    "    flst = []\n",
    "    for key, val in dct.items():\n",
    "        if(val == 1):\n",
    "            flst.append(key)\n",
    "        elif(val > 9):\n",
    "            flst.append(key)\n",
    "            for s in str(val):\n",
    "                flst.append(s)\n",
    "        else:\n",
    "            flst.append(key)\n",
    "            flst.append(str(val))\n",
    "\n",
    "    return flst\n",
    "    \n",
    "    "
   ]
  },
  {
   "cell_type": "code",
   "execution_count": 40,
   "metadata": {},
   "outputs": [
    {
     "name": "stdout",
     "output_type": "stream",
     "text": [
      "['c', '3', 'a', '2', 'b', '2']\n",
      "['a', 'b', '1', '2']\n"
     ]
    }
   ],
   "source": [
    "print(compress([\"a\",\"a\",\"b\",\"b\",\"c\",\"c\",\"c\"]))\n",
    "print(compress([\"a\",\"b\",\"b\",\"b\",\"b\",\"b\",\"b\",\"b\",\"b\",\"b\",\"b\",\"b\",\"b\"]))"
   ]
  },
  {
   "cell_type": "markdown",
   "metadata": {},
   "source": [
    "## 22) Fibonacci Numbers"
   ]
  },
  {
   "cell_type": "code",
   "execution_count": 47,
   "metadata": {},
   "outputs": [],
   "source": [
    "def fib(N):\n",
    "    \"\"\"\n",
    "    :type N: int\n",
    "    :rtype: int\n",
    "    \"\"\"\n",
    "    if(N == 0):\n",
    "        return 0\n",
    "    if(N == 1):\n",
    "        return 1\n",
    "    if(N > 1):\n",
    "        return fib(N-1) + fib(N-2)"
   ]
  },
  {
   "cell_type": "code",
   "execution_count": 50,
   "metadata": {},
   "outputs": [
    {
     "name": "stdout",
     "output_type": "stream",
     "text": [
      "0\n",
      "1\n",
      "1\n",
      "2\n",
      "3\n",
      "5\n",
      "8\n",
      "13\n",
      "21\n",
      "34\n"
     ]
    }
   ],
   "source": [
    "for i in range(10):\n",
    "    print(fib(i))"
   ]
  },
  {
   "cell_type": "markdown",
   "metadata": {},
   "source": [
    "## 23) Adding two numbers in string format without casting"
   ]
  },
  {
   "cell_type": "code",
   "execution_count": 1,
   "metadata": {},
   "outputs": [],
   "source": [
    "def sumString(num1, num2):\n",
    "    \"\"\"\n",
    "    input: str num1\n",
    "           str num2\n",
    "    output: int num1 + num2\n",
    "    \"\"\"\n",
    "    def numString(num):\n",
    "        \"\"\"\n",
    "        a function to convert a str number to int\n",
    "        \"\"\"\n",
    "        dct = {\"1\" : 1, \"2\" : 2, \"3\" : 3, \"4\" : 4, \"5\" : 5,\n",
    "               \"6\" : 6, \"7\" : 7, \"8\" : 8, \"9\" : 9, \"0\" : 0\n",
    "              }\n",
    "        \n",
    "        length = len(num) - 1\n",
    "        number = 0\n",
    "        \n",
    "        for idx, val in enumerate(num):\n",
    "            number += dct[val] * 10**(length - idx)\n",
    "            \n",
    "        return number\n",
    "    \n",
    "    return numString(num1) + numString(num2)\n",
    "        \n",
    "        "
   ]
  },
  {
   "cell_type": "code",
   "execution_count": 4,
   "metadata": {},
   "outputs": [
    {
     "data": {
      "text/plain": [
       "49459"
      ]
     },
     "execution_count": 4,
     "metadata": {},
     "output_type": "execute_result"
    }
   ],
   "source": [
    "sumString(\"111\", \"49348\")"
   ]
  },
  {
   "cell_type": "markdown",
   "metadata": {},
   "source": [
    "## 24) Sum of binary numbers:"
   ]
  },
  {
   "cell_type": "code",
   "execution_count": 4,
   "metadata": {},
   "outputs": [],
   "source": [
    "def binSum(num1, num2):\n",
    "    \"\"\"\n",
    "    inputs: str num1\n",
    "            str num2\n",
    "    output: str\n",
    "    \"\"\"\n",
    "    binNum1 = int(num1, 2)\n",
    "    binNum2 = int(num2, 2)\n",
    "    \n",
    "    binSums = bin(binNum1 + binNum2)[2:]\n",
    "    \n",
    "    return binSums"
   ]
  },
  {
   "cell_type": "code",
   "execution_count": 5,
   "metadata": {},
   "outputs": [
    {
     "data": {
      "text/plain": [
       "'100'"
      ]
     },
     "execution_count": 5,
     "metadata": {},
     "output_type": "execute_result"
    }
   ],
   "source": [
    "binSum(\"11\", \"1\")"
   ]
  },
  {
   "cell_type": "markdown",
   "metadata": {},
   "source": [
    "## 25) Most common characters in words"
   ]
  },
  {
   "cell_type": "code",
   "execution_count": 68,
   "metadata": {},
   "outputs": [],
   "source": [
    "def mostCommonChars(strs):\n",
    "    \"\"\"\n",
    "    input: List[str]\n",
    "    output: List[str]\n",
    "    \"\"\"\n",
    "    from collections import Counter\n",
    "    results = []\n",
    "    cnt = Counter(strs[0])\n",
    "    for s in strs[1:]:\n",
    "        cnt &= Counter(s)\n",
    "        \n",
    "    return list(cnt.elements())"
   ]
  },
  {
   "cell_type": "code",
   "execution_count": 69,
   "metadata": {},
   "outputs": [
    {
     "data": {
      "text/plain": [
       "['e', 'l', 'l']"
      ]
     },
     "execution_count": 69,
     "metadata": {},
     "output_type": "execute_result"
    }
   ],
   "source": [
    "mostCommonChars(['bella', 'label', 'roller'])"
   ]
  },
  {
   "cell_type": "markdown",
   "metadata": {},
   "source": [
    "## 26) Longest palindrome chars"
   ]
  },
  {
   "cell_type": "code",
   "execution_count": 3,
   "metadata": {},
   "outputs": [],
   "source": [
    "def longestPalindrome(chars):\n",
    "    \"\"\"\n",
    "    input: string charts\n",
    "    output: int\n",
    "    \"\"\"\n",
    "    from collections import Counter\n",
    "    dct = dict(Counter(chars))\n",
    "    \n",
    "    count = 0\n",
    "    flag = False\n",
    "    for key, val in dct.items():\n",
    "        if(val % 2 == 0):\n",
    "            count += val\n",
    "        else:\n",
    "            count += val -1\n",
    "            flag = True\n",
    "    if flag:\n",
    "        count += 1\n",
    "            \n",
    "    return count\n"
   ]
  },
  {
   "cell_type": "code",
   "execution_count": 5,
   "metadata": {},
   "outputs": [
    {
     "data": {
      "text/plain": [
       "11"
      ]
     },
     "execution_count": 5,
     "metadata": {},
     "output_type": "execute_result"
    }
   ],
   "source": [
    "longestPalindrome(\"aaaccccddaa\")"
   ]
  },
  {
   "cell_type": "markdown",
   "metadata": {},
   "source": [
    "## 27) Binary Search"
   ]
  },
  {
   "cell_type": "code",
   "execution_count": 97,
   "metadata": {},
   "outputs": [],
   "source": [
    "def binary_search(nums, target):\n",
    "    \"\"\"\n",
    "    Binary tree to return the index of target in nums\n",
    "    nums: List[int]\n",
    "    target: int\n",
    "    \"\"\"\n",
    "    N = len(nums)\n",
    "    left = 0\n",
    "    right = N - 1\n",
    "    while left <= right:\n",
    "        mid = int((left + right)/2)\n",
    "        if target < nums[mid]:\n",
    "            right = mid - 1\n",
    "        elif target > nums[mid]:\n",
    "            left = mid + 1\n",
    "        else:\n",
    "            return mid"
   ]
  },
  {
   "cell_type": "code",
   "execution_count": 98,
   "metadata": {},
   "outputs": [
    {
     "data": {
      "text/plain": [
       "6"
      ]
     },
     "execution_count": 98,
     "metadata": {},
     "output_type": "execute_result"
    }
   ],
   "source": [
    "\n",
    "nums = [1, 2, 3, 4, 5, 6, 7, 8, 9]\n",
    "target = 7\n",
    "binary_search(nums, target)"
   ]
  },
  {
   "cell_type": "markdown",
   "metadata": {},
   "source": [
    "## 27) Linear Search"
   ]
  },
  {
   "cell_type": "code",
   "execution_count": 29,
   "metadata": {},
   "outputs": [],
   "source": [
    "def linear_search(nums, target):\n",
    "    \"\"\"\n",
    "    Linear search to return the index target in nums\n",
    "    nums: List[int]\n",
    "    target: int\n",
    "    \"\"\"\n",
    "    for idx, num in enumerate(nums):\n",
    "        if num == target:\n",
    "            return idx"
   ]
  },
  {
   "cell_type": "code",
   "execution_count": 46,
   "metadata": {},
   "outputs": [
    {
     "name": "stdout",
     "output_type": "stream",
     "text": [
      "CPU times: user 0 ns, sys: 0 ns, total: 0 ns\n",
      "Wall time: 8.82 µs\n"
     ]
    }
   ],
   "source": [
    "%%time\n",
    "nums = [1, 2, 3, 4, 5, 6, 7, 8, 9]\n",
    "target = 7\n",
    "linear_search(nums, target)"
   ]
  },
  {
   "cell_type": "markdown",
   "metadata": {},
   "source": [
    "## 28) Merge Sort"
   ]
  },
  {
   "cell_type": "code",
   "execution_count": 67,
   "metadata": {},
   "outputs": [],
   "source": [
    "def merge_sort(arr): \n",
    "    if len(arr) > 1: \n",
    "        mid = len(arr)//2 #Finding the mid of the array \n",
    "        L = arr[:mid] # Dividing the array elements  \n",
    "        R = arr[mid:] # into 2 halves \n",
    "  \n",
    "        merge_sort(L) # Sorting the first half \n",
    "        merge_sort(R) # Sorting the second half \n",
    "  \n",
    "        i = j = k = 0\n",
    "          \n",
    "        # Copy data to temp arrays L[] and R[] \n",
    "        while i < len(L) and j < len(R): \n",
    "            if L[i] < R[j]: \n",
    "                arr[k] = L[i] \n",
    "                i+=1\n",
    "            else: \n",
    "                arr[k] = R[j] \n",
    "                j+=1\n",
    "            k+=1\n",
    "          \n",
    "        # Checking if any element was left \n",
    "        while i < len(L): \n",
    "            arr[k] = L[i] \n",
    "            i+=1\n",
    "            k+=1\n",
    "          \n",
    "        while j < len(R): \n",
    "            arr[k] = R[j] \n",
    "            j+=1\n",
    "            k+=1"
   ]
  },
  {
   "cell_type": "code",
   "execution_count": 69,
   "metadata": {},
   "outputs": [
    {
     "name": "stdout",
     "output_type": "stream",
     "text": [
      "[0, 1, 2, 3, 4, 5, 6, 7, 8, 9]\n"
     ]
    }
   ],
   "source": [
    "data = [9, 1, 7, 6, 2, 8, 5, 3, 4, 0]\n",
    "merge_sort(data)\n",
    "print(data)"
   ]
  },
  {
   "cell_type": "markdown",
   "metadata": {},
   "source": [
    "## 29) Find the missing number\n",
    "### Input: = [1, 2, 4, 6, 3, 7, 8], Output: 5"
   ]
  },
  {
   "cell_type": "code",
   "execution_count": 60,
   "metadata": {},
   "outputs": [],
   "source": [
    "def missingNo(nums):\n",
    "    n = len(nums) + 1\n",
    "    real_sum = n * (n + 1) / 2\n",
    "    temp_sum = sum(nums)\n",
    "    \n",
    "    return real_sum - temp_sum"
   ]
  },
  {
   "cell_type": "code",
   "execution_count": 63,
   "metadata": {},
   "outputs": [
    {
     "data": {
      "text/plain": [
       "5.0"
      ]
     },
     "execution_count": 63,
     "metadata": {},
     "output_type": "execute_result"
    }
   ],
   "source": [
    "nums = [1,2,3,4,6,7,8]\n",
    "missingNo(nums)"
   ]
  },
  {
   "cell_type": "markdown",
   "metadata": {},
   "source": [
    "## 30) Find pair with maximum product\n",
    "### Input:  {1, 4, 3, 6, 7, 0}, Output: {6,7}  \n",
    "### Input:  {-1, -3, -4, 2, 0, -5}, Output: {-4,-5} "
   ]
  },
  {
   "cell_type": "code",
   "execution_count": 70,
   "metadata": {},
   "outputs": [],
   "source": [
    "def maxProduct(nums):\n",
    "    max_a = max(nums)\n",
    "    nums.remove(max_a)\n",
    "    max_b = max(nums)\n",
    "    nums.remove(max_b)\n",
    "    \n",
    "    min_a = min(nums)\n",
    "    nums.remove(min_a)\n",
    "    min_b = min(nums)\n",
    "\n",
    "    \n",
    "    prod_a = max_a * max_b\n",
    "    prod_b = min_a * min_b\n",
    "    \n",
    "    if prod_a > prod_b:\n",
    "        return [max_a, max_b]\n",
    "    else:\n",
    "        return [min_a, min_b]"
   ]
  },
  {
   "cell_type": "code",
   "execution_count": 71,
   "metadata": {},
   "outputs": [
    {
     "data": {
      "text/plain": [
       "[7, 6]"
      ]
     },
     "execution_count": 71,
     "metadata": {},
     "output_type": "execute_result"
    }
   ],
   "source": [
    "nums = [1, 4, 3, 6, 7, 0]\n",
    "maxProduct(nums)"
   ]
  },
  {
   "cell_type": "code",
   "execution_count": 72,
   "metadata": {},
   "outputs": [
    {
     "data": {
      "text/plain": [
       "[-5, -4]"
      ]
     },
     "execution_count": 72,
     "metadata": {},
     "output_type": "execute_result"
    }
   ],
   "source": [
    "nums = [-1, -3, -4, 2, 0, -5]\n",
    "maxProduct(nums)"
   ]
  },
  {
   "cell_type": "markdown",
   "metadata": {},
   "source": [
    "## 31) String Matching"
   ]
  },
  {
   "cell_type": "code",
   "execution_count": 1,
   "metadata": {},
   "outputs": [],
   "source": [
    "def stringMatching(words):\n",
    "    \"\"\"\n",
    "    input List[str]\n",
    "    output List[str]\n",
    "    \"\"\"\n",
    "    lst = []\n",
    "    for i in range(len(words)):\n",
    "        for j in range(len(words)):\n",
    "            if (i != j) and (words[i] in words[j]):\n",
    "                lst.append(words[i])\n",
    "\n",
    "    return list(set(lst))"
   ]
  },
  {
   "cell_type": "code",
   "execution_count": 2,
   "metadata": {},
   "outputs": [
    {
     "data": {
      "text/plain": [
       "['hero', 'as']"
      ]
     },
     "execution_count": 2,
     "metadata": {},
     "output_type": "execute_result"
    }
   ],
   "source": [
    "words = [\"mass\",\"as\",\"hero\",\"superhero\"]\n",
    "stringMatching(words)"
   ]
  },
  {
   "cell_type": "markdown",
   "metadata": {},
   "source": [
    "## 32) Maximum Sum for Consecutive subarray"
   ]
  },
  {
   "cell_type": "code",
   "execution_count": 149,
   "metadata": {},
   "outputs": [],
   "source": [
    "def max_subarray1(nums):\n",
    "    \"\"\"\n",
    "    input List[int]\n",
    "    output int\n",
    "    BrutForce O(N^2)\n",
    "    \"\"\"\n",
    "    max_sums = []\n",
    "    for i in range(len(nums)):\n",
    "        for j in range(len(nums)):\n",
    "            tmp = nums[i:j+1]\n",
    "            max_sums.append(sum(tmp))\n",
    "            \n",
    "    return max(max_sums)\n",
    "    "
   ]
  },
  {
   "cell_type": "code",
   "execution_count": 150,
   "metadata": {},
   "outputs": [],
   "source": [
    "def max_subarray2(nums):\n",
    "    \"\"\"\n",
    "    input List[int]\n",
    "    ouput int\n",
    "    Kadane's Algorithm O(N)\n",
    "    \"\"\"\n",
    "    max_current = max_global = nums[0]\n",
    "    \n",
    "    for i in range(1, len(nums)):\n",
    "        max_current = max(nums[i], max_current+nums[i])\n",
    "        \n",
    "        if max_current > max_global:\n",
    "            max_global = max_current\n",
    "            \n",
    "    return max_global"
   ]
  },
  {
   "cell_type": "code",
   "execution_count": 151,
   "metadata": {},
   "outputs": [
    {
     "name": "stdout",
     "output_type": "stream",
     "text": [
      "9\n",
      "9\n"
     ]
    }
   ],
   "source": [
    "nums = [-1, 4, 5, -5, 5]\n",
    "print(max_subarray1(nums))\n",
    "print(max_subarray2(nums))"
   ]
  },
  {
   "cell_type": "markdown",
   "metadata": {},
   "source": [
    "## 33) Anagram words"
   ]
  },
  {
   "cell_type": "code",
   "execution_count": 9,
   "metadata": {},
   "outputs": [],
   "source": [
    "def is_anagram(a, b):\n",
    "    \"\"\"\n",
    "    input str, str\n",
    "    ouput boolean\n",
    "    \"\"\"\n",
    "    if len(a) != len(b):\n",
    "        return False\n",
    "\n",
    "    list_a = list(a)\n",
    "    for c in list(b):\n",
    "        if c in list_a:\n",
    "            list_a.remove(c)\n",
    "\n",
    "    if not list_a:\n",
    "        return True\n",
    "    else:\n",
    "        return False"
   ]
  },
  {
   "cell_type": "code",
   "execution_count": 11,
   "metadata": {},
   "outputs": [
    {
     "name": "stdout",
     "output_type": "stream",
     "text": [
      "False\n",
      "True\n"
     ]
    }
   ],
   "source": [
    "print(is_anagram(\"bsat\", \"tab\"))\n",
    "print(is_anagram(\"bss\", \"ssb\"))"
   ]
  },
  {
   "cell_type": "markdown",
   "metadata": {},
   "source": [
    "## 34) Max number of points in a line"
   ]
  },
  {
   "cell_type": "code",
   "execution_count": 6,
   "metadata": {},
   "outputs": [],
   "source": [
    "def maxPoints(points):\n",
    "    \"\"\"\n",
    "    :type points: List[List[int]]\n",
    "    :rtype: int\n",
    "    \"\"\"\n",
    "    lst = points\n",
    "    if not lst:\n",
    "        return 0\n",
    "    elif len(lst) == 1:\n",
    "        return 1\n",
    "\n",
    "    # calculating the slopes\n",
    "    from collections import Counter\n",
    "    slps = []\n",
    "    for i in lst:\n",
    "        for j in lst[lst.index(i)+1:]:\n",
    "            if (i[0] != j[0]):\n",
    "                slps.append( (j[1]-i[1])/(j[0] - i[0]))\n",
    "\n",
    "    slopes = dict(Counter(slps).most_common())\n",
    "\n",
    "    # now intercepts\n",
    "    intercepts = dict([(x, 0) for x in slopes.keys()])\n",
    "\n",
    "    for slp, count in slopes.items():\n",
    "        b = []\n",
    "        for i in lst:\n",
    "            b.append(slp * i[0] - i[1])\n",
    "        intercepts[slp] = Counter(b).most_common()[0][1]\n",
    "\n",
    "    bb = list(intercepts.values())\n",
    "\n",
    "    for b in bb:\n",
    "        if b != max(bb):\n",
    "            bb.remove(b)\n",
    "\n",
    "    if not bb:\n",
    "        return len(points)\n",
    "    else:\n",
    "        return max(bb)"
   ]
  },
  {
   "cell_type": "code",
   "execution_count": 7,
   "metadata": {},
   "outputs": [
    {
     "data": {
      "text/plain": [
       "4"
      ]
     },
     "execution_count": 7,
     "metadata": {},
     "output_type": "execute_result"
    }
   ],
   "source": [
    "points = [[1,1],[3,2],[5,3],[4,1],[2,3],[1,4]]\n",
    "maxPoints(points)"
   ]
  },
  {
   "cell_type": "markdown",
   "metadata": {},
   "source": [
    "## 35) Max consecutive 1s in a binary list."
   ]
  },
  {
   "cell_type": "code",
   "execution_count": 12,
   "metadata": {},
   "outputs": [],
   "source": [
    "def findMaxConsecutiveOnes(nums):\n",
    "    \"\"\"\n",
    "    :type nums: List[int]\n",
    "    :rtype: int\n",
    "    \"\"\"\n",
    "\n",
    "    lst = []\n",
    "    temp = 0\n",
    "    for i in nums:\n",
    "\n",
    "        temp += i\n",
    "        temp *= i\n",
    "        lst.append(temp)\n",
    "\n",
    "    return max(lst)"
   ]
  },
  {
   "cell_type": "code",
   "execution_count": 13,
   "metadata": {},
   "outputs": [],
   "source": [
    "def findMaxConsecutiveOnes2(nums):\n",
    "    \"\"\"\n",
    "    :type nums: List[int]\n",
    "    :rtype: int\n",
    "    \"\"\"\n",
    "    string = str(nums).replace(',','').replace('[','').replace(']','').replace(' ', '')\n",
    "    string2 = string.split('0')\n",
    "    string2.sort(reverse=True)\n",
    "    return len(string2[0])"
   ]
  },
  {
   "cell_type": "code",
   "execution_count": 14,
   "metadata": {},
   "outputs": [
    {
     "name": "stdout",
     "output_type": "stream",
     "text": [
      "3\n",
      "3\n"
     ]
    }
   ],
   "source": [
    "print(findMaxConsecutiveOnes([1,0,1,1,1,0,0,1,1,0,1,1]))\n",
    "print(findMaxConsecutiveOnes2([1,0,1,1,1,0,0,1,1,0,1,1]))"
   ]
  },
  {
   "cell_type": "markdown",
   "metadata": {},
   "source": [
    "## 36) Min sum in consecutive sub arrays"
   ]
  },
  {
   "cell_type": "code",
   "execution_count": 29,
   "metadata": {},
   "outputs": [],
   "source": [
    "def minSubarray(nums):\n",
    "    \"\"\"\n",
    "    input List[int]\n",
    "    ouput int\n",
    "    Kadane's Algorithm O(N)\n",
    "    \"\"\"\n",
    "    min_current = min_global = nums[0]\n",
    "    \n",
    "    for i in range(1, len(nums)):\n",
    "        min_current = min(nums[i], min_current+nums[i])\n",
    "        \n",
    "        if min_current < min_global:\n",
    "            min_global = min_current\n",
    "            \n",
    "    return min_global"
   ]
  },
  {
   "cell_type": "code",
   "execution_count": 32,
   "metadata": {},
   "outputs": [
    {
     "data": {
      "text/plain": [
       "-15"
      ]
     },
     "execution_count": 32,
     "metadata": {},
     "output_type": "execute_result"
    }
   ],
   "source": [
    "nums = [1, -10, 2, -4, -3]\n",
    "minSubarray(nums)"
   ]
  },
  {
   "cell_type": "markdown",
   "metadata": {},
   "source": [
    "## 37) Count Elements"
   ]
  },
  {
   "cell_type": "code",
   "execution_count": 90,
   "metadata": {},
   "outputs": [],
   "source": [
    "def countElements(arr):\n",
    "    \"\"\"\n",
    "    :type arr: List[int]\n",
    "    :rtype: int\n",
    "    \"\"\"\n",
    "    count = 0\n",
    "    \n",
    "    for i in arr:\n",
    "        j = i + 1\n",
    "        if j in arr:\n",
    "            count += 1\n",
    "            \n",
    "    return count\n",
    "    \n",
    "    "
   ]
  },
  {
   "cell_type": "code",
   "execution_count": 91,
   "metadata": {},
   "outputs": [
    {
     "data": {
      "text/plain": [
       "2"
      ]
     },
     "execution_count": 91,
     "metadata": {},
     "output_type": "execute_result"
    }
   ],
   "source": [
    "arr = [1,2,3]\n",
    "countElements(arr)"
   ]
  },
  {
   "cell_type": "markdown",
   "metadata": {},
   "source": [
    "## 38) BackSpace String Compare"
   ]
  },
  {
   "cell_type": "code",
   "execution_count": 44,
   "metadata": {},
   "outputs": [],
   "source": [
    "def backspaceCompare(S, T):\n",
    "    \"\"\"\n",
    "    :type S: str\n",
    "    :type T: str\n",
    "    :rtype: bool\n",
    "    \"\"\"\n",
    "    \n",
    "    def clean_word(word):\n",
    "        seen = []\n",
    "        for char in word:\n",
    "            if char == \"#\":\n",
    "                if len(seen) > 0:\n",
    "                    seen.pop()\n",
    "            else:\n",
    "                seen.append(char)\n",
    "\n",
    "        return \"\".join(seen)\n",
    "\n",
    "    return True if clean_word(S) == clean_word(T) else False\n"
   ]
  },
  {
   "cell_type": "code",
   "execution_count": 46,
   "metadata": {},
   "outputs": [
    {
     "data": {
      "text/plain": [
       "True"
      ]
     },
     "execution_count": 46,
     "metadata": {},
     "output_type": "execute_result"
    }
   ],
   "source": [
    "S = \"ab##\"\n",
    "T = \"c#d#\"\n",
    "backspaceCompare(S, T)"
   ]
  },
  {
   "cell_type": "markdown",
   "metadata": {},
   "source": [
    "## 39) Max Length Subarray with equal 0 and 1 "
   ]
  },
  {
   "cell_type": "code",
   "execution_count": 162,
   "metadata": {},
   "outputs": [],
   "source": [
    "def findMaxLength1(nums):\n",
    "    \"\"\"\n",
    "    :type nums: List[int]\n",
    "    :rtype: int\n",
    "    \"\"\"    \n",
    "    max_len = []\n",
    "    for i in range(len(nums)):\n",
    "        for j in range(len(nums)):\n",
    "            sub = nums[i:j+1]\n",
    "            if len(sub) == 2 * sum(sub):\n",
    "                max_len.append(len(sub))\n",
    "                \n",
    "    return max(max_len)"
   ]
  },
  {
   "cell_type": "code",
   "execution_count": 163,
   "metadata": {},
   "outputs": [],
   "source": [
    "def findMaxLength2(nums):\n",
    "    \"\"\"\n",
    "    :type nums: List[int]\n",
    "    :rtype: int\n",
    "    \"\"\"\n",
    "    \n",
    "    prefixSum = {0: -1}\n",
    "    total = 0\n",
    "    maxlength = 0\n",
    "\n",
    "    for index, value in enumerate(nums):\n",
    "        if value == 0:\n",
    "            total -= 1\n",
    "        else:\n",
    "            total += 1\n",
    "        if total not in prefixSum.keys():\n",
    "            prefixSum[total] = index\n",
    "        else:\n",
    "            maxlength = max(maxlength, index-prefixSum[total])        \n",
    "    return maxlength"
   ]
  },
  {
   "cell_type": "code",
   "execution_count": 173,
   "metadata": {},
   "outputs": [],
   "source": [
    "def findMaxLength3(nums):\n",
    "    \"\"\"\n",
    "    :type nums: List[int]\n",
    "    :rtype: int\n",
    "    \"\"\"\n",
    "    # mapping 0s to -1s\n",
    "    for i in range(len(nums)):\n",
    "        if nums[i] == 0:\n",
    "            nums[i] = -1\n",
    "    \n",
    "    # now we solve maxlength with subarray with sum 0\n",
    "    current_sum = 0\n",
    "    k = 0\n",
    "    seen = {0 : -1}\n",
    "    maxLen = 0\n",
    "    \n",
    "    for i in range(len(nums)):\n",
    "        current_sum += nums[i]\n",
    "        if current_sum not in seen:\n",
    "            seen[current_sum] = i\n",
    "            \n",
    "        sumMinusK = current_sum - k\n",
    "        if sumMinusK in seen:\n",
    "            maxLen = max(maxLen, i - seen[sumMinusK])\n",
    "    \n",
    "    \n",
    "    return maxLen\n"
   ]
  },
  {
   "cell_type": "code",
   "execution_count": 175,
   "metadata": {},
   "outputs": [
    {
     "name": "stdout",
     "output_type": "stream",
     "text": [
      "6\n",
      "6\n",
      "6\n"
     ]
    }
   ],
   "source": [
    "nums = [1,1,0,0,1,0,1,1]\n",
    "print(findMaxLength1(nums))\n",
    "print(findMaxLength2(nums))\n",
    "print(findMaxLength3(nums))"
   ]
  },
  {
   "cell_type": "markdown",
   "metadata": {},
   "source": [
    "## 40) Subarray with given sum"
   ]
  },
  {
   "cell_type": "code",
   "execution_count": 69,
   "metadata": {},
   "outputs": [],
   "source": [
    "def subarraySumK(nums, k):\n",
    "    \"\"\"\n",
    "    inputs: nums List[int]\n",
    "            k int\n",
    "    \"\"\"\n",
    "    length = len(nums)\n",
    "    left = 0\n",
    "    right = 0\n",
    "    current_sum = 0\n",
    "    \n",
    "    while(left <= length and right <= length):\n",
    "        if current_sum < k:\n",
    "            current_sum += nums[right]\n",
    "            right += 1\n",
    "        elif current_sum > k:\n",
    "            current_sum -= nums[left]\n",
    "            left += 1\n",
    "        else:\n",
    "            return right-left\n",
    "    \n",
    "    \n",
    "    "
   ]
  },
  {
   "cell_type": "code",
   "execution_count": 75,
   "metadata": {},
   "outputs": [
    {
     "data": {
      "text/plain": [
       "1"
      ]
     },
     "execution_count": 75,
     "metadata": {},
     "output_type": "execute_result"
    }
   ],
   "source": [
    "nums = [1, -4, -2, 6, 10, 5]\n",
    "k = 1\n",
    "\n",
    "subarraySumK(nums, k)"
   ]
  },
  {
   "cell_type": "code",
   "execution_count": 11,
   "metadata": {},
   "outputs": [],
   "source": [
    "def maxLengthSubarraySumK1(nums, k):\n",
    "    \"\"\"\n",
    "    inputs: nums List[int]\n",
    "            k int\n",
    "    \"\"\"\n",
    "\n",
    "    current_sum = 0\n",
    "    maxLen = 0\n",
    "    seen = {0 : -1}\n",
    "    for i in range(len(nums)):\n",
    "        current_sum += nums[i]\n",
    "        if current_sum not in seen:\n",
    "            seen[current_sum] = i\n",
    "        \n",
    "        sumMinusK = current_sum - k\n",
    "        if sumMinusK in seen:\n",
    "            maxLen = max(maxLen, i - seen[sumMinusK])\n",
    "\n",
    "            \n",
    "    \n",
    "    return maxLen\n"
   ]
  },
  {
   "cell_type": "code",
   "execution_count": 12,
   "metadata": {},
   "outputs": [],
   "source": [
    "def maxLengthSubarraySumK2(nums, k):\n",
    "    \"\"\"\n",
    "    inputs: nums List[int]\n",
    "            k int\n",
    "    \"\"\"\n",
    "    lengths = []\n",
    "    for i in range(len(nums)):\n",
    "        for j in range(i, len(nums)):\n",
    "            sub = nums[i:j+1]\n",
    "            if sum(sub) == k:\n",
    "                lengths.append(len(sub))\n",
    "    \n",
    "    return max(lengths)\n",
    "    "
   ]
  },
  {
   "cell_type": "code",
   "execution_count": 21,
   "metadata": {},
   "outputs": [
    {
     "name": "stdout",
     "output_type": "stream",
     "text": [
      "8\n",
      "8\n"
     ]
    }
   ],
   "source": [
    "nums = [-2, -1, 3, -5, 6, 2, -1, 1, 1]\n",
    "k = 6\n",
    "print(maxLengthSubarraySumK1(nums, k))\n",
    "print(maxLengthSubarraySumK2(nums, k))"
   ]
  },
  {
   "cell_type": "markdown",
   "metadata": {},
   "source": [
    "## 41) CanJump\n",
    "\n",
    "### Given an array of non-negative integers, you are initially positioned at the first index of the array. Each element in the array represents your maximum jump length at that position. Determine if you are able to reach the last index.\n",
    "### Input: [2,3,1,1,4], Output: true, Explanation: Jump 1 step from index 0 to 1, then 3 steps to the last index."
   ]
  },
  {
   "cell_type": "code",
   "execution_count": 58,
   "metadata": {},
   "outputs": [],
   "source": [
    "def canJump(nums):\n",
    "    \"\"\"\n",
    "    input List[int]\n",
    "    output: bool\n",
    "    \"\"\"\n",
    "    N = len(nums)-1\n",
    "    can_reach = 0\n",
    "\n",
    "    if len(nums) == 1:\n",
    "        return True\n",
    "\n",
    "    for i in range(N):\n",
    "        if can_reach >= i:\n",
    "            can_reach = max(can_reach, i + nums[i])\n",
    "\n",
    "        if can_reach >= N:\n",
    "            return True\n",
    "\n",
    "    return False "
   ]
  },
  {
   "cell_type": "code",
   "execution_count": 59,
   "metadata": {},
   "outputs": [
    {
     "data": {
      "text/plain": [
       "True"
      ]
     },
     "execution_count": 59,
     "metadata": {},
     "output_type": "execute_result"
    }
   ],
   "source": [
    "nums = [2,3,1,1,4]\n",
    "canJump(nums)"
   ]
  },
  {
   "cell_type": "markdown",
   "metadata": {},
   "source": [
    "## 42) Count Negative Numbers in a Matrix"
   ]
  },
  {
   "cell_type": "code",
   "execution_count": 62,
   "metadata": {},
   "outputs": [],
   "source": [
    "def countNegatives1(grid):\n",
    "    \"\"\"\n",
    "    input List[List[int]]\n",
    "    ouput int\n",
    "    O(N^2)\n",
    "    \"\"\"\n",
    "    n = len(grid)\n",
    "    m = len(grid[0])\n",
    "    cnt = 0\n",
    "    for i in range(n):\n",
    "        for j in range(m):\n",
    "            if grid[i][j] < 0:\n",
    "                cnt += 1\n",
    "    \n",
    "    return cnt\n",
    "    "
   ]
  },
  {
   "cell_type": "code",
   "execution_count": 65,
   "metadata": {},
   "outputs": [],
   "source": [
    "def countNegatives2(grid):\n",
    "    \"\"\"\n",
    "    input List[List[int]]\n",
    "    ouput int\n",
    "    O(N^2)\n",
    "    \"\"\"\n",
    "    cnt = 0\n",
    "    for aList in grid:\n",
    "        for aValue in aList:\n",
    "            if aValue < 0:\n",
    "                cnt += 1\n",
    "                \n",
    "    return cnt\n",
    "    \n",
    "    "
   ]
  },
  {
   "cell_type": "code",
   "execution_count": 102,
   "metadata": {},
   "outputs": [],
   "source": [
    "def countNegatives3(grid):\n",
    "    \"\"\"\n",
    "    input List[List[int]]\n",
    "    output int\n",
    "    O(N Lohg(N))\n",
    "    \"\"\"\n",
    "    \n",
    "    def binarySearch(row):\n",
    "        \"\"\"\n",
    "        function to find the index of the negative number in each row\n",
    "        \"\"\"\n",
    "        start = 0\n",
    "        end = len(row)\n",
    "\n",
    "        while start < end:\n",
    "            mid = (end + start)//2\n",
    "            if row[mid] < 0:\n",
    "                end = mid\n",
    "            else:\n",
    "                start = mid + 1\n",
    "        return  len(row) - start\n",
    "    \n",
    "    cnt = 0\n",
    "    for row in grid:\n",
    "        cnt += binarySearch(row)\n",
    "        \n",
    "    return cnt"
   ]
  },
  {
   "cell_type": "code",
   "execution_count": 103,
   "metadata": {},
   "outputs": [
    {
     "name": "stdout",
     "output_type": "stream",
     "text": [
      "8\n",
      "8\n",
      "8\n"
     ]
    }
   ],
   "source": [
    "grid = [[4,3,2,-1],[3,2,1,-1],[1,1,-1,-2],[-1,-1,-2,-3]]\n",
    "print(countNegatives1(grid))\n",
    "print(countNegatives2(grid))\n",
    "print(countNegatives3(grid))"
   ]
  },
  {
   "cell_type": "markdown",
   "metadata": {},
   "source": [
    "## 43) Square of a sorted array"
   ]
  },
  {
   "cell_type": "code",
   "execution_count": 28,
   "metadata": {},
   "outputs": [],
   "source": [
    "def SortedSquares(nums):\n",
    "    \"\"\"\n",
    "    :type nums: List[int]\n",
    "    :rtype: List[int]\n",
    "    O(N)\n",
    "    \"\"\"\n",
    "    left = 0\n",
    "    right = len(nums) - 1\n",
    "    sorted_nums = [0] * len(nums)\n",
    "    for i in range(len(nums)-1, -1, -1):\n",
    "        if abs(nums[left]) > abs(nums[right]):\n",
    "            sorted_nums[i] = nums[left] ** 2\n",
    "            left = left + 1\n",
    "        else:\n",
    "            sorted_nums[i] = nums[right] ** 2\n",
    "            right = right - 1\n",
    "    \n",
    "    return sorted_nums\n",
    "    \n",
    "    "
   ]
  },
  {
   "cell_type": "code",
   "execution_count": 29,
   "metadata": {},
   "outputs": [
    {
     "data": {
      "text/plain": [
       "[0, 1, 9, 16, 100]"
      ]
     },
     "execution_count": 29,
     "metadata": {},
     "output_type": "execute_result"
    }
   ],
   "source": [
    "nums = [-4,-1,0,3,10]\n",
    "SortedSquares(nums)"
   ]
  },
  {
   "cell_type": "markdown",
   "metadata": {},
   "source": [
    "## 44) Relative Sort Arrays"
   ]
  },
  {
   "cell_type": "code",
   "execution_count": 69,
   "metadata": {},
   "outputs": [],
   "source": [
    "def relativeSortArray1(arr1, arr2):\n",
    "    \"\"\"\n",
    "    :type arr1: List[int]\n",
    "    :type arr2: List[int]\n",
    "    :rtype: List[int]\n",
    "    Time Complexity: O(len(arr2) * len(arr1))\n",
    "    \"\"\"\n",
    "    from collections import Counter\n",
    "    cnt1 = Counter(arr1)\n",
    "\n",
    "    lst = []\n",
    "    for num in cnt1:\n",
    "        if num not in arr2:\n",
    "            for i in range(cnt1[num]):\n",
    "                lst.append(num)\n",
    "\n",
    "    length = 0\n",
    "    for num in lst:\n",
    "        length += cnt1[num]\n",
    "\n",
    "    sorted_arr1 = [0] * (len(arr1) - length)\n",
    "    start = 0\n",
    "    extra = []\n",
    "\n",
    "    for i in range(len(arr2)):\n",
    "        num = arr2[i]\n",
    "        for j in range(start, start+cnt1[num]):\n",
    "            sorted_arr1[j] = num\n",
    "        start += cnt1[num]\n",
    "\n",
    "\n",
    "    sorted_extra = sorted(lst)\n",
    "\n",
    "    final = sorted_arr1 + sorted_extra\n",
    "    \n",
    "    return final"
   ]
  },
  {
   "cell_type": "code",
   "execution_count": 72,
   "metadata": {},
   "outputs": [],
   "source": [
    "def relativeSortArray2(arr1, arr2):\n",
    "    \"\"\"\n",
    "    :type arr1: List[int]\n",
    "    :type arr2: List[int]\n",
    "    :rtype: List[int]\n",
    "    O(NLog(N))\n",
    "    \"\"\"\n",
    "    from collections import Counter\n",
    "    cnt1 = Counter(arr1)\n",
    "    sorted_arr = []\n",
    "    extra = []\n",
    "    \n",
    "    for num in arr2:\n",
    "        sorted_arr += [num] * cnt1[num]\n",
    "        del cnt1[num]\n",
    "        \n",
    "    for key, val in cnt1.items():\n",
    "        extra += [key]*val\n",
    "    return sorted_arr + sorted(extra)"
   ]
  },
  {
   "cell_type": "code",
   "execution_count": 74,
   "metadata": {},
   "outputs": [
    {
     "name": "stdout",
     "output_type": "stream",
     "text": [
      "[2, 2, 2, 1, 4, 3, 3, 9, 6, 7, 19]\n",
      "[2, 2, 2, 1, 4, 3, 3, 9, 6, 7, 19]\n"
     ]
    }
   ],
   "source": [
    "arr1 = [2,3,1,3,2,4,6,7,9,2,19]\n",
    "arr2 = [2,1,4,3,9,6]\n",
    "print(relativeSortArray1(arr1, arr2))\n",
    "print(relativeSortArray2(arr1, arr2))"
   ]
  },
  {
   "cell_type": "markdown",
   "metadata": {},
   "source": [
    "## 45) Duplicate Zeros in-place"
   ]
  },
  {
   "cell_type": "code",
   "execution_count": 83,
   "metadata": {},
   "outputs": [],
   "source": [
    "def duplicateZeros(arr):\n",
    "    \"\"\"\n",
    "    :type arr: List[int]\n",
    "    :rtype: None Do not return anything, modify arr in-place instead.\n",
    "    \"\"\"\n",
    "    idx = 0\n",
    "    while idx < len(arr):\n",
    "\n",
    "        if arr[idx] == 0:\n",
    "            arr.insert(idx, 0)\n",
    "            arr.pop()\n",
    "            idx += 1\n",
    "            \n",
    "        idx += 1\n",
    "        \n",
    "    return arr"
   ]
  },
  {
   "cell_type": "code",
   "execution_count": 84,
   "metadata": {},
   "outputs": [
    {
     "data": {
      "text/plain": [
       "[1, 0, 0, 2, 3, 0, 0, 4]"
      ]
     },
     "execution_count": 84,
     "metadata": {},
     "output_type": "execute_result"
    }
   ],
   "source": [
    "arr = [1,0,2,3,0,4,5,0]\n",
    "duplicateZeros(arr)"
   ]
  },
  {
   "cell_type": "markdown",
   "metadata": {},
   "source": [
    "## 46) Monotonic Array"
   ]
  },
  {
   "cell_type": "code",
   "execution_count": 87,
   "metadata": {},
   "outputs": [],
   "source": [
    "def monotonicArray(A):\n",
    "    \"\"\"\n",
    "    :type arr: List[int]\n",
    "    :rtype: bool\n",
    "    \"\"\"\n",
    "    def maxMonotonic(A):\n",
    "        Min = A[0]\n",
    "        for i in range(1, len(A)):\n",
    "            if A[i] >= Min:\n",
    "                Min = A[i]\n",
    "            else:\n",
    "                return False\n",
    "\n",
    "        return True\n",
    "    \n",
    "    def minMonotonic(A):\n",
    "        Max = A[0]\n",
    "        for i in range(1, len(A)):\n",
    "            if A[i] <= Max:\n",
    "                Max = A[i]\n",
    "            else:\n",
    "                return False\n",
    "\n",
    "        return True\n",
    "    \n",
    "    return minMonotonic(A) or maxMonotonic(A)"
   ]
  },
  {
   "cell_type": "code",
   "execution_count": 89,
   "metadata": {},
   "outputs": [
    {
     "data": {
      "text/plain": [
       "True"
      ]
     },
     "execution_count": 89,
     "metadata": {},
     "output_type": "execute_result"
    }
   ],
   "source": [
    "A = [16, 14, 4, 4, 2]\n",
    "monotonicArray(A)"
   ]
  },
  {
   "cell_type": "markdown",
   "metadata": {},
   "source": [
    "## 47) Number Complement\n",
    "### Given a positive integer, output its complement number. The complement strategy is to flip the bits of its binary representation."
   ]
  },
  {
   "cell_type": "code",
   "execution_count": 8,
   "metadata": {},
   "outputs": [],
   "source": [
    "def findComplement(num):\n",
    "    \"\"\"\n",
    "    :type num: int\n",
    "    :rtype: int\n",
    "    \"\"\"\n",
    "    # first find the binary form of num\n",
    "    bin_num = bin(num)[2:]\n",
    "\n",
    "    # find the complement by flipping 1s to 0s and 0s to 1s\n",
    "    comp = []\n",
    "    for s in bin_num:\n",
    "        if s == \"1\":\n",
    "            comp.append(\"0\")\n",
    "        else:\n",
    "            comp.append(\"1\")\n",
    "\n",
    "    comp_num = \"\".join(comp)\n",
    "\n",
    "    # calculate the sum with base 2\n",
    "    length = len(comp_num) - 1\n",
    "    Sum = 0\n",
    "    for i, s in enumerate(comp_num):\n",
    "        Sum += int(s) * 2 **(length - i)\n",
    "\n",
    "    return Sum"
   ]
  },
  {
   "cell_type": "code",
   "execution_count": 9,
   "metadata": {},
   "outputs": [
    {
     "data": {
      "text/plain": [
       "2"
      ]
     },
     "execution_count": 9,
     "metadata": {},
     "output_type": "execute_result"
    }
   ],
   "source": [
    "num = 5\n",
    "findComplement(num)"
   ]
  },
  {
   "cell_type": "markdown",
   "metadata": {},
   "source": [
    "## 48) Quick Sort"
   ]
  },
  {
   "cell_type": "code",
   "execution_count": 63,
   "metadata": {},
   "outputs": [],
   "source": [
    "def QuickSort(arr, low, high):\n",
    "    \"\"\"\n",
    "    O(N*Log(N))\n",
    "    \"\"\"\n",
    "    \n",
    "    def partition(arr, low, high): \n",
    "        i = low -1            # index of smaller element \n",
    "        pivot = arr[high]     # pivot \n",
    "\n",
    "        for j in range(low , high): \n",
    "\n",
    "            # If current element is smaller than or \n",
    "            # equal to pivot \n",
    "            if   arr[j] <= pivot: \n",
    "\n",
    "                # increment index of smaller element \n",
    "                i = i+1 \n",
    "                arr[i], arr[j] = arr[j], arr[i] \n",
    "\n",
    "        arr[i+1], arr[high] = arr[high], arr[i+1]\n",
    "        \n",
    "        return i+1\n",
    "\n",
    " \n",
    "    if low < high: \n",
    "  \n",
    "        # pi is partitioning index, arr[p] is now \n",
    "        # at right place \n",
    "        pi = partition(arr, low, high) \n",
    "  \n",
    "        # Separately sort elements before \n",
    "        # partition and after partition \n",
    "        QuickSort(arr, low, pi-1) \n",
    "        QuickSort(arr, pi+1, high)\n",
    "        \n",
    "        return arr"
   ]
  },
  {
   "cell_type": "code",
   "execution_count": 64,
   "metadata": {},
   "outputs": [
    {
     "data": {
      "text/plain": [
       "[-2, 3, 5, 7, 115]"
      ]
     },
     "execution_count": 64,
     "metadata": {},
     "output_type": "execute_result"
    }
   ],
   "source": [
    "array = [115,7,3,-2,5]\n",
    "QuickSort(array, 0, len(array)-1)"
   ]
  },
  {
   "cell_type": "markdown",
   "metadata": {},
   "source": [
    "## 49) Bubble Sort"
   ]
  },
  {
   "cell_type": "code",
   "execution_count": 65,
   "metadata": {},
   "outputs": [],
   "source": [
    "def BubbleSort(arr):\n",
    "    \"\"\"\n",
    "    O(N^2)\n",
    "    \"\"\"\n",
    "    for i in range(len(arr)):\n",
    "        for j in range(len(arr)- i -1):\n",
    "            if arr[j] >= arr[j+1]:\n",
    "                arr[j], arr[j+1] = arr[j+1], arr[j]\n",
    "                \n",
    "    return arr"
   ]
  },
  {
   "cell_type": "code",
   "execution_count": 66,
   "metadata": {},
   "outputs": [
    {
     "data": {
      "text/plain": [
       "[-2, 3, 5, 7, 115]"
      ]
     },
     "execution_count": 66,
     "metadata": {},
     "output_type": "execute_result"
    }
   ],
   "source": [
    "array = [115,7,3,-2,5]\n",
    "BubbleSort(array)"
   ]
  },
  {
   "cell_type": "markdown",
   "metadata": {},
   "source": [
    "## 50) Longest Palindrome Substring"
   ]
  },
  {
   "cell_type": "code",
   "execution_count": 78,
   "metadata": {},
   "outputs": [],
   "source": [
    "def LongestPalindrome1(s):\n",
    "    \"\"\"\n",
    "    :type s: str\n",
    "    :rtype: str\n",
    "    O(N^3)\n",
    "    \"\"\"\n",
    "    \n",
    "    def isPalindrome(s):\n",
    "        \n",
    "        return s == s[::-1]\n",
    "    \n",
    "    lengths = []\n",
    "    for i in range(len(s)):\n",
    "        for j in range(len(s)):\n",
    "            sub = s[i:j+1]\n",
    "            if isPalindrome(sub):\n",
    "                lengths.append(len(sub))\n",
    "                \n",
    "    return max(lengths)\n",
    "    \n",
    "    \n",
    "    "
   ]
  },
  {
   "cell_type": "code",
   "execution_count": 82,
   "metadata": {},
   "outputs": [],
   "source": [
    "def LongestPalindrome2(s):\n",
    "    \"\"\"\n",
    "    :type s: str\n",
    "    :rtype: str\n",
    "    O(N^2)\n",
    "    \"\"\"\n",
    "    def expandRange(s, left, right):\n",
    "        while left >=0 and right < len(s) and s[left] == s[right]:\n",
    "            left -= 1\n",
    "            right += 1\n",
    "        \n",
    "        return right - left - 1\n",
    "    \n",
    "    start = 0\n",
    "    end = 0\n",
    "    for i in range(len(s)):\n",
    "        len1 = expandRange(s, i, i)\n",
    "        len2 = expandRange(s, i, i + 1)\n",
    "        max_len = max(len1, len2)\n",
    "        \n",
    "        if max_len > end - start:\n",
    "            start = i - (max_len - 1)/2\n",
    "            end - i + max_len/2\n",
    "    return s[start:end+1]\n",
    "    "
   ]
  },
  {
   "cell_type": "code",
   "execution_count": 83,
   "metadata": {},
   "outputs": [
    {
     "name": "stdout",
     "output_type": "stream",
     "text": [
      "11\n"
     ]
    },
    {
     "ename": "TypeError",
     "evalue": "slice indices must be integers or None or have an __index__ method",
     "output_type": "error",
     "traceback": [
      "\u001b[0;31m---------------------------------------------------------------------------\u001b[0m",
      "\u001b[0;31mTypeError\u001b[0m                                 Traceback (most recent call last)",
      "\u001b[0;32m<ipython-input-83-75e251468f68>\u001b[0m in \u001b[0;36m<module>\u001b[0;34m\u001b[0m\n\u001b[1;32m      1\u001b[0m \u001b[0ms\u001b[0m \u001b[0;34m=\u001b[0m \u001b[0;34m\"aaaahjhaaaabf\"\u001b[0m\u001b[0;34m\u001b[0m\u001b[0;34m\u001b[0m\u001b[0m\n\u001b[1;32m      2\u001b[0m \u001b[0mprint\u001b[0m\u001b[0;34m(\u001b[0m\u001b[0mLongestPalindrome1\u001b[0m\u001b[0;34m(\u001b[0m\u001b[0ms\u001b[0m\u001b[0;34m)\u001b[0m\u001b[0;34m)\u001b[0m\u001b[0;34m\u001b[0m\u001b[0;34m\u001b[0m\u001b[0m\n\u001b[0;32m----> 3\u001b[0;31m \u001b[0mprint\u001b[0m\u001b[0;34m(\u001b[0m\u001b[0mLongestPalindrome2\u001b[0m\u001b[0;34m(\u001b[0m\u001b[0ms\u001b[0m\u001b[0;34m)\u001b[0m\u001b[0;34m)\u001b[0m\u001b[0;34m\u001b[0m\u001b[0;34m\u001b[0m\u001b[0m\n\u001b[0m",
      "\u001b[0;32m<ipython-input-82-ef7819e76c1f>\u001b[0m in \u001b[0;36mLongestPalindrome2\u001b[0;34m(s)\u001b[0m\n\u001b[1;32m     22\u001b[0m             \u001b[0mstart\u001b[0m \u001b[0;34m=\u001b[0m \u001b[0mi\u001b[0m \u001b[0;34m-\u001b[0m \u001b[0;34m(\u001b[0m\u001b[0mmax_len\u001b[0m \u001b[0;34m-\u001b[0m \u001b[0;36m1\u001b[0m\u001b[0;34m)\u001b[0m\u001b[0;34m/\u001b[0m\u001b[0;36m2\u001b[0m\u001b[0;34m\u001b[0m\u001b[0;34m\u001b[0m\u001b[0m\n\u001b[1;32m     23\u001b[0m             \u001b[0mend\u001b[0m \u001b[0;34m-\u001b[0m \u001b[0mi\u001b[0m \u001b[0;34m+\u001b[0m \u001b[0mmax_len\u001b[0m\u001b[0;34m/\u001b[0m\u001b[0;36m2\u001b[0m\u001b[0;34m\u001b[0m\u001b[0;34m\u001b[0m\u001b[0m\n\u001b[0;32m---> 24\u001b[0;31m     \u001b[0;32mreturn\u001b[0m \u001b[0ms\u001b[0m\u001b[0;34m[\u001b[0m\u001b[0mstart\u001b[0m\u001b[0;34m:\u001b[0m\u001b[0mend\u001b[0m\u001b[0;34m+\u001b[0m\u001b[0;36m1\u001b[0m\u001b[0;34m]\u001b[0m\u001b[0;34m\u001b[0m\u001b[0;34m\u001b[0m\u001b[0m\n\u001b[0m\u001b[1;32m     25\u001b[0m \u001b[0;34m\u001b[0m\u001b[0m\n",
      "\u001b[0;31mTypeError\u001b[0m: slice indices must be integers or None or have an __index__ method"
     ]
    }
   ],
   "source": [
    "s = \"aaaahjhaaaabf\"\n",
    "print(LongestPalindrome1(s))\n",
    "print(LongestPalindrome2(s))"
   ]
  },
  {
   "cell_type": "markdown",
   "metadata": {},
   "source": [
    "## 51) Search in Rotated Sorted Array"
   ]
  },
  {
   "cell_type": "code",
   "execution_count": 14,
   "metadata": {},
   "outputs": [],
   "source": [
    "def RotatedSearch(nums, target):\n",
    "    \"\"\"\n",
    "    :type nums: List[int]\n",
    "    :type target: int\n",
    "    :rtype: int\n",
    "    O(Log(N))\n",
    "    \"\"\"\n",
    "    \n",
    "    # first modified binary search to find the pivot\n",
    "    left = 0\n",
    "    right = len(nums) - 1\n",
    "    \n",
    "    while(left < right):\n",
    "        mid = (left + (right - left)//2) # avoid memory overflow : mid = (left + right)//2\n",
    "        if nums[mid] > nums[right]:\n",
    "            left = mid + 1\n",
    "        else:\n",
    "            right = mid\n",
    "            \n",
    "    # now the pivot is at left index\n",
    "    pivot = left\n",
    "    \n",
    "    # now we can do normal binary search from [0... pivot) or [pivot ... N-1]\n",
    "    left = 0\n",
    "    right = len(nums) - 1\n",
    "    \n",
    "    # now here we can decide which route we choose\n",
    "    if (target >= nums[pivot]) and (target <= nums[right]):\n",
    "        left = pivot\n",
    "    else:\n",
    "        right = pivot\n",
    "    \n",
    "    \n",
    "    while left <= right:\n",
    "        mid = left + (right - left)//2\n",
    "        if target == nums[mid]:\n",
    "            return mid\n",
    "        elif target > nums[mid]:\n",
    "            left = mid + 1\n",
    "        else:\n",
    "            right = mid - 1\n",
    "            \n",
    "    return -1\n",
    "    \n"
   ]
  },
  {
   "cell_type": "code",
   "execution_count": 15,
   "metadata": {},
   "outputs": [
    {
     "data": {
      "text/plain": [
       "4"
      ]
     },
     "execution_count": 15,
     "metadata": {},
     "output_type": "execute_result"
    }
   ],
   "source": [
    "nums = [4,5,6,7,0,1,2]; target = 0;\n",
    "RotatedSearch(nums, target)"
   ]
  },
  {
   "cell_type": "markdown",
   "metadata": {},
   "source": [
    "## 52) Product Array Except Self"
   ]
  },
  {
   "cell_type": "code",
   "execution_count": 29,
   "metadata": {},
   "outputs": [],
   "source": [
    "def productExceptSelf(nums):\n",
    "    \"\"\"\n",
    "    :type nums: List[int]\n",
    "    :rtype: List[int]\n",
    "    \"\"\"\n",
    "    left = [0]*len(nums)\n",
    "    right = [0]*len(nums)\n",
    "    left[0] = 1\n",
    "    right[-1] = 1\n",
    "    outputs = [0]*len(nums)\n",
    "    for i in range(1, len(nums)):\n",
    "        left[i] = nums[i-1] * left[i-1]\n",
    "\n",
    "    for i in range(len(nums)-2, -1, -1):\n",
    "        right[i] = nums[i+1] * right[i+1]\n",
    "\n",
    "    for i in range(len(nums)):\n",
    "        outputs[i] = left[i] * right[i]\n",
    "    \n",
    "    return outputs"
   ]
  },
  {
   "cell_type": "code",
   "execution_count": 30,
   "metadata": {},
   "outputs": [
    {
     "data": {
      "text/plain": [
       "[24, 12, 8, 6]"
      ]
     },
     "execution_count": 30,
     "metadata": {},
     "output_type": "execute_result"
    }
   ],
   "source": [
    "nums = [1, 2, 3, 4]\n",
    "productExceptSelf(nums)"
   ]
  },
  {
   "cell_type": "markdown",
   "metadata": {},
   "source": [
    "## 53) Dot Prodoct of Sparce Matrices"
   ]
  },
  {
   "cell_type": "code",
   "execution_count": 11,
   "metadata": {},
   "outputs": [],
   "source": [
    "def SparseDotProduct1(a, b):\n",
    "    \"\"\"\n",
    "    :type a: List[tuples]\n",
    "    :type b: List[tuples]\n",
    "    :rtype: int\n",
    "    O(N) \n",
    "    \"\"\"\n",
    "    i = 0 \n",
    "    j = 0\n",
    "    answer = 0\n",
    "\n",
    "    while i < len(a) and j < len(b):\n",
    "        if a[i][0] == b[j][0]:\n",
    "            answer += a[i][1] * b[j][1]\n",
    "            i += 1\n",
    "            j += 1\n",
    "\n",
    "        elif a[i][0] > b[j][0]:\n",
    "            j += 1\n",
    "\n",
    "        elif a[i][0] < b[j][0]:\n",
    "            i += 1\n",
    "            \n",
    "    return answer"
   ]
  },
  {
   "cell_type": "code",
   "execution_count": 14,
   "metadata": {},
   "outputs": [],
   "source": [
    "def SparseDotProduct2(a, b):\n",
    "    \"\"\"\n",
    "    :type a: List[tuples]\n",
    "    :type b: List[tuples]\n",
    "    :rtype: int\n",
    "    O(N)\n",
    "    \"\"\"\n",
    "    dct = {}\n",
    "    for tup in a:\n",
    "        dct[tup[0]] = tup[1]\n",
    "        \n",
    "    answer = 0\n",
    "    for tup in b:\n",
    "        if tup[0] in dct:\n",
    "            answer += tup[1] * dct[tup[0]]\n",
    "            \n",
    "    return answer\n",
    "    "
   ]
  },
  {
   "cell_type": "code",
   "execution_count": 16,
   "metadata": {},
   "outputs": [
    {
     "name": "stdout",
     "output_type": "stream",
     "text": [
      "32\n",
      "32\n"
     ]
    }
   ],
   "source": [
    "a = [(1,2),(2,3),(100,5)]\n",
    "b = [(0,5),(1,1),(100,6)]\n",
    "print(SparseDotProduct1(a, b))\n",
    "print(SparseDotProduct2(a, b))"
   ]
  },
  {
   "cell_type": "markdown",
   "metadata": {},
   "source": [
    "## 54) Single Element in a Sorted Array"
   ]
  },
  {
   "cell_type": "code",
   "execution_count": 95,
   "metadata": {},
   "outputs": [],
   "source": [
    "def singleNonDuplicate1(nums):\n",
    "    \"\"\"\n",
    "    :type nums: List[int]\n",
    "    :rtype: int\n",
    "    \"\"\"\n",
    "    start = 0\n",
    "    end = len(nums) - 1\n",
    "    while start < end:\n",
    "        mid = start + (end - start)// 2\n",
    "        if mid % 2 == 1 and nums[mid - 1] == nums[mid]:\n",
    "            start = mid + 1\n",
    "        elif  mid % 2 == 0 and nums[mid + 1] == nums[mid]:\n",
    "            start = mid + 2\n",
    "        else:\n",
    "            end = mid\n",
    "    return nums[start]"
   ]
  },
  {
   "cell_type": "code",
   "execution_count": 100,
   "metadata": {},
   "outputs": [],
   "source": [
    "def singleNonDuplicate2(nums):\n",
    "    \"\"\"\n",
    "    :type nums: List[int]\n",
    "    :rtype: int\n",
    "    \"\"\"\n",
    "    start = 0\n",
    "    end = len(nums)//2\n",
    "    while start < end:\n",
    "        mid = start + (end - start)// 2\n",
    "        if nums[2*mid] != nums[2*mid + 1]:\n",
    "            end = mid\n",
    "        else:\n",
    "            start = mid + 1\n",
    "            \n",
    "    return nums[2*start]"
   ]
  },
  {
   "cell_type": "code",
   "execution_count": 101,
   "metadata": {},
   "outputs": [
    {
     "name": "stdout",
     "output_type": "stream",
     "text": [
      "10\n",
      "10\n"
     ]
    }
   ],
   "source": [
    "nums = [1,1,3,3,4,4,5,5,8,8,10]\n",
    "print(singleNonDuplicate1(nums))\n",
    "print(singleNonDuplicate2(nums))"
   ]
  },
  {
   "cell_type": "markdown",
   "metadata": {},
   "source": [
    "## 55) Maximum Sum Circular Subarray"
   ]
  },
  {
   "cell_type": "code",
   "execution_count": 18,
   "metadata": {},
   "outputs": [],
   "source": [
    "def maxSubarraySumCircular1(nums):\n",
    "    \"\"\"\n",
    "    :type A: List[int]\n",
    "    :rtype: int\n",
    "    O(N^2)\n",
    "    \"\"\"\n",
    "    N = len(nums)\n",
    "    Sums = []\n",
    "    arr = nums\n",
    "    for i in range(N):\n",
    "        arr.append(nums[i])\n",
    "    \n",
    "    for i in range(len(arr)):\n",
    "        for j in range(len(arr)):\n",
    "            sub = arr[i:j]\n",
    "            if len(sub) <= N:\n",
    "                Sums.append(sum(sub))\n",
    "                \n",
    "    return max(Sums)\n",
    "    "
   ]
  },
  {
   "cell_type": "code",
   "execution_count": 25,
   "metadata": {},
   "outputs": [],
   "source": [
    "def maxSubarraySumCircular2(nums):\n",
    "    \"\"\"\n",
    "    :type A: List[int]\n",
    "    :rtype: int\n",
    "    O(N) Kadane's Algorithm\n",
    "    \"\"\"\n",
    "    Sum = current_max = global_max = current_min = global_min = nums[0]\n",
    "    \n",
    "    for i in range(1, len(nums)):\n",
    "        \n",
    "        # Kadanes for Max\n",
    "        if current_max + nums[i] > nums[i]:\n",
    "            current_max += nums[i]\n",
    "        else:\n",
    "            current_max = nums[i]\n",
    "            \n",
    "        global_max = max(global_max, current_max)\n",
    "        \n",
    "        # Kadanes for Min\n",
    "        if current_min + nums[i] < nums[i]:\n",
    "            current_min += nums[i]\n",
    "        else:\n",
    "            current_min = nums[i]\n",
    "            \n",
    "        global_min = min(global_min, current_min)\n",
    "        \n",
    "        \n",
    "        # Sum\n",
    "        Sum += nums[i]\n",
    "        \n",
    "        \n",
    "    # now we check the cases\n",
    "    # if all numbers are negative\n",
    "    if Sum == global_min:\n",
    "        return global_max\n",
    "    else:\n",
    "        return max(Sum - global_min, global_max)\n",
    "    \n",
    "        \n",
    "    \n",
    "    \n",
    "    "
   ]
  },
  {
   "cell_type": "code",
   "execution_count": 27,
   "metadata": {},
   "outputs": [
    {
     "name": "stdout",
     "output_type": "stream",
     "text": [
      "10\n",
      "10\n"
     ]
    }
   ],
   "source": [
    "nums = [5,-3,5]\n",
    "print(maxSubarraySumCircular1(nums))\n",
    "nums = [5,-3,5]\n",
    "print(maxSubarraySumCircular2(nums))"
   ]
  },
  {
   "cell_type": "markdown",
   "metadata": {},
   "source": [
    "## 56) Longest substring without repeating"
   ]
  },
  {
   "cell_type": "code",
   "execution_count": 72,
   "metadata": {},
   "outputs": [],
   "source": [
    "def lengthOfLongestSubstring1(s):\n",
    "    \"\"\"\n",
    "    :type s: str\n",
    "    :rtype: int\n",
    "    O(N)\n",
    "    \"\"\"\n",
    "\n",
    "    sub = \"\"\n",
    "    maxLength = 0\n",
    "\n",
    "    for char in s:\n",
    "        # check if char is in sub\n",
    "        if char in sub:\n",
    "            sub = sub[sub.index(char)+1:]\n",
    "\n",
    "        sub += char\n",
    "\n",
    "        maxLength = max(maxLength, len(sub))\n",
    "\n",
    "\n",
    "    return maxLength"
   ]
  },
  {
   "cell_type": "code",
   "execution_count": 73,
   "metadata": {},
   "outputs": [],
   "source": [
    "def lengthOfLongestSubstring2(s):\n",
    "    \"\"\"\n",
    "    :type s: str\n",
    "    :rtype: int\n",
    "    O(N)\n",
    "    \"\"\"\n",
    "    seen = {}\n",
    "    idx = -1\n",
    "    maxLength = 0\n",
    "    \n",
    "    for key, val in enumerate(s):\n",
    "        if val in seen:\n",
    "            idx = max(idx, seen[val])\n",
    "        \n",
    "        seen[val] = key\n",
    "        maxLength = max(maxLength, key-idx)\n",
    "    \n",
    "    return maxLength"
   ]
  },
  {
   "cell_type": "code",
   "execution_count": 75,
   "metadata": {},
   "outputs": [
    {
     "name": "stdout",
     "output_type": "stream",
     "text": [
      "3\n",
      "3\n"
     ]
    }
   ],
   "source": [
    "s = \"apple\"\n",
    "print(lengthOfLongestSubstring1(s))\n",
    "print(lengthOfLongestSubstring2(s))"
   ]
  },
  {
   "cell_type": "markdown",
   "metadata": {},
   "source": [
    "## 57) "
   ]
  },
  {
   "cell_type": "code",
   "execution_count": null,
   "metadata": {},
   "outputs": [],
   "source": []
  },
  {
   "cell_type": "code",
   "execution_count": null,
   "metadata": {},
   "outputs": [],
   "source": []
  },
  {
   "cell_type": "markdown",
   "metadata": {},
   "source": [
    "# SCRATCH BELOW"
   ]
  },
  {
   "cell_type": "code",
   "execution_count": 30,
   "metadata": {},
   "outputs": [],
   "source": [
    "s = \"\"\"\n",
    "FaceBook List\n",
    "\n",
    "1) Longest substring without repeating       [Solved]\n",
    "2) Roman to Integer\n",
    "3) Remove Duplicates from Sorted Array\n",
    "4) Multiply Strings\n",
    "5) Add Binary\n",
    "6) Merge Sorted Array\n",
    "7) Read N Characters Given Read4\n",
    "8) One Edit Distance\n",
    "9) Integer to English Words\n",
    "10) Longest Substring with at most K Dis\n",
    "11) Subarray Sum equal K\n",
    "12) String to Integer (atoi)\n",
    "13) 3sum\n",
    "14) Next Permutation\n",
    "15) Group Anagrams\n",
    "16) Minimum Window  Substring\n",
    "17) Valid Palindrome\n",
    "18) Product of Array Except Self\n",
    "19) Move Zeros\n",
    "20) Valid IP Address\n",
    "21) Valid Palindrome II\n",
    "22) \n",
    "\n",
    "\n",
    "\"\"\"\n"
   ]
  },
  {
   "cell_type": "code",
   "execution_count": 31,
   "metadata": {},
   "outputs": [],
   "source": [
    "seen = {}"
   ]
  },
  {
   "cell_type": "code",
   "execution_count": 32,
   "metadata": {},
   "outputs": [],
   "source": [
    "seen[\"a\"] = 1"
   ]
  },
  {
   "cell_type": "code",
   "execution_count": 33,
   "metadata": {},
   "outputs": [
    {
     "data": {
      "text/plain": [
       "{'a': 1}"
      ]
     },
     "execution_count": 33,
     "metadata": {},
     "output_type": "execute_result"
    }
   ],
   "source": [
    "seen"
   ]
  },
  {
   "cell_type": "code",
   "execution_count": null,
   "metadata": {},
   "outputs": [],
   "source": []
  }
 ],
 "metadata": {
  "kernelspec": {
   "display_name": "Python 3",
   "language": "python",
   "name": "python3"
  },
  "language_info": {
   "codemirror_mode": {
    "name": "ipython",
    "version": 3
   },
   "file_extension": ".py",
   "mimetype": "text/x-python",
   "name": "python",
   "nbconvert_exporter": "python",
   "pygments_lexer": "ipython3",
   "version": "3.7.6"
  }
 },
 "nbformat": 4,
 "nbformat_minor": 2
}
