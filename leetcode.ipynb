{
 "cells": [
  {
   "cell_type": "markdown",
   "metadata": {},
   "source": [
    "# Here is some of the questions I solved for coding interviews from LeetCode"
   ]
  },
  {
   "cell_type": "markdown",
   "metadata": {},
   "source": [
    "## 1) The count of prime numbers before non-negative number N.\n",
    "### Test case: Input = 10 --> Output: 4"
   ]
  },
  {
   "cell_type": "code",
   "execution_count": 1,
   "metadata": {},
   "outputs": [],
   "source": [
    "def countPrime(N):\n",
    "    \"\"\"\n",
    "    input: int N\n",
    "    output: int count\n",
    "    \"\"\"\n",
    "    def isPrime(M):\n",
    "        \"\"\"\n",
    "        input: int M\n",
    "        output: bool\n",
    "        \"\"\"\n",
    "        for m in range(2, M):\n",
    "            if(M % m == 0):\n",
    "                return False\n",
    "            \n",
    "        return True\n",
    "    \n",
    "    count = []\n",
    "    for n in range(2, N+1):\n",
    "        count.append(isPrime(n))\n",
    "    \n",
    "    return sum(count)\n",
    "        "
   ]
  },
  {
   "cell_type": "code",
   "execution_count": 2,
   "metadata": {},
   "outputs": [
    {
     "data": {
      "text/plain": [
       "4"
      ]
     },
     "execution_count": 2,
     "metadata": {},
     "output_type": "execute_result"
    }
   ],
   "source": [
    "countPrime(10)"
   ]
  },
  {
   "cell_type": "markdown",
   "metadata": {},
   "source": [
    "## 2) Given an array of integers, return indices of the two numbers such that they add up to a specific target. You may assume that each input would have exactly one solution, and you may not use the same element twice.\n",
    "### Test case: Inputs: array = [2, 7, 11, 15], target = 9 -->  Output = [0, 1]"
   ]
  },
  {
   "cell_type": "code",
   "execution_count": 3,
   "metadata": {},
   "outputs": [],
   "source": [
    "def TwoSum(num, target):\n",
    "    \"\"\"\n",
    "    input: List(int) num\n",
    "           int target\n",
    "    output: list of indices\n",
    "    \"\"\"\n",
    "    for i in num:\n",
    "        subTarget = int(target - i)\n",
    "        if(subTarget in num):\n",
    "            return [num.index(i), num.index(subTarget)]\n",
    "        \n",
    "    return \"Does not exist\"\n",
    "    "
   ]
  },
  {
   "cell_type": "code",
   "execution_count": 4,
   "metadata": {},
   "outputs": [
    {
     "data": {
      "text/plain": [
       "[0, 1]"
      ]
     },
     "execution_count": 4,
     "metadata": {},
     "output_type": "execute_result"
    }
   ],
   "source": [
    "num = [2, 7, 11, 15]\n",
    "target = 9\n",
    "\n",
    "TwoSum(num, target)"
   ]
  },
  {
   "cell_type": "markdown",
   "metadata": {},
   "source": [
    "## 3) Given a 32-bit signed integer, reverse digits of an integer.\n",
    "### Test case: Input: 123 --> Output: 321; Input: -123 --> Output: -321; Input: 120 --> Output: 21"
   ]
  },
  {
   "cell_type": "code",
   "execution_count": 5,
   "metadata": {},
   "outputs": [],
   "source": [
    "def ReverseDigits(N):\n",
    "    \"\"\"\n",
    "    input: int N\n",
    "    output: int \n",
    "    \"\"\"\n",
    "    if(N >= 0):\n",
    "        return int(str(N)[::-1])\n",
    "    \n",
    "    else:\n",
    "        return (-1) * int(str(abs(N))[::-1])"
   ]
  },
  {
   "cell_type": "code",
   "execution_count": 6,
   "metadata": {},
   "outputs": [
    {
     "name": "stdout",
     "output_type": "stream",
     "text": [
      "123 --> 321\n",
      "-123 --> -321\n",
      "120 --> 21\n"
     ]
    }
   ],
   "source": [
    "for N in [123, -123, 120]:\n",
    "    print(F\"{N} --> {ReverseDigits(N)}\")"
   ]
  },
  {
   "cell_type": "markdown",
   "metadata": {},
   "source": [
    "## 4) Determine whether an integer is a palindrome. An integer is a palindrome when it reads the same backward as forward.\n",
    "### Test case: Input: 121 --> Output: True; Input: -121 --> Output: False; Input: 10 --> Output: False"
   ]
  },
  {
   "cell_type": "code",
   "execution_count": 7,
   "metadata": {},
   "outputs": [],
   "source": [
    "def isPalindrome(N):\n",
    "    \"\"\"\n",
    "    input: int N\n",
    "    output: bool\n",
    "    \"\"\"\n",
    "    if(N % 10 == 0 or N < 0):\n",
    "        return False\n",
    "    \n",
    "    if(int(str(N)[::-1]) == N):\n",
    "        return True\n",
    "    else:\n",
    "        return False"
   ]
  },
  {
   "cell_type": "code",
   "execution_count": 8,
   "metadata": {},
   "outputs": [
    {
     "name": "stdout",
     "output_type": "stream",
     "text": [
      "121 --> True\n",
      "-121 --> False\n",
      "10 --> False\n"
     ]
    }
   ],
   "source": [
    "for N in [121, -121, 10]:\n",
    "    print(F\"{N} --> {isPalindrome(N)}\")"
   ]
  },
  {
   "cell_type": "markdown",
   "metadata": {},
   "source": [
    "## 5) Find the longest common prefix string amongst an array of strings.\n",
    "### Test case: Input: [\"flower\", \"flow\", \"flight\"] --> Output: \"fl\"; Input: [\"dog\", \"racecar\", \"car\"] --> Output: \" \""
   ]
  },
  {
   "cell_type": "code",
   "execution_count": 9,
   "metadata": {},
   "outputs": [],
   "source": [
    "def LongestPrefix(strs):\n",
    "    \"\"\"\n",
    "    input: List(str) strs\n",
    "    outout: str\n",
    "    \"\"\"\n",
    "    if not strs:\n",
    "        return \"\"\n",
    "    \n",
    "    minlength = min(strs)\n",
    "    for i in range(len(minlength)):\n",
    "        for s in strs:\n",
    "            if s[i] != minlength[i]:\n",
    "                return minlength[:i] if i > 0 else \"\"\n",
    "    \n",
    "    "
   ]
  },
  {
   "cell_type": "code",
   "execution_count": 10,
   "metadata": {},
   "outputs": [
    {
     "data": {
      "text/plain": [
       "'fl'"
      ]
     },
     "execution_count": 10,
     "metadata": {},
     "output_type": "execute_result"
    }
   ],
   "source": [
    "strs = [\"flower\", \"flow\", \"flight\"]\n",
    "LongestPrefix(strs)"
   ]
  },
  {
   "cell_type": "code",
   "execution_count": 11,
   "metadata": {},
   "outputs": [
    {
     "data": {
      "text/plain": [
       "''"
      ]
     },
     "execution_count": 11,
     "metadata": {},
     "output_type": "execute_result"
    }
   ],
   "source": [
    "strs = [\"dog\", \"racecar\", \"car\"]\n",
    "LongestPrefix(strs)"
   ]
  },
  {
   "cell_type": "markdown",
   "metadata": {},
   "source": [
    "## 6) Compute and return the square root of x, where x is guaranteed to be a non-negative integer. Since the return type is an integer, the decimal digits are truncated and only the integer part of the result is returned.\n",
    "### Test case: Input: 8 --> Output: 2"
   ]
  },
  {
   "cell_type": "code",
   "execution_count": 12,
   "metadata": {},
   "outputs": [],
   "source": [
    "def sqrt(x):\n",
    "    \"\"\"\n",
    "    input: int x\n",
    "    output: int\n",
    "    \"\"\"\n",
    "    return int(x ** (0.5))  "
   ]
  },
  {
   "cell_type": "code",
   "execution_count": 13,
   "metadata": {},
   "outputs": [
    {
     "data": {
      "text/plain": [
       "2"
      ]
     },
     "execution_count": 13,
     "metadata": {},
     "output_type": "execute_result"
    }
   ],
   "source": [
    "sqrt(8)"
   ]
  },
  {
   "cell_type": "markdown",
   "metadata": {},
   "source": [
    "## 7) Return the index of the first occurrence of needle in haystack, or -1 if needle is not part of haystack.\n",
    "### Test case: Input: haystack = \"hello\", needle = \"ll\", Output: 2; Input: haystack = \"aaaa\", needle = \"bba\", output = -1"
   ]
  },
  {
   "cell_type": "code",
   "execution_count": 14,
   "metadata": {},
   "outputs": [],
   "source": [
    "def strStr(haystack, needle):\n",
    "    \"\"\"\n",
    "    input: haystack str\n",
    "           needle str\n",
    "    output: int\n",
    "    \"\"\"\n",
    "    step = len(needle)\n",
    "    for i in range(len(haystack)):\n",
    "        if(haystack[i:i+step] == needle):\n",
    "            return i\n",
    "    \n",
    "    return -1"
   ]
  },
  {
   "cell_type": "code",
   "execution_count": 15,
   "metadata": {},
   "outputs": [
    {
     "data": {
      "text/plain": [
       "2"
      ]
     },
     "execution_count": 15,
     "metadata": {},
     "output_type": "execute_result"
    }
   ],
   "source": [
    "strStr(haystack = \"hello\", needle = \"ll\")"
   ]
  },
  {
   "cell_type": "code",
   "execution_count": 16,
   "metadata": {},
   "outputs": [
    {
     "data": {
      "text/plain": [
       "-1"
      ]
     },
     "execution_count": 16,
     "metadata": {},
     "output_type": "execute_result"
    }
   ],
   "source": [
    "strStr(haystack = \"aaaa\", needle = \"bba\")"
   ]
  },
  {
   "cell_type": "markdown",
   "metadata": {},
   "source": [
    "## 8) Given a sorted array and a target value, return the index if the target is found. If not, return the index where it would be if it were inserted in order. You may assume no duplicates in the array.\n",
    "### Test case: Input: [1, 3, 5, 6], 5, Output: 2; Input: [1, 3, 5, 6], 2, Output: 1; Input: [1, 3, 5, 6], 7, Output: 4; Input: [1, 3, 5, 6], 0, Output: 0"
   ]
  },
  {
   "cell_type": "code",
   "execution_count": 17,
   "metadata": {},
   "outputs": [],
   "source": [
    "def searchInsert1(nums, target):\n",
    "    \"\"\"\n",
    "    input: List(int) nums\n",
    "           int target\n",
    "    output: int\n",
    "    \"\"\"\n",
    "    nums.append(target)\n",
    "    nums_sorted = sorted(nums)\n",
    "    index = nums_sorted.index(target)\n",
    "    \n",
    "    return index"
   ]
  },
  {
   "cell_type": "code",
   "execution_count": 18,
   "metadata": {},
   "outputs": [],
   "source": [
    "def searchInsert2(nums, target):\n",
    "    \"\"\"\n",
    "    input: List(int) nums\n",
    "           int target\n",
    "    output: int\n",
    "    \"\"\"\n",
    "    for i in range(len(nums)):\n",
    "        if(nums[i] >= target):\n",
    "            return i\n",
    "    return i+1"
   ]
  },
  {
   "cell_type": "code",
   "execution_count": 19,
   "metadata": {},
   "outputs": [
    {
     "name": "stdout",
     "output_type": "stream",
     "text": [
      "2\n",
      "1\n",
      "4\n",
      "0\n"
     ]
    }
   ],
   "source": [
    "nums = [1, 3, 5, 6]\n",
    "targets = [5, 2, 7, 0]\n",
    "for target in targets:\n",
    "    print(searchInsert2(nums, target))"
   ]
  },
  {
   "cell_type": "markdown",
   "metadata": {},
   "source": [
    "## 9) If we list all the natural numbers below 10 that are multiples of 3 or 5, we get 3, 5, 6 and 9. The sum of these multiples is 23.\n",
    "### Test case: Input: 1000, Output: 233168"
   ]
  },
  {
   "cell_type": "code",
   "execution_count": 20,
   "metadata": {},
   "outputs": [],
   "source": [
    "def three_five_multipliers(N):\n",
    "    \"\"\"\n",
    "    input: integer N\n",
    "    output: integer\n",
    "    \"\"\"\n",
    "    nums = []\n",
    "    for n in range(N):\n",
    "        if(n % 3 == 0 or n % 5 == 0):\n",
    "            nums.append(n)\n",
    "        \n",
    "    return sum(nums)"
   ]
  },
  {
   "cell_type": "code",
   "execution_count": 21,
   "metadata": {},
   "outputs": [
    {
     "data": {
      "text/plain": [
       "233168"
      ]
     },
     "execution_count": 21,
     "metadata": {},
     "output_type": "execute_result"
    }
   ],
   "source": [
    "three_five_multipliers(1000)"
   ]
  },
  {
   "cell_type": "markdown",
   "metadata": {},
   "source": [
    "## 10) Given a string containing just the characters '(', ')', '{', '}', '[' and ']', determine if the input string is valid. \n",
    "## An input string is valid if:\n",
    "### Open brackets must be closed by the same type of brackets.\n",
    "### Open brackets must be closed in the correct order.\n",
    "### Note that an empty string is also considered valid.\n",
    "### Test case: Input: \"()\", Output: True; Input: \"()[]{}\", Output: true; Input: \"(]\", Output: false"
   ]
  },
  {
   "cell_type": "code",
   "execution_count": 22,
   "metadata": {},
   "outputs": [],
   "source": [
    "def isValidPrantheses(s):\n",
    "    \"\"\"\n",
    "    input: string s\n",
    "    outout: bool\n",
    "    \"\"\"\n",
    "    stack = []\n",
    "    char_dict = {\"(\" : 1, \")\" : -1,\n",
    "                 \"[\" : 3, \"]\" : -3,\n",
    "                 \"{\" : 5, \"}\" : -5}\n",
    "\n",
    "    for char in s:\n",
    "        char_value = char_dict[char]\n",
    "        if(char_value > 0):\n",
    "            stack.append(char_value)\n",
    "        elif(len(stack) > 0 and (stack[-1] + char_value) == 0):\n",
    "            stack.pop()\n",
    "        else:\n",
    "            return False\n",
    "\n",
    "    if(len(stack) == 0):\n",
    "        return True\n",
    "    else:\n",
    "        return False"
   ]
  },
  {
   "cell_type": "code",
   "execution_count": 23,
   "metadata": {},
   "outputs": [
    {
     "name": "stdout",
     "output_type": "stream",
     "text": [
      "True\n",
      "True\n",
      "False\n",
      "True\n",
      "True\n"
     ]
    }
   ],
   "source": [
    "for s in [\"()\", \"()[]{}\", \"(])\", \"\", \"{[]}\"]:\n",
    "    print(isValidPrantheses(s))"
   ]
  },
  {
   "cell_type": "markdown",
   "metadata": {},
   "source": [
    "## 11) The Palindrome number less than 100,000, divisible by 109:\n",
    "### Test case: Input: 100,000, Output: [545, 5995, 15151, 64746, 74447, 79897, 84148, 89598, 99299]"
   ]
  },
  {
   "cell_type": "code",
   "execution_count": 54,
   "metadata": {},
   "outputs": [],
   "source": [
    "def isPalindrome_109(N):\n",
    "    \"\"\"\n",
    "    input: int N\n",
    "    ouput: List(int)\n",
    "    \"\"\"\n",
    "    def isPalindrome(N):\n",
    "        \"\"\"\n",
    "        input: int N\n",
    "        output: bool\n",
    "        \"\"\"\n",
    "        if(N % 10 == 0 or N < 0):\n",
    "            return False\n",
    "\n",
    "        if(int(str(N)[::-1]) == N):\n",
    "            return True\n",
    "        else:\n",
    "            return False\n",
    "    \n",
    "    nums = []\n",
    "    for n in range(N):\n",
    "        if(isPalindrome(n) and n % 109 == 0):\n",
    "            nums.append(n)\n",
    "            \n",
    "    return nums"
   ]
  },
  {
   "cell_type": "code",
   "execution_count": 55,
   "metadata": {},
   "outputs": [
    {
     "data": {
      "text/plain": [
       "[545, 5995, 15151, 64746, 74447, 79897, 84148, 89598, 99299]"
      ]
     },
     "execution_count": 55,
     "metadata": {},
     "output_type": "execute_result"
    }
   ],
   "source": [
    "isPalindrome_109(10**5)"
   ]
  },
  {
   "cell_type": "markdown",
   "metadata": {},
   "source": [
    "## 12) Given an integer, write a function to determine if N is power of M\n",
    "### Test case for M=2: Input: 1, Output: True; Input: 16, Output: True; Input: 218, Output: False"
   ]
  },
  {
   "cell_type": "code",
   "execution_count": 26,
   "metadata": {},
   "outputs": [],
   "source": [
    "def isNPowerOfM(N, M):\n",
    "    \"\"\"\n",
    "    input: int N\n",
    "           int M\n",
    "    output: bool\n",
    "    \"\"\"\n",
    "    while(N > 1):\n",
    "        N = N/M\n",
    "    \n",
    "    if(N == 1):\n",
    "        return True\n",
    "    else:\n",
    "        return False   "
   ]
  },
  {
   "cell_type": "code",
   "execution_count": 27,
   "metadata": {},
   "outputs": [
    {
     "name": "stdout",
     "output_type": "stream",
     "text": [
      "True\n",
      "True\n",
      "False\n"
     ]
    }
   ],
   "source": [
    "for N in [1, 16, 218]:\n",
    "    print(isNPowerOfM(N, 2))"
   ]
  },
  {
   "cell_type": "markdown",
   "metadata": {},
   "source": [
    "## 13) Calculate $x^y$ with using only operator +"
   ]
  },
  {
   "cell_type": "code",
   "execution_count": 28,
   "metadata": {},
   "outputs": [],
   "source": [
    "def x_y_pow_with_sum(x, y):\n",
    "    \"\"\"\n",
    "    input: int x\n",
    "           int y\n",
    "    output: int\n",
    "    \"\"\"\n",
    "    \n",
    "    def pow_x_2(x):\n",
    "        count = 1\n",
    "        temp = 0\n",
    "        while(count <= x):\n",
    "            temp += x\n",
    "            count += 1\n",
    "        return temp\n",
    "    \n",
    "    def multiply_x_y(x, y):\n",
    "        count = 1\n",
    "        temp = 0\n",
    "        while(count <= y):\n",
    "            temp += x\n",
    "            count += 1\n",
    "        return temp\n",
    "\n",
    "    power = pow_x_2(x)\n",
    "    count = 1\n",
    "\n",
    "    while(count <= y-2): \n",
    "        power = multiply_x_y(power, x)\n",
    "        count += 1\n",
    "            \n",
    "    return power"
   ]
  },
  {
   "cell_type": "code",
   "execution_count": 29,
   "metadata": {},
   "outputs": [
    {
     "data": {
      "text/plain": [
       "81"
      ]
     },
     "execution_count": 29,
     "metadata": {},
     "output_type": "execute_result"
    }
   ],
   "source": [
    "x_y_pow_with_sum(3, 4)"
   ]
  },
  {
   "cell_type": "markdown",
   "metadata": {},
   "source": [
    "## 14) Calculate $\\sqrt[n]{x}$ for float x > 0 and int n >= 2"
   ]
  },
  {
   "cell_type": "code",
   "execution_count": 38,
   "metadata": {},
   "outputs": [],
   "source": [
    "def sqrt_n_x(x, n):\n",
    "    \"\"\"\n",
    "    input: float x\n",
    "           int n\n",
    "    output: float\n",
    "    \"\"\"\n",
    "    def Newton(x, n, x0):\n",
    "        dev = n * x0**(n-1)\n",
    "        f = x0**n - x\n",
    "        \n",
    "        return x0 - f/dev\n",
    "    \n",
    "    count = 0\n",
    "    x0 = 1e-6\n",
    "    while(count <= 1e4):\n",
    "        x0 = Newton(x, n, x0)\n",
    "        count += 1\n",
    "        \n",
    "        \n",
    "    return x0  "
   ]
  },
  {
   "cell_type": "code",
   "execution_count": 3,
   "metadata": {},
   "outputs": [
    {
     "data": {
      "text/plain": [
       "[1, 2, 3, 4, 5, 6, 7, 8]"
      ]
     },
     "execution_count": 3,
     "metadata": {},
     "output_type": "execute_result"
    }
   ],
   "source": [
    "list(range(1, 9))"
   ]
  },
  {
   "cell_type": "code",
   "execution_count": 11,
   "metadata": {},
   "outputs": [],
   "source": [
    "a = [0,1]"
   ]
  },
  {
   "cell_type": "code",
   "execution_count": 12,
   "metadata": {},
   "outputs": [
    {
     "data": {
      "text/plain": [
       "[1]"
      ]
     },
     "execution_count": 12,
     "metadata": {},
     "output_type": "execute_result"
    }
   ],
   "source": [
    "list(range(1, len(a) ))"
   ]
  },
  {
   "cell_type": "code",
   "execution_count": 13,
   "metadata": {},
   "outputs": [
    {
     "data": {
      "text/plain": [
       "2"
      ]
     },
     "execution_count": 13,
     "metadata": {},
     "output_type": "execute_result"
    }
   ],
   "source": [
    "len(a)"
   ]
  },
  {
   "cell_type": "markdown",
   "metadata": {},
   "source": [
    "## 15) Given an array of integers, find if the array contains any duplicates. Your function should return true if any value appears at least twice in the array, and it should return false if every element is distinct.\n",
    "### Test case: Input: [1,2,3,1], Output: True"
   ]
  },
  {
   "cell_type": "code",
   "execution_count": 48,
   "metadata": {},
   "outputs": [],
   "source": [
    "def containsDuplicate1(nums):\n",
    "    \"\"\"\n",
    "    input: List[int]\n",
    "    output: bool\n",
    "    \"\"\"\n",
    "    if(len(nums) == 1):\n",
    "        return False\n",
    "\n",
    "    sorted_nums = sorted(nums)\n",
    "\n",
    "    for i in range(1, len(sorted_nums)):\n",
    "        if(sorted_nums[i-1] == sorted_nums[i]):\n",
    "            return True\n",
    "    return False"
   ]
  },
  {
   "cell_type": "code",
   "execution_count": 52,
   "metadata": {},
   "outputs": [],
   "source": [
    "def containsDuplicate2(nums):\n",
    "    \"\"\"\n",
    "    input: List[int]\n",
    "    output: bool\n",
    "    \"\"\"\n",
    "    \n",
    "    return not len(set(nums)) == len(nums)"
   ]
  },
  {
   "cell_type": "code",
   "execution_count": 53,
   "metadata": {},
   "outputs": [
    {
     "name": "stdout",
     "output_type": "stream",
     "text": [
      "True\n",
      "True\n"
     ]
    }
   ],
   "source": [
    "print(containsDuplicate1([1,2,3,1]))\n",
    "print(containsDuplicate2([1,2,3,1]))"
   ]
  },
  {
   "cell_type": "markdown",
   "metadata": {},
   "source": [
    "## 16) Write an algorithm to determine if a number is \"happy\". A happy number is a number defined by the following process: Starting with any positive integer, replace the number by the sum of the squares of its digits, and repeat the process until the number equals 1 (where it will stay), or it loops endlessly in a cycle which does not include 1. Those numbers for which this process ends in 1 are happy numbers.\n",
    "### Test case: Input: 19, Output: True"
   ]
  },
  {
   "cell_type": "code",
   "execution_count": 29,
   "metadata": {},
   "outputs": [],
   "source": [
    "def isHappy(n):\n",
    "    def square(n):\n",
    "        return sum([int(i)**2 for i in str(n)])\n",
    "    \n",
    "    happyFlag = n\n",
    "    count = 1\n",
    "    while(happyFlag != 1 and count < 1000):\n",
    "        happyFlag = square(happyFlag)\n",
    "        count += 1\n",
    "\n",
    "    if(count >= 1000):\n",
    "        return False\n",
    "    else:\n",
    "        return True\n"
   ]
  },
  {
   "cell_type": "code",
   "execution_count": 30,
   "metadata": {},
   "outputs": [
    {
     "data": {
      "text/plain": [
       "True"
      ]
     },
     "execution_count": 30,
     "metadata": {},
     "output_type": "execute_result"
    }
   ],
   "source": [
    "isHappy(19)"
   ]
  },
  {
   "cell_type": "markdown",
   "metadata": {},
   "source": [
    "## 17) Given two strings s and t, determine if they are isomorphic. Two strings are isomorphic if the characters in s can be replaced to get t. All occurrences of a character must be replaced with another character while preserving the order of characters. No two characters may map to the same character but a character may map to itself.\n",
    "## Test case: Input: s = \"egg\", t = \"add\", Output: True"
   ]
  },
  {
   "cell_type": "code",
   "execution_count": 24,
   "metadata": {},
   "outputs": [],
   "source": [
    "def isIsomorphic1(s, t):\n",
    "    \"\"\"\n",
    "    input: str s\n",
    "           str t\n",
    "    output: bool\n",
    "    \"\"\"\n",
    "    return len(set(zip(s,t))) == len(set(s)) == len(set(t))"
   ]
  },
  {
   "cell_type": "code",
   "execution_count": 25,
   "metadata": {},
   "outputs": [],
   "source": [
    "def isIsomorphic2(s, t):\n",
    "    \"\"\"\n",
    "    input: str s\n",
    "           str t\n",
    "    output: bool\n",
    "    \"\"\"\n",
    "    return [s.find(i) for i in s] == [t.find(i) for i in t]"
   ]
  },
  {
   "cell_type": "code",
   "execution_count": 26,
   "metadata": {},
   "outputs": [
    {
     "name": "stdout",
     "output_type": "stream",
     "text": [
      "True\n",
      "True\n"
     ]
    }
   ],
   "source": [
    "s, t = \"add\", \"egg\"\n",
    "print(isIsomorphic1(s, t))\n",
    "print(isIsomorphic2(s, t))"
   ]
  },
  {
   "cell_type": "markdown",
   "metadata": {},
   "source": [
    "## 18) Given an array of n positive integers and a positive integer s, find the minimal length of a contiguous subarray of which the sum ≥ s. If there isn't one, return 0 instead.\n",
    "### Input: s = 7, nums = [2,3,1,2,4,3], Output: 2"
   ]
  },
  {
   "cell_type": "code",
   "execution_count": 1,
   "metadata": {},
   "outputs": [],
   "source": [
    "def minSubArrayLen(s, nums):\n",
    "    \"\"\"\n",
    "    input: int s\n",
    "           List[int] nums\n",
    "    output: int\n",
    "    \"\"\"\n",
    "    minLen = len(nums) + 1\n",
    "    total = 0\n",
    "    start =  0\n",
    "    for i in range(len(nums)):\n",
    "        total += nums[i]\n",
    "        while total >=  s:\n",
    "            minLen = min(i - start + 1, minLen)\n",
    "            total = total - nums[start]\n",
    "            start = start + 1\n",
    "        \n",
    "    return 0 if minLen > len(nums) else minLen"
   ]
  },
  {
   "cell_type": "code",
   "execution_count": 2,
   "metadata": {},
   "outputs": [
    {
     "data": {
      "text/plain": [
       "2"
      ]
     },
     "execution_count": 2,
     "metadata": {},
     "output_type": "execute_result"
    }
   ],
   "source": [
    "minSubArrayLen( s = 7, nums = [2,3,1,2,4,3])"
   ]
  },
  {
   "cell_type": "markdown",
   "metadata": {},
   "source": [
    "## 19) Given a non-empty array of integers, every element appears twice except for one. Find that single one.\n",
    "### Test case: [4,1,2,1,2], Output: 4"
   ]
  },
  {
   "cell_type": "code",
   "execution_count": 10,
   "metadata": {},
   "outputs": [],
   "source": [
    "def singleNumber1(nums):\n",
    "    \"\"\"\n",
    "    input: list(int) nums\n",
    "    output: int\n",
    "    \"\"\"\n",
    "    return sum(list(set(nums)))*2 - sum(nums)\n"
   ]
  },
  {
   "cell_type": "code",
   "execution_count": 11,
   "metadata": {},
   "outputs": [],
   "source": [
    "def singleNumber2(nums):\n",
    "    single = []\n",
    "    for x in nums:\n",
    "        if x in single:\n",
    "            single.remove(x)\n",
    "        else:\n",
    "            single.append(x)\n",
    "            \n",
    "    return single[0]"
   ]
  },
  {
   "cell_type": "code",
   "execution_count": 12,
   "metadata": {},
   "outputs": [
    {
     "name": "stdout",
     "output_type": "stream",
     "text": [
      "4\n",
      "4\n"
     ]
    }
   ],
   "source": [
    "nums = [4,1,2,1,2]\n",
    "print(singleNumber1(nums))\n",
    "print(singleNumber2(nums))"
   ]
  },
  {
   "cell_type": "code",
   "execution_count": null,
   "metadata": {},
   "outputs": [],
   "source": []
  },
  {
   "cell_type": "code",
   "execution_count": null,
   "metadata": {},
   "outputs": [],
   "source": []
  },
  {
   "cell_type": "code",
   "execution_count": null,
   "metadata": {},
   "outputs": [],
   "source": []
  },
  {
   "cell_type": "code",
   "execution_count": null,
   "metadata": {},
   "outputs": [],
   "source": []
  },
  {
   "cell_type": "code",
   "execution_count": null,
   "metadata": {},
   "outputs": [],
   "source": []
  },
  {
   "cell_type": "markdown",
   "metadata": {},
   "source": [
    "## ?) Given ad 2D binary matrix filled with 0's and 1's, find the largest square containing only 1's and return its area.\n",
    "### Test case: Input: $\\left(\\begin{array}11& 0 &1 &0& 0 \\\\1 &0 &1& 1& 1 \\\\ 1& 1 &1 &1 &1 \\\\ 1& 0& 0 &1 &0 \\end{array}\\right)$ --> Output: 4"
   ]
  },
  {
   "cell_type": "code",
   "execution_count": null,
   "metadata": {},
   "outputs": [],
   "source": [
    "def maxSquare(binaryMatrix):\n",
    "    \"\"\"\n",
    "    input: array str (0,1)\n",
    "    output: int\n",
    "    \"\"\"\n",
    "    # check for no input\n",
    "    if not binaryMatrix:\n",
    "        return 0\n",
    "    \n",
    "    # find the number of rows and columns: (m,n)\n",
    "    m, n = len(binaryMatrix), len(binaryMatrix[0])\n",
    "    \n",
    "    # casting the matrix from str to int\n",
    "    for i in range(m):\n",
    "        for j in range(n):\n",
    "            binaryMatrix[i][j] = int(binaryMatrix[i][j])\n",
    "    \n"
   ]
  },
  {
   "cell_type": "code",
   "execution_count": null,
   "metadata": {},
   "outputs": [],
   "source": []
  },
  {
   "cell_type": "code",
   "execution_count": 45,
   "metadata": {},
   "outputs": [],
   "source": [
    "binaryMatrix = [[\"1\",\"0\",\"1\",\"0\",\"0\"],[\"1\",\"0\",\"1\",\"1\",\"1\"],[\"1\",\"1\",\"1\",\"1\",\"1\"],[\"1\",\"0\",\"0\",\"1\",\"0\"]]"
   ]
  },
  {
   "cell_type": "code",
   "execution_count": 37,
   "metadata": {},
   "outputs": [
    {
     "data": {
      "text/plain": [
       "[[1, 0, 1, 0, 0], [1, 0, 1, 1, 1], [1, 1, 1, 1, 1], [1, 0, 0, 1, 0]]"
      ]
     },
     "execution_count": 37,
     "metadata": {},
     "output_type": "execute_result"
    }
   ],
   "source": [
    "binaryMatrix"
   ]
  },
  {
   "cell_type": "code",
   "execution_count": 30,
   "metadata": {},
   "outputs": [
    {
     "data": {
      "text/plain": [
       "[1, 0, 1, 0, 0]"
      ]
     },
     "execution_count": 30,
     "metadata": {},
     "output_type": "execute_result"
    }
   ],
   "source": [
    "binaryMatrix[0]"
   ]
  },
  {
   "cell_type": "code",
   "execution_count": 48,
   "metadata": {},
   "outputs": [],
   "source": [
    "def maxarea(matrix):\n",
    "    \n",
    "    if not matrix:\n",
    "        return 0\n",
    "    r, c = len(matrix), len(matrix[0])\n",
    "    pre = cur = [0] * (c+1)\n",
    "    res = 0\n",
    "    for i in range(r):\n",
    "        for j in range(c):\n",
    "            cur[j+1] = (min(pre[j], pre[j+1], cur[j])+1)*int(matrix[i][j])\n",
    "            res = max(res, cur[j+1]**2)\n",
    "        pre = cur\n",
    "        cur = [0] * (c+1)\n",
    "    return res"
   ]
  },
  {
   "cell_type": "code",
   "execution_count": 49,
   "metadata": {},
   "outputs": [
    {
     "data": {
      "text/plain": [
       "4"
      ]
     },
     "execution_count": 49,
     "metadata": {},
     "output_type": "execute_result"
    }
   ],
   "source": [
    "maxarea(binaryMatrix)"
   ]
  },
  {
   "cell_type": "code",
   "execution_count": null,
   "metadata": {},
   "outputs": [],
   "source": []
  }
 ],
 "metadata": {
  "kernelspec": {
   "display_name": "Python 3",
   "language": "python",
   "name": "python3"
  },
  "language_info": {
   "codemirror_mode": {
    "name": "ipython",
    "version": 3
   },
   "file_extension": ".py",
   "mimetype": "text/x-python",
   "name": "python",
   "nbconvert_exporter": "python",
   "pygments_lexer": "ipython3",
   "version": "3.7.2"
  }
 },
 "nbformat": 4,
 "nbformat_minor": 2
}
