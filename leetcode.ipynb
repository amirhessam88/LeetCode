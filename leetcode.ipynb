{
 "cells": [
  {
   "cell_type": "markdown",
   "metadata": {},
   "source": [
    "# Here is some of the questions I solved for coding interviews from LeetCode"
   ]
  },
  {
   "cell_type": "markdown",
   "metadata": {},
   "source": [
    "## 1) The count of prime numbers before non-negative number N.\n",
    "### Test case: Input = 10 --> Output: 4"
   ]
  },
  {
   "cell_type": "code",
   "execution_count": 1,
   "metadata": {},
   "outputs": [],
   "source": [
    "def countPrime(N):\n",
    "    \"\"\"\n",
    "    input: int N\n",
    "    output: int count\n",
    "    \"\"\"\n",
    "    def isPrime(M):\n",
    "        \"\"\"\n",
    "        input: int M\n",
    "        output: bool\n",
    "        \"\"\"\n",
    "        for m in range(2, M):\n",
    "            if(M % m == 0):\n",
    "                return False\n",
    "            \n",
    "        return True\n",
    "    \n",
    "    count = []\n",
    "    for n in range(2, N+1):\n",
    "        count.append(isPrime(n))\n",
    "    \n",
    "    return sum(count)\n",
    "        "
   ]
  },
  {
   "cell_type": "code",
   "execution_count": 2,
   "metadata": {},
   "outputs": [
    {
     "data": {
      "text/plain": [
       "4"
      ]
     },
     "execution_count": 2,
     "metadata": {},
     "output_type": "execute_result"
    }
   ],
   "source": [
    "countPrime(10)"
   ]
  },
  {
   "cell_type": "markdown",
   "metadata": {},
   "source": [
    "## 2) Given an array of integers, return indices of the two numbers such that they add up to a specific target. You may assume that each input would have exactly one solution, and you may not use the same element twice.\n",
    "### Test case: Inputs: array = [2, 7, 11, 15], target = 9 -->  Output = [0, 1]"
   ]
  },
  {
   "cell_type": "code",
   "execution_count": 3,
   "metadata": {},
   "outputs": [],
   "source": [
    "def TwoSum(num, target):\n",
    "    \"\"\"\n",
    "    input: List(int) num\n",
    "           int target\n",
    "    output: list of indices\n",
    "    \"\"\"\n",
    "    for i in num:\n",
    "        subTarget = int(target - i)\n",
    "        if(subTarget in num):\n",
    "            return [num.index(i), num.index(subTarget)]\n",
    "        \n",
    "    return \"Does not exist\"\n",
    "    "
   ]
  },
  {
   "cell_type": "code",
   "execution_count": 4,
   "metadata": {},
   "outputs": [
    {
     "data": {
      "text/plain": [
       "[0, 1]"
      ]
     },
     "execution_count": 4,
     "metadata": {},
     "output_type": "execute_result"
    }
   ],
   "source": [
    "num = [2, 7, 11, 15]\n",
    "target = 9\n",
    "\n",
    "TwoSum(num, target)"
   ]
  },
  {
   "cell_type": "markdown",
   "metadata": {},
   "source": [
    "## 3) Given a 32-bit signed integer, reverse digits of an integer.\n",
    "### Test case: Input: 123 --> Output: 321; Input: -123 --> Output: -321; Input: 120 --> Output: 21"
   ]
  },
  {
   "cell_type": "code",
   "execution_count": 5,
   "metadata": {},
   "outputs": [],
   "source": [
    "def ReverseDigits(N):\n",
    "    \"\"\"\n",
    "    input: int N\n",
    "    output: int \n",
    "    \"\"\"\n",
    "    if(N >= 0):\n",
    "        return int(str(N)[::-1])\n",
    "    \n",
    "    else:\n",
    "        return (-1) * int(str(abs(N))[::-1])"
   ]
  },
  {
   "cell_type": "code",
   "execution_count": 6,
   "metadata": {},
   "outputs": [
    {
     "name": "stdout",
     "output_type": "stream",
     "text": [
      "123 --> 321\n",
      "-123 --> -321\n",
      "120 --> 21\n"
     ]
    }
   ],
   "source": [
    "for N in [123, -123, 120]:\n",
    "    print(F\"{N} --> {ReverseDigits(N)}\")"
   ]
  },
  {
   "cell_type": "markdown",
   "metadata": {},
   "source": [
    "## 4) Determine whether an integer is a palindrome. An integer is a palindrome when it reads the same backward as forward.\n",
    "### Test case: Input: 121 --> Output: True; Input: -121 --> Output: False; Input: 10 --> Output: False"
   ]
  },
  {
   "cell_type": "code",
   "execution_count": 7,
   "metadata": {},
   "outputs": [],
   "source": [
    "def isPalindrome(N):\n",
    "    \"\"\"\n",
    "    input: int N\n",
    "    output: bool\n",
    "    \"\"\"\n",
    "    if(N % 10 == 0 or N < 0):\n",
    "        return False\n",
    "    \n",
    "    if(int(str(N)[::-1]) == N):\n",
    "        return True\n",
    "    else:\n",
    "        return False"
   ]
  },
  {
   "cell_type": "code",
   "execution_count": 8,
   "metadata": {},
   "outputs": [
    {
     "name": "stdout",
     "output_type": "stream",
     "text": [
      "121 --> True\n",
      "-121 --> False\n",
      "10 --> False\n"
     ]
    }
   ],
   "source": [
    "for N in [121, -121, 10]:\n",
    "    print(F\"{N} --> {isPalindrome(N)}\")"
   ]
  },
  {
   "cell_type": "markdown",
   "metadata": {},
   "source": [
    "## 5) Find the longest common prefix string amongst an array of strings.\n",
    "### Test case: Input: [\"flower\", \"flow\", \"flight\"] --> Output: \"fl\"; Input: [\"dog\", \"racecar\", \"car\"] --> Output: \" \""
   ]
  },
  {
   "cell_type": "code",
   "execution_count": 9,
   "metadata": {},
   "outputs": [],
   "source": [
    "def LongestPrefix(strs):\n",
    "    \"\"\"\n",
    "    input: List(str) strs\n",
    "    outout: str\n",
    "    \"\"\"\n",
    "    if not strs:\n",
    "        return \"\"\n",
    "    \n",
    "    minlength = min(strs)\n",
    "    for i in range(len(minlength)):\n",
    "        for s in strs:\n",
    "            if s[i] != minlength[i]:\n",
    "                return minlength[:i] if i > 0 else \"\"\n",
    "    \n",
    "    "
   ]
  },
  {
   "cell_type": "code",
   "execution_count": 10,
   "metadata": {},
   "outputs": [
    {
     "data": {
      "text/plain": [
       "'fl'"
      ]
     },
     "execution_count": 10,
     "metadata": {},
     "output_type": "execute_result"
    }
   ],
   "source": [
    "strs = [\"flower\", \"flow\", \"flight\"]\n",
    "LongestPrefix(strs)"
   ]
  },
  {
   "cell_type": "code",
   "execution_count": 11,
   "metadata": {},
   "outputs": [
    {
     "data": {
      "text/plain": [
       "''"
      ]
     },
     "execution_count": 11,
     "metadata": {},
     "output_type": "execute_result"
    }
   ],
   "source": [
    "strs = [\"dog\", \"racecar\", \"car\"]\n",
    "LongestPrefix(strs)"
   ]
  },
  {
   "cell_type": "markdown",
   "metadata": {},
   "source": [
    "## 6) Compute and return the square root of x, where x is guaranteed to be a non-negative integer. Since the return type is an integer, the decimal digits are truncated and only the integer part of the result is returned.\n",
    "### Test case: Input: 8 --> Output: 2"
   ]
  },
  {
   "cell_type": "code",
   "execution_count": 12,
   "metadata": {},
   "outputs": [],
   "source": [
    "def sqrt(x):\n",
    "    \"\"\"\n",
    "    input: int x\n",
    "    output: int\n",
    "    \"\"\"\n",
    "    return int(x ** (0.5))  "
   ]
  },
  {
   "cell_type": "code",
   "execution_count": 13,
   "metadata": {},
   "outputs": [
    {
     "data": {
      "text/plain": [
       "2"
      ]
     },
     "execution_count": 13,
     "metadata": {},
     "output_type": "execute_result"
    }
   ],
   "source": [
    "sqrt(8)"
   ]
  },
  {
   "cell_type": "markdown",
   "metadata": {},
   "source": [
    "## 7) Return the index of the first occurrence of needle in haystack, or -1 if needle is not part of haystack.\n",
    "### Test case: Input: haystack = \"hello\", needle = \"ll\", Output: 2; Input: haystack = \"aaaa\", needle = \"bba\", output = -1"
   ]
  },
  {
   "cell_type": "code",
   "execution_count": 14,
   "metadata": {},
   "outputs": [],
   "source": [
    "def strStr(haystack, needle):\n",
    "    \"\"\"\n",
    "    input: haystack str\n",
    "           needle str\n",
    "    output: int\n",
    "    \"\"\"\n",
    "    step = len(needle)\n",
    "    for i in range(len(haystack)):\n",
    "        if(haystack[i:i+step] == needle):\n",
    "            return i\n",
    "    \n",
    "    return -1"
   ]
  },
  {
   "cell_type": "code",
   "execution_count": 15,
   "metadata": {},
   "outputs": [
    {
     "data": {
      "text/plain": [
       "2"
      ]
     },
     "execution_count": 15,
     "metadata": {},
     "output_type": "execute_result"
    }
   ],
   "source": [
    "strStr(haystack = \"hello\", needle = \"ll\")"
   ]
  },
  {
   "cell_type": "code",
   "execution_count": 16,
   "metadata": {},
   "outputs": [
    {
     "data": {
      "text/plain": [
       "-1"
      ]
     },
     "execution_count": 16,
     "metadata": {},
     "output_type": "execute_result"
    }
   ],
   "source": [
    "strStr(haystack = \"aaaa\", needle = \"bba\")"
   ]
  },
  {
   "cell_type": "markdown",
   "metadata": {},
   "source": [
    "## 8) Given a sorted array and a target value, return the index if the target is found. If not, return the index where it would be if it were inserted in order. You may assume no duplicates in the array.\n",
    "### Test case: Input: [1, 3, 5, 6], 5, Output: 2; Input: [1, 3, 5, 6], 2, Output: 1; Input: [1, 3, 5, 6], 7, Output: 4; Input: [1, 3, 5, 6], 0, Output: 0"
   ]
  },
  {
   "cell_type": "code",
   "execution_count": 17,
   "metadata": {},
   "outputs": [],
   "source": [
    "def searchInsert1(nums, target):\n",
    "    \"\"\"\n",
    "    input: List(int) nums\n",
    "           int target\n",
    "    output: int\n",
    "    \"\"\"\n",
    "    nums.append(target)\n",
    "    nums_sorted = sorted(nums)\n",
    "    index = nums_sorted.index(target)\n",
    "    \n",
    "    return index"
   ]
  },
  {
   "cell_type": "code",
   "execution_count": 18,
   "metadata": {},
   "outputs": [],
   "source": [
    "def searchInsert2(nums, target):\n",
    "    \"\"\"\n",
    "    input: List(int) nums\n",
    "           int target\n",
    "    output: int\n",
    "    \"\"\"\n",
    "    for i in range(len(nums)):\n",
    "        if(nums[i] >= target):\n",
    "            return i\n",
    "    return i+1"
   ]
  },
  {
   "cell_type": "code",
   "execution_count": 19,
   "metadata": {},
   "outputs": [
    {
     "name": "stdout",
     "output_type": "stream",
     "text": [
      "2\n",
      "1\n",
      "4\n",
      "0\n"
     ]
    }
   ],
   "source": [
    "nums = [1, 3, 5, 6]\n",
    "targets = [5, 2, 7, 0]\n",
    "for target in targets:\n",
    "    print(searchInsert2(nums, target))"
   ]
  },
  {
   "cell_type": "markdown",
   "metadata": {},
   "source": [
    "## 9) If we list all the natural numbers below 10 that are multiples of 3 or 5, we get 3, 5, 6 and 9. The sum of these multiples is 23.\n",
    "### Test case: Input: 1000, Output: 233168"
   ]
  },
  {
   "cell_type": "code",
   "execution_count": 4,
   "metadata": {},
   "outputs": [],
   "source": [
    "def three_five_multipliers(N):\n",
    "    \"\"\"\n",
    "    input: integer N\n",
    "    output: integer\n",
    "    \"\"\"\n",
    "    nums = []\n",
    "    for n in range(N):\n",
    "        if(n % 3 == 0 or n % 5 == 0):\n",
    "            nums.append(n)\n",
    "        \n",
    "    return sum(nums)"
   ]
  },
  {
   "cell_type": "code",
   "execution_count": 5,
   "metadata": {},
   "outputs": [
    {
     "data": {
      "text/plain": [
       "233168"
      ]
     },
     "execution_count": 5,
     "metadata": {},
     "output_type": "execute_result"
    }
   ],
   "source": [
    "three_five_multipliers(1000)"
   ]
  },
  {
   "cell_type": "markdown",
   "metadata": {},
   "source": [
    "## 10) Given a string containing just the characters '(', ')', '{', '}', '[' and ']', determine if the input string is valid. \n",
    "## An input string is valid if:\n",
    "### Open brackets must be closed by the same type of brackets.\n",
    "### Open brackets must be closed in the correct order.\n",
    "### Note that an empty string is also considered valid.\n",
    "### Test case: Input: \"()\", Output: True; Input: \"()[]{}\", Output: true; Input: \"(]\", Output: false"
   ]
  },
  {
   "cell_type": "code",
   "execution_count": 6,
   "metadata": {},
   "outputs": [],
   "source": [
    "def isValidPrantheses(s):\n",
    "    \"\"\"\n",
    "    input: string s\n",
    "    outout: bool\n",
    "    \"\"\"\n",
    "    stack = []\n",
    "    char_dict = {\"(\" : 1, \")\" : -1,\n",
    "                 \"[\" : 3, \"]\" : -3,\n",
    "                 \"{\" : 5, \"}\" : -5}\n",
    "\n",
    "    for char in s:\n",
    "        char_value = char_dict[char]\n",
    "        if(char_value > 0):\n",
    "            stack.append(char_value)\n",
    "        elif(len(stack) > 0 and (stack[-1] + char_value) == 0):\n",
    "            stack.pop()\n",
    "        else:\n",
    "            return False\n",
    "\n",
    "    if(len(stack) == 0):\n",
    "        return True\n",
    "    else:\n",
    "        return False"
   ]
  },
  {
   "cell_type": "code",
   "execution_count": 13,
   "metadata": {},
   "outputs": [
    {
     "name": "stdout",
     "output_type": "stream",
     "text": [
      "True\n",
      "True\n",
      "False\n",
      "True\n",
      "True\n"
     ]
    }
   ],
   "source": [
    "for s in [\"()\", \"()[]{}\", \"(])\", \"\", \"{[]}\"]:\n",
    "    print(isValidPrantheses(s))"
   ]
  },
  {
   "cell_type": "code",
   "execution_count": null,
   "metadata": {},
   "outputs": [],
   "source": []
  }
 ],
 "metadata": {
  "kernelspec": {
   "display_name": "Python 3",
   "language": "python",
   "name": "python3"
  },
  "language_info": {
   "codemirror_mode": {
    "name": "ipython",
    "version": 3
   },
   "file_extension": ".py",
   "mimetype": "text/x-python",
   "name": "python",
   "nbconvert_exporter": "python",
   "pygments_lexer": "ipython3",
   "version": "3.7.2"
  }
 },
 "nbformat": 4,
 "nbformat_minor": 2
}
