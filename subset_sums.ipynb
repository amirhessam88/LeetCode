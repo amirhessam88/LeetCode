{
 "cells": [
  {
   "cell_type": "markdown",
   "metadata": {},
   "source": [
    "# Subset Sums"
   ]
  },
  {
   "cell_type": "markdown",
   "metadata": {},
   "source": [
    "## Subset sum or subarray sum is one of the most common questions asked in the software engineering and data science interviews. It has various variations in which always one or multiple objectives should be optimized. Here I would like to solve most of the possible variations of this problem using multiple appraoches. At the end of the day, you should be able to ace any questions about subarrays."
   ]
  },
  {
   "cell_type": "markdown",
   "metadata": {},
   "source": [
    "# ----------------------------------------------------------------------------------------------------------"
   ]
  },
  {
   "cell_type": "markdown",
   "metadata": {},
   "source": [
    "# Type 1) Maximum Subarray Sum"
   ]
  },
  {
   "cell_type": "markdown",
   "metadata": {},
   "source": [
    "### Given an integer array nums, find the contiguous subarray (containing at least one number) which has the largest sum and return its sum.\n",
    "### Example:\n",
    "\n",
    "### Input: [-2,1,-3,4,-1,2,1,-5,4]\n",
    "### Output: 6\n",
    "### Explanation: [4,-1,2,1] has the largest sum = 6."
   ]
  },
  {
   "cell_type": "markdown",
   "metadata": {},
   "source": [
    "## * Approach 1\n",
    "### The naive appraoch is always to produce all the subarrays and find the one that meets the objective. This approach has a time complexity of $O(N^3)$ and space complexity of $O(N^2)$ where $N$ is the size of array."
   ]
  },
  {
   "cell_type": "code",
   "execution_count": 26,
   "metadata": {},
   "outputs": [],
   "source": [
    "def type1_1(nums):\n",
    "    \"\"\"\n",
    "    input nums: List[int]\n",
    "    output: int\n",
    "    time complexity: O(N^3)\n",
    "    space complexity: O(N^2)\n",
    "    \"\"\"\n",
    "    sums = []\n",
    "    for i in range(len(nums)):\n",
    "        for j in range(i, len(nums)):\n",
    "            sub = nums[i:j+1]\n",
    "            sums.append(sum(sub))\n",
    "            \n",
    "    return max(sums)"
   ]
  },
  {
   "cell_type": "code",
   "execution_count": 27,
   "metadata": {},
   "outputs": [
    {
     "data": {
      "text/plain": [
       "6"
      ]
     },
     "execution_count": 27,
     "metadata": {},
     "output_type": "execute_result"
    }
   ],
   "source": [
    "nums = [-2,1,-3,4,-1,2,1,-5,4]\n",
    "type1_1(nums)"
   ]
  },
  {
   "cell_type": "markdown",
   "metadata": {},
   "source": [
    "## * Approach 2\n",
    "### The next approach is an intersection of dynamic programming and greedy algorithm. This is called Kadane's Algorithm. In this algorithm the maximum sum would be the sum at the current index or the sum at the current index plus the next number. In better words, at each number we compare two sums and keep the larger number until we see all the elements of the array. Therefore, this approach has a time and space complexity of $O(N)$ where $N$ is the size of array."
   ]
  },
  {
   "cell_type": "code",
   "execution_count": 38,
   "metadata": {},
   "outputs": [],
   "source": [
    "def type1_2(nums):\n",
    "    \"\"\"\n",
    "    input nums: List[int]\n",
    "    output: int\n",
    "    time complexity: O(N)\n",
    "    space complexity: O(N)\n",
    "    \"\"\"\n",
    "    current_sum = global_sum = nums[0]\n",
    "    \n",
    "    for i in range(1, len(nums)):\n",
    "        current_sum = max(nums[i], nums[i]+current_sum)\n",
    "        global_sum = max(current_sum, global_sum)\n",
    "        \n",
    "    return global_sum"
   ]
  },
  {
   "cell_type": "code",
   "execution_count": 39,
   "metadata": {},
   "outputs": [
    {
     "data": {
      "text/plain": [
       "6"
      ]
     },
     "execution_count": 39,
     "metadata": {},
     "output_type": "execute_result"
    }
   ],
   "source": [
    "nums = [-2,1,-3,4,-1,2,1,-5,4]\n",
    "type1_2(nums)"
   ]
  },
  {
   "cell_type": "markdown",
   "metadata": {},
   "source": [
    "# ----------------------------------------------------------------------------------------------------------"
   ]
  },
  {
   "cell_type": "markdown",
   "metadata": {},
   "source": [
    "# Type 2) Minimum Subarray Sum"
   ]
  },
  {
   "cell_type": "markdown",
   "metadata": {},
   "source": [
    "### Given an integer array nums, find the contiguous subarray (containing at least one number) which has the smallest sum and return its sum.\n",
    "### Example:\n",
    "\n",
    "### Input: [-2,1,-3,4,-1,2,1,-5,4]\n",
    "### Output: 6\n",
    "### Explanation: [-5] has the smallest sum = -5."
   ]
  },
  {
   "cell_type": "markdown",
   "metadata": {},
   "source": [
    "## * Approach 1\n",
    "### The naive appraoch is always to produce all the subarrays and find the one that meets the objective. This approach has a time complexity of $O(N^3)$ and space complexity of $O(N^2)$ where $N$ is the size of array."
   ]
  },
  {
   "cell_type": "code",
   "execution_count": 50,
   "metadata": {},
   "outputs": [],
   "source": [
    "def type2_1(nums):\n",
    "    \"\"\"\n",
    "    input nums: List[int]\n",
    "    output: int\n",
    "    time complexity: O(N^3)\n",
    "    space complexity: O(N^2)\n",
    "    \"\"\"\n",
    "    sums = []\n",
    "    for i in range(len(nums)):\n",
    "        for j in range(i, len(nums)):\n",
    "            sub = nums[i:j+1]\n",
    "            sums.append(sum(sub))\n",
    "            \n",
    "    return min(sums)"
   ]
  },
  {
   "cell_type": "code",
   "execution_count": 51,
   "metadata": {},
   "outputs": [
    {
     "data": {
      "text/plain": [
       "-5"
      ]
     },
     "execution_count": 51,
     "metadata": {},
     "output_type": "execute_result"
    }
   ],
   "source": [
    "nums = [-2,1,-3,4,-1,2,1,-5,4]\n",
    "type2_1(nums)"
   ]
  },
  {
   "cell_type": "markdown",
   "metadata": {},
   "source": [
    "## * Approach 2\n",
    "### The next approach is an intersection of dynamic programming and greedy algorithm. This is called Kadane's Algorithm. In this algorithm the maximum sum would be the sum at the current index or the sum at the current index plus the next number. In better words, at each number we compare two sums and keep the larger number until we see all the elements of the array. Therefore, this approach has a time and space complexity of $O(N)$ where $N$ is the size of array."
   ]
  },
  {
   "cell_type": "code",
   "execution_count": 62,
   "metadata": {},
   "outputs": [],
   "source": [
    "def type2_2(nums):\n",
    "    \"\"\"\n",
    "    input nums: List[int]\n",
    "    output: int\n",
    "    time complexity: O(N)\n",
    "    space complexity: O(N)\n",
    "    \"\"\"\n",
    "    current_sum = global_sum = nums[0]\n",
    "    \n",
    "    for i in range(1, len(nums)):\n",
    "        current_sum = min(nums[i], nums[i]+current_sum)\n",
    "        global_sum = min(current_sum, global_sum)\n",
    "        \n",
    "    return global_sum"
   ]
  },
  {
   "cell_type": "code",
   "execution_count": 63,
   "metadata": {
    "scrolled": true
   },
   "outputs": [
    {
     "data": {
      "text/plain": [
       "-5"
      ]
     },
     "execution_count": 63,
     "metadata": {},
     "output_type": "execute_result"
    }
   ],
   "source": [
    "nums = [-2,1,-3,4,-1,2,1,-5,4]\n",
    "type2_2(nums)"
   ]
  },
  {
   "cell_type": "markdown",
   "metadata": {},
   "source": [
    "# ----------------------------------------------------------------------------------------------------------"
   ]
  },
  {
   "cell_type": "markdown",
   "metadata": {},
   "source": [
    "# Type 3) Subarray Sum Equals K"
   ]
  },
  {
   "cell_type": "markdown",
   "metadata": {},
   "source": [
    "### Given an array of integers and an integer k, you need to find the total number of continuous subarrays whose sum equals to k.\n",
    "\n",
    "### Example:\n",
    "### Input: nums = [1,1,1], k = 2\n",
    "### Output: 2\n",
    "### Explanation: [1,1], [1,1]"
   ]
  },
  {
   "cell_type": "markdown",
   "metadata": {},
   "source": [
    "## * Approach 1\n",
    "### The naive appraoch is always to produce all the subarrays and find the one that meets the objective. This approach has a time complexity of $O(N^3)$ and space complexity of $O(N^2)$ where $N$ is the size of array."
   ]
  },
  {
   "cell_type": "code",
   "execution_count": 78,
   "metadata": {},
   "outputs": [],
   "source": [
    "def type3_1(nums, k):\n",
    "    \"\"\"\n",
    "    input nums: List[int]\n",
    "    output: int\n",
    "    time complexity: O(N^3)\n",
    "    space complexity: O(N^2)\n",
    "    \"\"\"\n",
    "    subs = []\n",
    "    for i in range(len(nums)):\n",
    "        for j in range(i, len(nums)):\n",
    "            sub = nums[i:j+1]\n",
    "            if sum(sub) == k:\n",
    "                subs.append(sub)\n",
    "    print(subs)\n",
    "    \n",
    "    return len(subs)"
   ]
  },
  {
   "cell_type": "code",
   "execution_count": 79,
   "metadata": {},
   "outputs": [
    {
     "name": "stdout",
     "output_type": "stream",
     "text": [
      "[[1, 1], [1, 1]]\n"
     ]
    },
    {
     "data": {
      "text/plain": [
       "2"
      ]
     },
     "execution_count": 79,
     "metadata": {},
     "output_type": "execute_result"
    }
   ],
   "source": [
    "nums = [1,1,1]; k=2;\n",
    "type3_1(nums, k)"
   ]
  },
  {
   "cell_type": "markdown",
   "metadata": {},
   "source": [
    "## * Approach 2\n",
    "###  In this aproach, with one pass to the array, we calculate the current sum and store its index in a dictionary. For each number, we check if the current sum minus the given sum (k) exist in the dictionary, we increament the counter. Therefore, this approach has a time of $O(N)$ where $N$ is the size of array."
   ]
  },
  {
   "cell_type": "code",
   "execution_count": 86,
   "metadata": {},
   "outputs": [],
   "source": [
    "def type3_2(nums, k):\n",
    "    \"\"\"\n",
    "    input nums: List[int]\n",
    "    output: int\n",
    "    time complexity: O(N)\n",
    "    \"\"\"\n",
    "    lengths = []\n",
    "    current_sum = 0\n",
    "    seen = {0 : -1}\n",
    "\n",
    "    for i in range(len(nums)):\n",
    "        current_sum += nums[i]\n",
    "\n",
    "        if current_sum not in seen:\n",
    "            seen[current_sum] = i\n",
    "\n",
    "        sumMinusK = current_sum - k\n",
    "        if sumMinusK in seen:\n",
    "            lengths.append(i - seen[sumMinusK])\n",
    "\n",
    "    return len(lengths)"
   ]
  },
  {
   "cell_type": "code",
   "execution_count": 87,
   "metadata": {},
   "outputs": [
    {
     "data": {
      "text/plain": [
       "2"
      ]
     },
     "execution_count": 87,
     "metadata": {},
     "output_type": "execute_result"
    }
   ],
   "source": [
    "nums = [1,1,1]; k=2;\n",
    "type3_2(nums, k)"
   ]
  },
  {
   "cell_type": "code",
   "execution_count": null,
   "metadata": {},
   "outputs": [],
   "source": []
  },
  {
   "cell_type": "code",
   "execution_count": null,
   "metadata": {},
   "outputs": [],
   "source": []
  }
 ],
 "metadata": {
  "kernelspec": {
   "display_name": "Python 3",
   "language": "python",
   "name": "python3"
  },
  "language_info": {
   "codemirror_mode": {
    "name": "ipython",
    "version": 3
   },
   "file_extension": ".py",
   "mimetype": "text/x-python",
   "name": "python",
   "nbconvert_exporter": "python",
   "pygments_lexer": "ipython3",
   "version": "3.7.6"
  }
 },
 "nbformat": 4,
 "nbformat_minor": 4
}
