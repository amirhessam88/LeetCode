{
 "cells": [
  {
   "cell_type": "markdown",
   "metadata": {},
   "source": [
    "# Subset Sums"
   ]
  },
  {
   "cell_type": "markdown",
   "metadata": {},
   "source": [
    "## Subset sum or subarray sum is one of the most common questions asked in the software engineering and data science interviews. It has various variations in which always one or multiple objectives should be optimized. Here I would like to solve most of the possible variations of this problem using multiple appraoches. At the end of the day, you should be able to ace any questions about subarrays."
   ]
  },
  {
   "cell_type": "markdown",
   "metadata": {},
   "source": [
    "# ----------------------------------------------------------------------------------------------------------"
   ]
  },
  {
   "cell_type": "markdown",
   "metadata": {},
   "source": [
    "# Type 1) Maximum Subarray Sum"
   ]
  },
  {
   "cell_type": "markdown",
   "metadata": {},
   "source": [
    "### Given an integer array nums, find the contiguous subarray (containing at least one number) which has the largest sum and return its sum.\n",
    "### Example:\n",
    "\n",
    "### Input: [-2,1,-3,4,-1,2,1,-5,4]\n",
    "### Output: 6\n",
    "### Explanation: [4,-1,2,1] has the largest sum = 6."
   ]
  },
  {
   "cell_type": "markdown",
   "metadata": {},
   "source": [
    "## * Approach 1\n",
    "### The naive appraoch is always to produce all the subarrays and find the one that meets the objective. This approach has a time complexity of $O(N^3)$ and space complexity of $O(N^2)$ where $N$ is the size of array."
   ]
  },
  {
   "cell_type": "code",
   "execution_count": 26,
   "metadata": {},
   "outputs": [],
   "source": [
    "def type1_1(nums):\n",
    "    \"\"\"\n",
    "    input nums: List[int]\n",
    "    output: int\n",
    "    time complexity: O(N^3)\n",
    "    space complexity: O(N^2)\n",
    "    \"\"\"\n",
    "    sums = []\n",
    "    for i in range(len(nums)):\n",
    "        for j in range(i, len(nums)):\n",
    "            sub = nums[i:j+1]\n",
    "            sums.append(sum(sub))\n",
    "            \n",
    "    return max(sums)"
   ]
  },
  {
   "cell_type": "code",
   "execution_count": 27,
   "metadata": {},
   "outputs": [
    {
     "data": {
      "text/plain": [
       "6"
      ]
     },
     "execution_count": 27,
     "metadata": {},
     "output_type": "execute_result"
    }
   ],
   "source": [
    "nums = [-2,1,-3,4,-1,2,1,-5,4]\n",
    "type1_1(nums)"
   ]
  },
  {
   "cell_type": "markdown",
   "metadata": {},
   "source": [
    "## * Approach 2\n",
    "### The next approach is an intersection of dynamic programming and greedy algorithm. This is called Kadane's Algorithm. In this algorithm the maximum sum would be the sum at the current index or the sum at the current index plus the next number. In better words, at each number we compare two sums and keep the larger number until we see all the elements of the array. Therefore, this approach has a time and space complexity of $O(N)$ where $N$ is the size of array."
   ]
  },
  {
   "cell_type": "code",
   "execution_count": 38,
   "metadata": {},
   "outputs": [],
   "source": [
    "def type1_2(nums):\n",
    "    \"\"\"\n",
    "    input nums: List[int]\n",
    "    output: int\n",
    "    time complexity: O(N)\n",
    "    space complexity: O(N)\n",
    "    \"\"\"\n",
    "    current_sum = global_sum = nums[0]\n",
    "    \n",
    "    for i in range(1, len(nums)):\n",
    "        current_sum = max(nums[i], nums[i]+current_sum)\n",
    "        global_sum = max(current_sum, global_sum)\n",
    "        \n",
    "    return global_sum"
   ]
  },
  {
   "cell_type": "code",
   "execution_count": 39,
   "metadata": {},
   "outputs": [
    {
     "data": {
      "text/plain": [
       "6"
      ]
     },
     "execution_count": 39,
     "metadata": {},
     "output_type": "execute_result"
    }
   ],
   "source": [
    "nums = [-2,1,-3,4,-1,2,1,-5,4]\n",
    "type1_2(nums)"
   ]
  },
  {
   "cell_type": "markdown",
   "metadata": {},
   "source": [
    "# ----------------------------------------------------------------------------------------------------------"
   ]
  },
  {
   "cell_type": "markdown",
   "metadata": {},
   "source": [
    "# Type 2) Minimum Subarray Sum"
   ]
  },
  {
   "cell_type": "markdown",
   "metadata": {},
   "source": [
    "### Given an integer array nums, find the contiguous subarray (containing at least one number) which has the smallest sum and return its sum.\n",
    "### Example:\n",
    "\n",
    "### Input: [-2,1,-3,4,-1,2,1,-5,4]\n",
    "### Output: 6\n",
    "### Explanation: [-5] has the smallest sum = -5."
   ]
  },
  {
   "cell_type": "markdown",
   "metadata": {},
   "source": [
    "## * Approach 1\n",
    "### The naive appraoch is always to produce all the subarrays and find the one that meets the objective. This approach has a time complexity of $O(N^3)$ and space complexity of $O(N^2)$ where $N$ is the size of array."
   ]
  },
  {
   "cell_type": "code",
   "execution_count": 50,
   "metadata": {},
   "outputs": [],
   "source": [
    "def type2_1(nums):\n",
    "    \"\"\"\n",
    "    input nums: List[int]\n",
    "    output: int\n",
    "    time complexity: O(N^3)\n",
    "    space complexity: O(N^2)\n",
    "    \"\"\"\n",
    "    sums = []\n",
    "    for i in range(len(nums)):\n",
    "        for j in range(i, len(nums)):\n",
    "            sub = nums[i:j+1]\n",
    "            sums.append(sum(sub))\n",
    "            \n",
    "    return min(sums)"
   ]
  },
  {
   "cell_type": "code",
   "execution_count": 51,
   "metadata": {},
   "outputs": [
    {
     "data": {
      "text/plain": [
       "-5"
      ]
     },
     "execution_count": 51,
     "metadata": {},
     "output_type": "execute_result"
    }
   ],
   "source": [
    "nums = [-2,1,-3,4,-1,2,1,-5,4]\n",
    "type2_1(nums)"
   ]
  },
  {
   "cell_type": "markdown",
   "metadata": {},
   "source": [
    "## * Approach 2\n",
    "### The next approach is an intersection of dynamic programming and greedy algorithm. This is called Kadane's Algorithm. In this algorithm the maximum sum would be the sum at the current index or the sum at the current index plus the next number. In better words, at each number we compare two sums and keep the larger number until we see all the elements of the array. Therefore, this approach has a time and space complexity of $O(N)$ where $N$ is the size of array."
   ]
  },
  {
   "cell_type": "code",
   "execution_count": 62,
   "metadata": {},
   "outputs": [],
   "source": [
    "def type2_2(nums):\n",
    "    \"\"\"\n",
    "    input nums: List[int]\n",
    "    output: int\n",
    "    time complexity: O(N)\n",
    "    space complexity: O(N)\n",
    "    \"\"\"\n",
    "    current_sum = global_sum = nums[0]\n",
    "    \n",
    "    for i in range(1, len(nums)):\n",
    "        current_sum = min(nums[i], nums[i]+current_sum)\n",
    "        global_sum = min(current_sum, global_sum)\n",
    "        \n",
    "    return global_sum"
   ]
  },
  {
   "cell_type": "code",
   "execution_count": 63,
   "metadata": {
    "scrolled": true
   },
   "outputs": [
    {
     "data": {
      "text/plain": [
       "-5"
      ]
     },
     "execution_count": 63,
     "metadata": {},
     "output_type": "execute_result"
    }
   ],
   "source": [
    "nums = [-2,1,-3,4,-1,2,1,-5,4]\n",
    "type2_2(nums)"
   ]
  },
  {
   "cell_type": "markdown",
   "metadata": {},
   "source": [
    "# ----------------------------------------------------------------------------------------------------------"
   ]
  },
  {
   "cell_type": "markdown",
   "metadata": {},
   "source": [
    "# Type 3) Subarray Sum Equals K"
   ]
  },
  {
   "cell_type": "markdown",
   "metadata": {},
   "source": [
    "### Given an array of integers and an integer k, you need to find the total number of continuous subarrays whose sum equals to k.\n",
    "\n",
    "### Example:\n",
    "### Input: nums = [1,1,1], k = 2\n",
    "### Output: 2\n",
    "### Explanation: [1,1], [1,1]"
   ]
  },
  {
   "cell_type": "markdown",
   "metadata": {},
   "source": [
    "## * Approach 1\n",
    "### The naive appraoch is always to produce all the subarrays and find the one that meets the objective. This approach has a time complexity of $O(N^3)$ and space complexity of $O(N^2)$ where $N$ is the size of array."
   ]
  },
  {
   "cell_type": "code",
   "execution_count": 78,
   "metadata": {},
   "outputs": [],
   "source": [
    "def type3_1(nums, k):\n",
    "    \"\"\"\n",
    "    input nums: List[int]\n",
    "    output: int\n",
    "    time complexity: O(N^3)\n",
    "    space complexity: O(N^2)\n",
    "    \"\"\"\n",
    "    subs = []\n",
    "    for i in range(len(nums)):\n",
    "        for j in range(i, len(nums)):\n",
    "            sub = nums[i:j+1]\n",
    "            if sum(sub) == k:\n",
    "                subs.append(sub)\n",
    "    print(subs)\n",
    "    \n",
    "    return len(subs)"
   ]
  },
  {
   "cell_type": "code",
   "execution_count": 79,
   "metadata": {},
   "outputs": [
    {
     "name": "stdout",
     "output_type": "stream",
     "text": [
      "[[1, 1], [1, 1]]\n"
     ]
    },
    {
     "data": {
      "text/plain": [
       "2"
      ]
     },
     "execution_count": 79,
     "metadata": {},
     "output_type": "execute_result"
    }
   ],
   "source": [
    "nums = [1,1,1]; k=2;\n",
    "type3_1(nums, k)"
   ]
  },
  {
   "cell_type": "markdown",
   "metadata": {},
   "source": [
    "## * Approach 2\n",
    "###  In this aproach, with one pass to the array, we calculate the current sum and store its index in a dictionary. For each number, we check if the current sum minus the given sum (k) exist in the dictionary, we increament the counter. Therefore, this approach has a time of $O(N)$ where $N$ is the size of array."
   ]
  },
  {
   "cell_type": "code",
   "execution_count": 86,
   "metadata": {},
   "outputs": [],
   "source": [
    "def type3_2(nums, k):\n",
    "    \"\"\"\n",
    "    input nums: List[int]\n",
    "    output: int\n",
    "    time complexity: O(N)\n",
    "    \"\"\"\n",
    "    lengths = []\n",
    "    current_sum = 0\n",
    "    seen = {0 : -1}\n",
    "\n",
    "    for i in range(len(nums)):\n",
    "        current_sum += nums[i]\n",
    "\n",
    "        if current_sum not in seen:\n",
    "            seen[current_sum] = i\n",
    "\n",
    "        sumMinusK = current_sum - k\n",
    "        if sumMinusK in seen:\n",
    "            lengths.append(i - seen[sumMinusK])\n",
    "\n",
    "    return len(lengths)"
   ]
  },
  {
   "cell_type": "code",
   "execution_count": 87,
   "metadata": {},
   "outputs": [
    {
     "data": {
      "text/plain": [
       "2"
      ]
     },
     "execution_count": 87,
     "metadata": {},
     "output_type": "execute_result"
    }
   ],
   "source": [
    "nums = [1,1,1]; k=2;\n",
    "type3_2(nums, k)"
   ]
  },
  {
   "cell_type": "code",
   "execution_count": null,
   "metadata": {},
   "outputs": [],
   "source": []
  },
  {
   "cell_type": "markdown",
   "metadata": {},
   "source": [
    "# Practice for Interview"
   ]
  },
  {
   "cell_type": "code",
   "execution_count": 92,
   "metadata": {},
   "outputs": [],
   "source": [
    "def isValidPranthesis(s):\n",
    "    \n",
    "    dct = {\"[\" : 1, \"]\" : -1,\n",
    "           \"(\" : 3, \")\" : -3,\n",
    "           \"{\" : 5, \"}\" : -5}\n",
    "    \n",
    "    stack = []\n",
    "    \n",
    "    for char in s:\n",
    "        if dct[char] > 0:\n",
    "            stack.append(char)\n",
    "        elif len(stack) > 0 and (dct[char] + dct[stack[-1]] == 0):\n",
    "            stack.pop()\n",
    "        else:\n",
    "            return False\n",
    "        \n",
    "    if len(stack) == 0:\n",
    "        return True\n",
    "    else:\n",
    "        return False\n",
    "    \n",
    "\n",
    "    "
   ]
  },
  {
   "cell_type": "code",
   "execution_count": 93,
   "metadata": {},
   "outputs": [
    {
     "name": "stdout",
     "output_type": "stream",
     "text": [
      "True\n",
      "True\n",
      "False\n",
      "True\n",
      "True\n"
     ]
    }
   ],
   "source": [
    "for s in [\"()\", \"()[]{}\", \"(])\", \"\", \"{[]}\"]:\n",
    "    print(isValidPranthesis(s))"
   ]
  },
  {
   "cell_type": "code",
   "execution_count": 94,
   "metadata": {},
   "outputs": [],
   "source": [
    "def isNpowerofM(N, M):\n",
    "    while N > 1:\n",
    "        N = N/M\n",
    "        \n",
    "    if N == 1:\n",
    "        return True\n",
    "    else:\n",
    "        return False"
   ]
  },
  {
   "cell_type": "code",
   "execution_count": 96,
   "metadata": {},
   "outputs": [
    {
     "data": {
      "text/plain": [
       "False"
      ]
     },
     "execution_count": 96,
     "metadata": {},
     "output_type": "execute_result"
    }
   ],
   "source": [
    "isNpowerofM(16,3)"
   ]
  },
  {
   "cell_type": "code",
   "execution_count": 104,
   "metadata": {},
   "outputs": [],
   "source": [
    "def floyds_hare_tortoise(nums):\n",
    "    t = h = nums[0]\n",
    "    while True:\n",
    "        t = nums[t]\n",
    "        h = nums[nums[h]]\n",
    "        if t == h:\n",
    "            break\n",
    "            \n",
    "    h = nums[0]\n",
    "    while t != h:\n",
    "        t = nums[t]\n",
    "        h = nums[h]\n",
    "        \n",
    "    return h\n",
    "    "
   ]
  },
  {
   "cell_type": "code",
   "execution_count": 105,
   "metadata": {},
   "outputs": [
    {
     "data": {
      "text/plain": [
       "3"
      ]
     },
     "execution_count": 105,
     "metadata": {},
     "output_type": "execute_result"
    }
   ],
   "source": [
    "nums = [1,2,3,4,5,3]\n",
    "floyds_hare_tortoise(nums)"
   ]
  },
  {
   "cell_type": "code",
   "execution_count": 108,
   "metadata": {},
   "outputs": [],
   "source": [
    "def isHappy(n):\n",
    "    \n",
    "    def _ishappy(n):\n",
    "        return sum([int(x)**2 for x in str(n)])\n",
    "    \n",
    "    \n",
    "    cnt = 1\n",
    "    while cnt < 1000:\n",
    "        n = _ishappy(n)\n",
    "        cnt +=1\n",
    "        \n",
    "    if n == 1:\n",
    "        return True\n",
    "    else:\n",
    "        return False\n",
    "        \n",
    "        "
   ]
  },
  {
   "cell_type": "code",
   "execution_count": 109,
   "metadata": {},
   "outputs": [
    {
     "data": {
      "text/plain": [
       "True"
      ]
     },
     "execution_count": 109,
     "metadata": {},
     "output_type": "execute_result"
    }
   ],
   "source": [
    "isHappy(19)"
   ]
  },
  {
   "cell_type": "code",
   "execution_count": 116,
   "metadata": {},
   "outputs": [
    {
     "data": {
      "text/plain": [
       "[0, 1, 2, 1, 4, 5, 6, 4, 5]"
      ]
     },
     "execution_count": 116,
     "metadata": {},
     "output_type": "execute_result"
    }
   ],
   "source": [
    "s = \"abcbfdgfd\"\n",
    "[s.find(i) for i in s]"
   ]
  },
  {
   "cell_type": "code",
   "execution_count": 132,
   "metadata": {},
   "outputs": [],
   "source": [
    "def minSubarrayLength1(nums, k):\n",
    "    \n",
    "    lengths = {}\n",
    "    for i in range(len(nums)):\n",
    "        for j in range(i, len(nums)):\n",
    "            sub = nums[i:j+1]\n",
    "            if sum(sub) == k:\n",
    "                lengths[len(sub)] = sub                    \n",
    "    print(lengths)\n",
    "                \n",
    "    return min(lengths), lengths[min(lengths)]\n",
    "    \n",
    "    "
   ]
  },
  {
   "cell_type": "code",
   "execution_count": 139,
   "metadata": {},
   "outputs": [],
   "source": [
    "def minSubarrayLength2(nums, k):\n",
    "    left = 0\n",
    "    right = 0\n",
    "    Sum = 0\n",
    "    length = len(nums) + 1\n",
    "    \n",
    "    while left < len(nums) and right < len(nums):\n",
    "        Sum += nums[right]\n",
    "        \n",
    "        if Sum == k:\n",
    "            length = min(length, right-left+1)\n",
    "            right +=1\n",
    "        \n",
    "        elif Sum > k:\n",
    "            Sum -= nums[left]\n",
    "            left += 1\n",
    "        else:\n",
    "            right += 1\n",
    "            \n",
    "    \n",
    "    \n",
    "    return length\n",
    "    \n",
    "    "
   ]
  },
  {
   "cell_type": "code",
   "execution_count": 143,
   "metadata": {},
   "outputs": [
    {
     "name": "stdout",
     "output_type": "stream",
     "text": [
      "{6: [2, -3, 1, -2, 4, 3], 3: [-2, 4, 3]}\n"
     ]
    },
    {
     "data": {
      "text/plain": [
       "(3, [-2, 4, 3])"
      ]
     },
     "execution_count": 143,
     "metadata": {},
     "output_type": "execute_result"
    }
   ],
   "source": [
    "k = 5\n",
    "nums = [2,-3,1,-2,4,3]\n",
    "\n",
    "\n",
    "minSubarrayLength1(nums, k)"
   ]
  },
  {
   "cell_type": "code",
   "execution_count": 146,
   "metadata": {},
   "outputs": [],
   "source": [
    "def minSubArrayLen1(nums, k):\n",
    "    \"\"\"\n",
    "    input: int k\n",
    "           List[int] nums\n",
    "    output: int\n",
    "    O(N^2)\n",
    "    \"\"\"\n",
    "    minLen = len(nums) + 1\n",
    "    total = 0\n",
    "    start =  0\n",
    "    for i in range(len(nums)):\n",
    "        total += nums[i]\n",
    "        while total >=  k:\n",
    "            minLen = min(i - start + 1, minLen)\n",
    "            total = total - nums[start]\n",
    "            start = start + 1\n",
    "        \n",
    "    return 0 if minLen > len(nums) else minLen"
   ]
  },
  {
   "cell_type": "code",
   "execution_count": 147,
   "metadata": {},
   "outputs": [
    {
     "data": {
      "text/plain": [
       "6"
      ]
     },
     "execution_count": 147,
     "metadata": {},
     "output_type": "execute_result"
    }
   ],
   "source": [
    "k = 5\n",
    "nums = [2,-3,1,-2,4,3]\n",
    "minSubArrayLen1(nums, k)"
   ]
  },
  {
   "cell_type": "code",
   "execution_count": 152,
   "metadata": {},
   "outputs": [],
   "source": [
    "def firstUniqueChar(s):\n",
    "    from collections import Counter\n",
    "    cnt = Counter(s)\n",
    "    lst = []\n",
    "    for key, val in cnt.items():\n",
    "        if val == 1:\n",
    "            lst.append(key)\n",
    "            \n",
    "    return min([s.find(x) for x in lst])\n",
    "    \n",
    "    \n",
    "    \n",
    "    \n",
    "    "
   ]
  },
  {
   "cell_type": "code",
   "execution_count": 153,
   "metadata": {},
   "outputs": [
    {
     "name": "stdout",
     "output_type": "stream",
     "text": [
      "[2, 7, 8, 10]\n"
     ]
    },
    {
     "data": {
      "text/plain": [
       "2"
      ]
     },
     "execution_count": 153,
     "metadata": {},
     "output_type": "execute_result"
    }
   ],
   "source": [
    "firstUniqueChar(\"loveleetcode\")"
   ]
  },
  {
   "cell_type": "code",
   "execution_count": 182,
   "metadata": {},
   "outputs": [],
   "source": [
    "def findMaxLength3(nums):\n",
    "    \"\"\"\n",
    "    :type nums: List[int]\n",
    "    :rtype: int\n",
    "    \"\"\"\n",
    "    # mapping 0s to -1s\n",
    "    for i in range(len(nums)):\n",
    "        if nums[i] == 0:\n",
    "            nums[i] = -1\n",
    "    \n",
    "    # now we solve maxlength with subarray with sum 0\n",
    "    current_sum = 0\n",
    "    k = 0\n",
    "    seen = {0 : -1}\n",
    "    maxLen = 0\n",
    "    \n",
    "    for i in range(len(nums)):\n",
    "        current_sum += nums[i]\n",
    "\n",
    "        if current_sum not in seen:\n",
    "            seen[current_sum] = i\n",
    "#             print(seen)\n",
    "\n",
    "            \n",
    "            \n",
    "        if current_sum in seen:\n",
    "            maxLen = max(maxLen, i - seen[current_sum])\n",
    "            \n",
    "        print(F\"i = {i}, sum = {current_sum}, lenght= {maxLen}\")\n",
    "    \n",
    "    \n",
    "    return maxLen"
   ]
  },
  {
   "cell_type": "code",
   "execution_count": 183,
   "metadata": {},
   "outputs": [
    {
     "name": "stdout",
     "output_type": "stream",
     "text": [
      "i = 0, sum = 1, lenght= 0\n",
      "i = 1, sum = 2, lenght= 0\n",
      "i = 2, sum = 1, lenght= 2\n",
      "i = 3, sum = 0, lenght= 4\n",
      "i = 4, sum = 1, lenght= 4\n",
      "i = 5, sum = 0, lenght= 6\n",
      "i = 6, sum = 1, lenght= 6\n",
      "i = 7, sum = 2, lenght= 6\n",
      "6\n"
     ]
    }
   ],
   "source": [
    "nums = [1,1,0,0,1,0,1,1]\n",
    "print(findMaxLength3(nums))"
   ]
  },
  {
   "cell_type": "code",
   "execution_count": 193,
   "metadata": {},
   "outputs": [],
   "source": [
    "def SubarraySumK(nums, k):\n",
    "    left = 0\n",
    "    right = 0\n",
    "    Sum = 0\n",
    "    length = 0\n",
    "    while left < len(nums) and right < len(nums):\n",
    "        Sum += nums[right]\n",
    "        if Sum == k:\n",
    "            length = max(length, right-left+1)\n",
    "            right+=1\n",
    "        elif Sum > k:\n",
    "            Sum -= nums[left]\n",
    "            left +=1\n",
    "        else:\n",
    "            right +=1\n",
    "            \n",
    "    return length\n",
    "            \n",
    "        \n",
    "        "
   ]
  },
  {
   "cell_type": "code",
   "execution_count": 196,
   "metadata": {},
   "outputs": [
    {
     "data": {
      "text/plain": [
       "4"
      ]
     },
     "execution_count": 196,
     "metadata": {},
     "output_type": "execute_result"
    }
   ],
   "source": [
    "\n",
    "nums = [1, -4, -2, 6, 10, 5]\n",
    "k = 1\n",
    "SubarraySumK2(nums, k)"
   ]
  },
  {
   "cell_type": "code",
   "execution_count": 195,
   "metadata": {},
   "outputs": [],
   "source": [
    "def SubarraySumK2(nums, k):\n",
    "    Sum = 0 \n",
    "    seen = {0 : -1}\n",
    "    length = 0\n",
    "    \n",
    "    for i in range(len(nums)):\n",
    "        Sum += nums[i]\n",
    "        \n",
    "        if Sum not in seen:\n",
    "            seen[Sum] = i\n",
    "        SumMinusK = Sum - k\n",
    "        \n",
    "        if SumMinusK in seen:\n",
    "            length = max(length, i - seen[SumMinusK])\n",
    "            \n",
    "            \n",
    "    return length\n",
    "        \n",
    "        "
   ]
  },
  {
   "cell_type": "code",
   "execution_count": 197,
   "metadata": {},
   "outputs": [
    {
     "data": {
      "text/plain": [
       "[1, -4, -2, 6, 10, 5]"
      ]
     },
     "execution_count": 197,
     "metadata": {},
     "output_type": "execute_result"
    }
   ],
   "source": [
    "nums"
   ]
  },
  {
   "cell_type": "code",
   "execution_count": 198,
   "metadata": {},
   "outputs": [],
   "source": [
    "\n",
    "nums.sort(reverse=True)"
   ]
  },
  {
   "cell_type": "code",
   "execution_count": 199,
   "metadata": {},
   "outputs": [
    {
     "data": {
      "text/plain": [
       "[10, 6, 5, 1, -2, -4]"
      ]
     },
     "execution_count": 199,
     "metadata": {},
     "output_type": "execute_result"
    }
   ],
   "source": [
    "nums"
   ]
  },
  {
   "cell_type": "code",
   "execution_count": 200,
   "metadata": {},
   "outputs": [],
   "source": [
    "arr1 = [2,3,1,3,2,4,6,7,9,2,19]\n",
    "arr2 = [2,1,4,3,9,6]"
   ]
  },
  {
   "cell_type": "code",
   "execution_count": 203,
   "metadata": {},
   "outputs": [],
   "source": [
    "def relSort(arr1, arr2):\n",
    "    from collections import Counter\n",
    "    cnt = Counter(arr1)\n",
    "    sorted_array = []\n",
    "    extra = []\n",
    "    \n",
    "    for num in arr2:\n",
    "        sorted_array += [num] * cnt[num]\n",
    "        del cnt[num]\n",
    "        \n",
    "    \n",
    "    for key, val in cnt.items():\n",
    "        extra += [key]*val\n",
    "        \n",
    "    return sorted_array + sorted(extra)\n",
    "    \n",
    "    "
   ]
  },
  {
   "cell_type": "code",
   "execution_count": 204,
   "metadata": {},
   "outputs": [
    {
     "data": {
      "text/plain": [
       "[2, 2, 2, 1, 4, 3, 3, 9, 6, 7, 19]"
      ]
     },
     "execution_count": 204,
     "metadata": {},
     "output_type": "execute_result"
    }
   ],
   "source": [
    "relSort(arr1, arr2)"
   ]
  },
  {
   "cell_type": "code",
   "execution_count": 207,
   "metadata": {},
   "outputs": [
    {
     "data": {
      "text/plain": [
       "[1, 0, 0, 2, 3, 0, 0, 4]"
      ]
     },
     "execution_count": 207,
     "metadata": {},
     "output_type": "execute_result"
    }
   ],
   "source": [
    "arr = [1,0,2,3,0,4,5,0]\n",
    "def duplicateZero(arr):\n",
    "    i = 0\n",
    "    \n",
    "    while i < len(arr):\n",
    "        if arr[i] == 0:\n",
    "            arr.insert(i, 0)\n",
    "            arr.pop()\n",
    "            i += 1\n",
    "        i += 1\n",
    "\n",
    "    return arr\n",
    "\n",
    "duplicateZero(arr)\n",
    "    \n",
    "    "
   ]
  },
  {
   "cell_type": "code",
   "execution_count": null,
   "metadata": {},
   "outputs": [],
   "source": [
    "            sum_count = defaultdict(int)\n",
    "            # initialize counter and sum\n",
    "            count = 0\n",
    "            current_sum = 0\n",
    "            # loop over numbers in list\n",
    "            for num in nums:\n",
    "                # calculate sum until current number\n",
    "                current_sum += num\n",
    "                # check if we have seen a number x that could be subtracted from the current value to result in k\n",
    "                # k = current_sum - x  --( x -k)-->  x = current_Sum - k\n",
    "                # add number of occurrences of x to counter, or 0 if no such sum exists\n",
    "                count += sum_count[current_sum - k]\n",
    "                # update sum counter\n",
    "                sum_count[current_sum] += 1\n",
    "            # check if any of the sums from the first to any other position in the list match k\n",
    "            count += sum_count[k]\n",
    "            # return count value\n",
    "            return count\n"
   ]
  },
  {
   "cell_type": "code",
   "execution_count": 224,
   "metadata": {},
   "outputs": [],
   "source": [
    "def countSubarraySumEqualK(nums, k):\n",
    "    from collections import defaultdict\n",
    "    sum_count = defaultdict(int)\n",
    "    # initialize counter and sum\n",
    "    count = 0\n",
    "    current_sum = 0\n",
    "    # loop over numbers in list\n",
    "    for num in nums:\n",
    "        # calculate sum until current number\n",
    "        current_sum += num\n",
    "        # check if we have seen a number x that could be subtracted from the current value to result in k\n",
    "        # k = current_sum - x  --( x -k)-->  x = current_Sum - k\n",
    "        # add number of occurrences of x to counter, or 0 if no such sum exists\n",
    "        count += sum_count[current_sum - k]\n",
    "        # update sum counter\n",
    "        sum_count[current_sum] += 1\n",
    "    # check if any of the sums from the first to any other position in the list match k\n",
    "    count += sum_count[k]\n",
    "    # return count value\n",
    "    return count\n",
    "    "
   ]
  },
  {
   "cell_type": "code",
   "execution_count": 225,
   "metadata": {},
   "outputs": [
    {
     "data": {
      "text/plain": [
       "2"
      ]
     },
     "execution_count": 225,
     "metadata": {},
     "output_type": "execute_result"
    }
   ],
   "source": [
    "countSubarraySumEqualK([1,1,1], 2)"
   ]
  },
  {
   "cell_type": "code",
   "execution_count": 212,
   "metadata": {},
   "outputs": [],
   "source": [
    "seen[1] = 2"
   ]
  },
  {
   "cell_type": "code",
   "execution_count": 214,
   "metadata": {},
   "outputs": [],
   "source": [
    "seen[1] = 3"
   ]
  },
  {
   "cell_type": "code",
   "execution_count": 215,
   "metadata": {},
   "outputs": [
    {
     "data": {
      "text/plain": [
       "defaultdict(None, {1: 3})"
      ]
     },
     "execution_count": 215,
     "metadata": {},
     "output_type": "execute_result"
    }
   ],
   "source": [
    "seen "
   ]
  },
  {
   "cell_type": "code",
   "execution_count": 226,
   "metadata": {},
   "outputs": [],
   "source": [
    "def countNegatives3(grid):\n",
    "    \"\"\"\n",
    "    input List[List[int]]\n",
    "    output int\n",
    "    O(N Lohg(N))\n",
    "    \"\"\"\n",
    "    \n",
    "    def binarySearch(row):\n",
    "        \"\"\"\n",
    "        function to find the index of the negative number in each row\n",
    "        \"\"\"\n",
    "        start = 0\n",
    "        end = len(row)-1\n",
    "\n",
    "        while start <= end:\n",
    "            mid = (end + start)//2\n",
    "            if row[mid] < 0:\n",
    "                end = mid - 1\n",
    "            else:\n",
    "                start = mid + 1\n",
    "        return  len(row) - start\n",
    "    \n",
    "    cnt = 0\n",
    "    for row in grid:\n",
    "        cnt += binarySearch(row)\n",
    "        \n",
    "    return cnt"
   ]
  },
  {
   "cell_type": "code",
   "execution_count": 227,
   "metadata": {},
   "outputs": [
    {
     "name": "stdout",
     "output_type": "stream",
     "text": [
      "8\n"
     ]
    }
   ],
   "source": [
    "grid = [[4,3,2,-1],[3,2,1,-1],[1,1,-1,-2],[-1,-1,-2,-3]]\n",
    "print(countNegatives3(grid))"
   ]
  },
  {
   "cell_type": "code",
   "execution_count": null,
   "metadata": {},
   "outputs": [],
   "source": []
  }
 ],
 "metadata": {
  "kernelspec": {
   "display_name": "Python 3",
   "language": "python",
   "name": "python3"
  },
  "language_info": {
   "codemirror_mode": {
    "name": "ipython",
    "version": 3
   },
   "file_extension": ".py",
   "mimetype": "text/x-python",
   "name": "python",
   "nbconvert_exporter": "python",
   "pygments_lexer": "ipython3",
   "version": "3.7.6"
  }
 },
 "nbformat": 4,
 "nbformat_minor": 4
}
