{
 "cells": [
  {
   "cell_type": "markdown",
   "metadata": {},
   "source": [
    "# SLIDING WINDOW PROBLEMS"
   ]
  },
  {
   "cell_type": "markdown",
   "metadata": {},
   "source": [
    "## LeetCode.713: Subarray Product Less Than K"
   ]
  },
  {
   "cell_type": "markdown",
   "metadata": {},
   "source": [
    "Your are given an array of positive integers nums.\n",
    "\n",
    "Count and print the number of (contiguous) subarrays where the product of all the elements in the subarray is less than k.\n",
    "\n",
    "**Example 1:**\n",
    "\n",
    "Input: nums = [10, 5, 2, 6], k = 100\n",
    "\n",
    "Output: 8\n",
    "\n",
    "Explanation: The 8 subarrays that have product less than 100 are: [10], [5], [2], [6], [10, 5], [5, 2], [2, 6], [5, 2, 6].\n",
    "Note that [10, 5, 2] is not included as the product of 100 is not strictly less than k."
   ]
  },
  {
   "cell_type": "code",
   "execution_count": 7,
   "metadata": {},
   "outputs": [],
   "source": [
    "def numSubarrayProductLessThanK1(nums, k):\n",
    "    \"\"\"\n",
    "    Brute Force\n",
    "    Time-Complexity: O(N^3)\n",
    "    \"\"\"\n",
    "    def _prod(arr):\n",
    "        \"\"\"\n",
    "        Helper to calculate the prod of subarrays\n",
    "        \"\"\"\n",
    "        prod = 1\n",
    "        for i in arr:\n",
    "            prod *= i\n",
    "        \n",
    "        return prod\n",
    "    \n",
    "    ans = 0\n",
    "    # main loop\n",
    "    for i in range(len(nums)):\n",
    "        for j in range(i, len(nums)):\n",
    "            sub = nums[i:j+1]\n",
    "            if _prod(sub) < k:\n",
    "                ans += 1\n",
    "                \n",
    "    return ans"
   ]
  },
  {
   "cell_type": "code",
   "execution_count": 8,
   "metadata": {},
   "outputs": [],
   "source": [
    "def numSubarrayProductLessThanK2(nums, k):\n",
    "    \"\"\"\n",
    "    Sliding Window\n",
    "    Time-Complexity: O(N^2)\n",
    "    \"\"\"\n",
    "    left = 0\n",
    "    right = 0\n",
    "    ans = 0\n",
    "    prod = 1\n",
    "    \n",
    "    # main loop\n",
    "    while left < len(nums) and right < len(nums):\n",
    "        prod *= nums[right]\n",
    "        \n",
    "        while prod >= k:\n",
    "            prod /= nums[left]\n",
    "            left += 1\n",
    "        ans += (right - left + 1)\n",
    "        right += 1\n",
    "    \n",
    "    return ans "
   ]
  },
  {
   "cell_type": "code",
   "execution_count": 9,
   "metadata": {},
   "outputs": [
    {
     "name": "stdout",
     "output_type": "stream",
     "text": [
      "8\n",
      "8\n"
     ]
    }
   ],
   "source": [
    "nums = [10, 5, 2, 6]\n",
    "k = 100\n",
    "print(numSubarrayProductLessThanK1(nums, k))\n",
    "print(numSubarrayProductLessThanK2(nums, k))"
   ]
  },
  {
   "cell_type": "code",
   "execution_count": null,
   "metadata": {},
   "outputs": [],
   "source": []
  },
  {
   "cell_type": "code",
   "execution_count": null,
   "metadata": {},
   "outputs": [],
   "source": []
  },
  {
   "cell_type": "code",
   "execution_count": 88,
   "metadata": {},
   "outputs": [],
   "source": [
    "s = ['G', 'B', 'R', 'R', 'B', 'R', 'G']"
   ]
  },
  {
   "cell_type": "code",
   "execution_count": null,
   "metadata": {},
   "outputs": [],
   "source": [
    "for i in "
   ]
  },
  {
   "cell_type": "code",
   "execution_count": 89,
   "metadata": {},
   "outputs": [],
   "source": [
    "from itertools import combinations"
   ]
  },
  {
   "cell_type": "code",
   "execution_count": 95,
   "metadata": {},
   "outputs": [],
   "source": [
    "nums = [1, 2, 3]\n",
    "ans = []\n",
    "for i in range(1, len(nums)+1):\n",
    "    ans += list(combinations(nums, i))"
   ]
  },
  {
   "cell_type": "code",
   "execution_count": 96,
   "metadata": {},
   "outputs": [
    {
     "data": {
      "text/plain": [
       "[(1,), (2,), (3,), (1, 2), (1, 3), (2, 3), (1, 2, 3)]"
      ]
     },
     "execution_count": 96,
     "metadata": {},
     "output_type": "execute_result"
    }
   ],
   "source": [
    "ans"
   ]
  },
  {
   "cell_type": "code",
   "execution_count": 99,
   "metadata": {},
   "outputs": [],
   "source": [
    "ans.append([11])"
   ]
  },
  {
   "cell_type": "code",
   "execution_count": 100,
   "metadata": {},
   "outputs": [
    {
     "data": {
      "text/plain": [
       "[(1,), (2,), (3,), (1, 2), (1, 3), (2, 3), (1, 2, 3), 11, [11]]"
      ]
     },
     "execution_count": 100,
     "metadata": {},
     "output_type": "execute_result"
    }
   ],
   "source": [
    "ans"
   ]
  },
  {
   "cell_type": "code",
   "execution_count": 101,
   "metadata": {},
   "outputs": [
    {
     "data": {
      "text/plain": [
       "1.0"
      ]
     },
     "execution_count": 101,
     "metadata": {},
     "output_type": "execute_result"
    }
   ],
   "source": [
    "nums = [6, 1, 3, 3, 3, 6, 6]\n",
    "\n",
    "(3 * sum(list(set(nums))) - sum(nums))/2"
   ]
  },
  {
   "cell_type": "code",
   "execution_count": 102,
   "metadata": {},
   "outputs": [
    {
     "ename": "TypeError",
     "evalue": "'str' object cannot be interpreted as an integer",
     "output_type": "error",
     "traceback": [
      "\u001b[0;31m---------------------------------------------------------------------------\u001b[0m",
      "\u001b[0;31mTypeError\u001b[0m                                 Traceback (most recent call last)",
      "\u001b[0;32m<ipython-input-102-e5d3af7d0473>\u001b[0m in \u001b[0;36m<module>\u001b[0;34m\u001b[0m\n\u001b[0;32m----> 1\u001b[0;31m \u001b[0mbin\u001b[0m\u001b[0;34m(\u001b[0m\u001b[0;34m\"101\"\u001b[0m\u001b[0;34m)\u001b[0m\u001b[0;34m\u001b[0m\u001b[0;34m\u001b[0m\u001b[0m\n\u001b[0m",
      "\u001b[0;31mTypeError\u001b[0m: 'str' object cannot be interpreted as an integer"
     ]
    }
   ],
   "source": [
    "bin(\"101\")"
   ]
  },
  {
   "cell_type": "code",
   "execution_count": 103,
   "metadata": {},
   "outputs": [
    {
     "data": {
      "text/plain": [
       "'0b101'"
      ]
     },
     "execution_count": 103,
     "metadata": {},
     "output_type": "execute_result"
    }
   ],
   "source": [
    "bin(5)"
   ]
  },
  {
   "cell_type": "code",
   "execution_count": 203,
   "metadata": {},
   "outputs": [],
   "source": [
    "nums = [5,6,7, 0 , 1, 2,4]; target = 1;"
   ]
  },
  {
   "cell_type": "code",
   "execution_count": 201,
   "metadata": {},
   "outputs": [],
   "source": [
    "def test(nums, target):\n",
    "    # first find the pivot\n",
    "    left = 0\n",
    "    right = len(nums) - 1\n",
    "    while left <= right:\n",
    "        mid = left + (right - left)//2\n",
    "        if nums[mid] > nums[right]:\n",
    "            left = mid + 1\n",
    "        else:\n",
    "            right = mid - 1\n",
    "            \n",
    "    pivot = left\n",
    "    \n",
    "    # now we should see what rout\n",
    "    left = 0\n",
    "    right = len(nums) - 1\n",
    "    if target >= nums[pivot] and target <= nums[right]:\n",
    "        left = pivot\n",
    "    else:\n",
    "        right = pivot\n",
    "    \n",
    "    while left <= right:\n",
    "        mid = left + (right - left)//2\n",
    "        if nums[mid] == target:\n",
    "            return mid\n",
    "        elif nums[mid] > target:\n",
    "            right = mid - 1\n",
    "        else:\n",
    "            left = mid + 1\n",
    "            \n",
    "    return -1\n",
    "        \n",
    "        "
   ]
  },
  {
   "cell_type": "code",
   "execution_count": 202,
   "metadata": {},
   "outputs": [
    {
     "data": {
      "text/plain": [
       "-1"
      ]
     },
     "execution_count": 202,
     "metadata": {},
     "output_type": "execute_result"
    }
   ],
   "source": [
    "test(nums, target)"
   ]
  },
  {
   "cell_type": "code",
   "execution_count": 204,
   "metadata": {},
   "outputs": [],
   "source": [
    "def RotatedSearch(nums, target):\n",
    "    \"\"\"\n",
    "    :type nums: List[int]\n",
    "    :type target: int\n",
    "    :rtype: int\n",
    "    O(Log(N))\n",
    "    \"\"\"\n",
    "    \n",
    "    # first modified binary search to find the pivot\n",
    "    left = 0\n",
    "    right = len(nums) - 1\n",
    "    \n",
    "    while(left <= right):\n",
    "        mid = (left + (right - left)//2) # avoid memory overflow : mid = (left + right)//2\n",
    "        if nums[mid] > nums[right]:\n",
    "            left = mid + 1\n",
    "        else:\n",
    "            right = mid - 1\n",
    "            \n",
    "    # now the pivot is at left index\n",
    "    pivot = left\n",
    "\n",
    "    # now we can do normal binary search from [0... pivot) or [pivot ... N-1]\n",
    "    left = 0\n",
    "    right = len(nums) - 1\n",
    "    \n",
    "    # now here we can decide which route we choose\n",
    "    if (target >= nums[pivot]) and (target <= nums[right]):\n",
    "        left = pivot\n",
    "    else:\n",
    "        right = pivot\n",
    "    \n",
    "    \n",
    "    while left <= right:\n",
    "        mid = left + (right - left)//2\n",
    "        if target == nums[mid]:\n",
    "            return mid\n",
    "        elif target > nums[mid]:\n",
    "            left = mid + 1\n",
    "        else:\n",
    "            right = mid - 1\n",
    "            \n",
    "    return -1"
   ]
  },
  {
   "cell_type": "code",
   "execution_count": 205,
   "metadata": {},
   "outputs": [
    {
     "data": {
      "text/plain": [
       "-1"
      ]
     },
     "execution_count": 205,
     "metadata": {},
     "output_type": "execute_result"
    }
   ],
   "source": [
    "RotatedSearch(nums, target)"
   ]
  },
  {
   "cell_type": "code",
   "execution_count": 206,
   "metadata": {},
   "outputs": [],
   "source": [
    "def pivotedBinarySearch(arr, n, key): \n",
    "  \n",
    "    pivot = findPivot(arr, 0, n-1); \n",
    "  \n",
    "    # If we didn't find a pivot,  \n",
    "    # then array is not rotated at all \n",
    "    if pivot == -1: \n",
    "        return binarySearch(arr, 0, n-1, key); \n",
    "  \n",
    "    # If we found a pivot, then first \n",
    "    # compare with pivot and then \n",
    "    # search in two subarrays around pivot \n",
    "    if arr[pivot] == key: \n",
    "        return pivot \n",
    "    if arr[0] <= key: \n",
    "        return binarySearch(arr, 0, pivot-1, key); \n",
    "    return binarySearch(arr, pivot + 1, n-1, key); \n",
    "  \n",
    "# 3, 4, 5, 6, 1, 2 it returns 3  \n",
    "# (index of 6)  \n",
    "def findPivot(arr, low, high): \n",
    "      \n",
    "    # base cases \n",
    "    if high < low: \n",
    "        return -1\n",
    "    if high == low: \n",
    "        return low \n",
    "      \n",
    "    # low + (high - low)/2; \n",
    "    mid = int((low + high)/2) \n",
    "      \n",
    "    if mid < high and arr[mid] > arr[mid + 1]: \n",
    "        return mid \n",
    "    if mid > low and arr[mid] < arr[mid - 1]: \n",
    "        return (mid-1) \n",
    "    if arr[low] >= arr[mid]: \n",
    "        return findPivot(arr, low, mid-1) \n",
    "    return findPivot(arr, mid + 1, high) \n",
    "  \n",
    "# Standard Binary Search function*/ \n",
    "def binarySearch(arr, low, high, key): \n",
    "  \n",
    "    if high < low: \n",
    "        return -1\n",
    "          \n",
    "    # low + (high - low)/2;     \n",
    "    mid = int((low + high)/2) \n",
    "      \n",
    "    if key == arr[mid]: \n",
    "        return mid \n",
    "    if key > arr[mid]: \n",
    "        return binarySearch(arr, (mid + 1), high, \n",
    "                                            key); \n",
    "    return binarySearch(arr, low, (mid -1), key); "
   ]
  },
  {
   "cell_type": "code",
   "execution_count": 207,
   "metadata": {},
   "outputs": [
    {
     "data": {
      "text/plain": [
       "4"
      ]
     },
     "execution_count": 207,
     "metadata": {},
     "output_type": "execute_result"
    }
   ],
   "source": [
    "pivotedBinarySearch(nums, len(nums), target)"
   ]
  },
  {
   "cell_type": "code",
   "execution_count": 224,
   "metadata": {},
   "outputs": [],
   "source": [
    "def test(s):\n",
    "    dct = {\"(\" : 1, \")\" : -1,\n",
    "           \"[\" : 2, \"]\" : -2,\n",
    "           \"{\" : 3, \"}\" : -3}\n",
    "    stack = []\n",
    "    \n",
    "    for char in s:\n",
    "        char_val = dct[char]\n",
    "        if len(stack) and stack[-1] > 0 and char_val + stack[-1] == 0:\n",
    "            stack.pop()\n",
    "        else:\n",
    "            stack.append(char_val)\n",
    "            \n",
    "    return len(stack)\n",
    "    "
   ]
  },
  {
   "cell_type": "code",
   "execution_count": 226,
   "metadata": {},
   "outputs": [
    {
     "data": {
      "text/plain": [
       "1"
      ]
     },
     "execution_count": 226,
     "metadata": {},
     "output_type": "execute_result"
    }
   ],
   "source": [
    "test(\"()())()\")"
   ]
  },
  {
   "cell_type": "code",
   "execution_count": 231,
   "metadata": {},
   "outputs": [
    {
     "name": "stdout",
     "output_type": "stream",
     "text": [
      "0\n",
      "1\n",
      "2\n",
      "3\n",
      "4\n",
      "5\n",
      "6\n",
      "7\n",
      "8\n",
      "9\n"
     ]
    }
   ],
   "source": [
    "functions = []\n",
    "for i in range(10):\n",
    "    print(i)\n",
    "    functions.append(lambda: i)"
   ]
  },
  {
   "cell_type": "code",
   "execution_count": 230,
   "metadata": {},
   "outputs": [
    {
     "name": "stdout",
     "output_type": "stream",
     "text": [
      "9\n",
      "9\n",
      "9\n",
      "9\n",
      "9\n",
      "9\n",
      "9\n",
      "9\n",
      "9\n",
      "9\n"
     ]
    }
   ],
   "source": [
    "for f in functions:\n",
    "    print(f())"
   ]
  },
  {
   "cell_type": "code",
   "execution_count": 232,
   "metadata": {},
   "outputs": [],
   "source": [
    "from itertools import permutations"
   ]
  },
  {
   "cell_type": "code",
   "execution_count": 245,
   "metadata": {},
   "outputs": [],
   "source": [
    "def test(nums, k):\n",
    "    ans = []\n",
    "    for i in range(len(nums)):\n",
    "        for j in range(i, len(nums)):\n",
    "            sub = nums[i:j+1]\n",
    "            if sum(sub) == k:\n",
    "                ans.append(sub)\n",
    "                \n",
    "    return ans\n",
    "    "
   ]
  },
  {
   "cell_type": "code",
   "execution_count": 285,
   "metadata": {},
   "outputs": [],
   "source": [
    "def test(nums):\n",
    "    N = len(nums) - 1\n",
    "    can_reach = 0\n",
    "    \n",
    "    for i in range(N):\n",
    "        if can_reach - i >= 0:\n",
    "            can_reach = max(can_reach, i + nums[i])\\\n",
    "            \n",
    "        if can_reach >= N:\n",
    "                return True\n",
    "            \n",
    "    return False\n",
    "    "
   ]
  },
  {
   "cell_type": "code",
   "execution_count": 288,
   "metadata": {},
   "outputs": [
    {
     "data": {
      "text/plain": [
       "True"
      ]
     },
     "execution_count": 288,
     "metadata": {},
     "output_type": "execute_result"
    }
   ],
   "source": [
    "test(  [2,3,1,1,4])"
   ]
  },
  {
   "cell_type": "code",
   "execution_count": 283,
   "metadata": {},
   "outputs": [],
   "source": [
    "from queue import deque"
   ]
  },
  {
   "cell_type": "code",
   "execution_count": 284,
   "metadata": {},
   "outputs": [],
   "source": [
    "dq = deque()"
   ]
  },
  {
   "cell_type": "code",
   "execution_count": null,
   "metadata": {},
   "outputs": [],
   "source": [
    "dq."
   ]
  }
 ],
 "metadata": {
  "kernelspec": {
   "display_name": "Python 3",
   "language": "python",
   "name": "python3"
  },
  "language_info": {
   "codemirror_mode": {
    "name": "ipython",
    "version": 3
   },
   "file_extension": ".py",
   "mimetype": "text/x-python",
   "name": "python",
   "nbconvert_exporter": "python",
   "pygments_lexer": "ipython3",
   "version": "3.7.6"
  }
 },
 "nbformat": 4,
 "nbformat_minor": 4
}
