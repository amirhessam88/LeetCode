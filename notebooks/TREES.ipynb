{
 "cells": [
  {
   "cell_type": "markdown",
   "metadata": {},
   "source": [
    "# Binary Tree"
   ]
  },
  {
   "cell_type": "code",
   "execution_count": 2,
   "metadata": {},
   "outputs": [],
   "source": [
    "class Node(object):\n",
    "    def __init__(self, value):\n",
    "        self.value = value\n",
    "        self.left = None\n",
    "        self.right = None\n",
    "        \n",
    "class BinaryTree(object):\n",
    "    def __init__(self, root):\n",
    "        self.root = Node(root)\n",
    "        \n",
    "    def print_tree(self, traversal_type):\n",
    "        \n",
    "        print(F\"Traversal Type = {traversal_type}\")\n",
    "        \n",
    "        if traversal_type == \"preorder\":\n",
    "            return self.preorder_print(self.root, \"\")\n",
    "        \n",
    "        elif traversal_type == \"inorder\":\n",
    "            return self.inorder_print(self.root, \"\")\n",
    "        \n",
    "        elif traversal_type == \"postorder\":\n",
    "            return self.postorder_print(self.root, \"\")\n",
    "        \n",
    "        else:\n",
    "            print(F\"Traversal type = {traversal_type} is not supported!\")\n",
    "        \n",
    "    def preorder_print(self, start, traversal):\n",
    "        \"\"\"\n",
    "        Root -> Left -> Right\n",
    "        \"\"\"\n",
    "        if start:\n",
    "            traversal += F\"{start.value} -> \"\n",
    "            traversal = self.preorder_print(start.left, traversal)\n",
    "            traversal = self.preorder_print(start.right, traversal)\n",
    "            \n",
    "        return traversal\n",
    "    \n",
    "    \n",
    "    def inorder_print(self, start, traversal):\n",
    "        \"\"\"\n",
    "        Left -> Root -> Right\n",
    "        \"\"\"\n",
    "        if start:\n",
    "            traversal = self.inorder_print(start.left, traversal)\n",
    "            traversal += F\"{start.value} -> \"\n",
    "            traversal = self.inorder_print(start.right, traversal)\n",
    "        \n",
    "        return traversal\n",
    "    \n",
    "    def postorder_print(self, start, traversal):\n",
    "        \"\"\"\n",
    "        Left -> Right -> Root\n",
    "        \"\"\"\n",
    "        if start:\n",
    "            traversal = self.inorder_print(start.left, traversal)\n",
    "            traversal = self.inorder_print(start.right, traversal)\n",
    "            traversal += F\"{start.value} -> \"\n",
    "        \n",
    "        return traversal"
   ]
  },
  {
   "cell_type": "code",
   "execution_count": 3,
   "metadata": {},
   "outputs": [
    {
     "name": "stdout",
     "output_type": "stream",
     "text": [
      "Traversal Type = preorder\n",
      "1 -> 2 -> 4 -> 5 -> 3 -> 6 -> 7 -> 8 -> \n",
      "Traversal Type = inorder\n",
      "4 -> 2 -> 5 -> 1 -> 6 -> 3 -> 7 -> 8 -> \n",
      "Traversal Type = postorder\n",
      "4 -> 2 -> 5 -> 6 -> 3 -> 7 -> 8 -> 1 -> \n"
     ]
    }
   ],
   "source": [
    "\"\"\"\n",
    "         1\n",
    "        / \\\n",
    "       2   3\n",
    "      / \\ / \\\n",
    "     4  5 6  7\n",
    "              \\\n",
    "               8\n",
    "\"\"\"\n",
    "tree = BinaryTree(1)\n",
    "tree.root.left = Node(2)\n",
    "tree.root.right = Node(3)\n",
    "tree.root.left.left = Node(4)\n",
    "tree.root.left.right = Node(5)\n",
    "tree.root.right.left = Node(6)\n",
    "tree.root.right.right = Node(7)\n",
    "tree.root.right.right.right = Node(8)\n",
    "\n",
    "print(tree.print_tree(\"preorder\"))\n",
    "print(tree.print_tree(\"inorder\"))\n",
    "print(tree.print_tree(\"postorder\"))"
   ]
  },
  {
   "cell_type": "markdown",
   "metadata": {},
   "source": [
    "# Binary Search Tree"
   ]
  },
  {
   "cell_type": "code",
   "execution_count": 4,
   "metadata": {},
   "outputs": [],
   "source": [
    "class BST:\n",
    "    def __init__(self):\n",
    "        self.root = None\n",
    "    \n",
    "    def insert(self, value):\n",
    "        if self.root is None:\n",
    "            self.root = Node(value)\n",
    "        else:\n",
    "            self._insert(value, self.root)\n",
    "            \n",
    "    def _insert(self, value, current_node):\n",
    "        if value < current_node.value:\n",
    "            if current_node.left is None:\n",
    "                current_node.left = Node(value)\n",
    "            else:\n",
    "                self._insert(value, current_node.left)\n",
    "                \n",
    "        elif value > current_node.value:\n",
    "            if current_node.right is None:\n",
    "                current_node.right = Node(value)\n",
    "            else:\n",
    "                self._insert(value, current_node.right)\n",
    "        else:\n",
    "            print(F\"The Value = {value} is already present in the tree!\")\n",
    "            \n",
    "    def find(self, value):\n",
    "        if self.root is not None:\n",
    "            is_found = self._find(value, self.root)\n",
    "            if is_found:\n",
    "                return True\n",
    "            else:\n",
    "                return False\n",
    "            \n",
    "        else:\n",
    "            return None\n",
    "        \n",
    "    def _find(self, value, current_node):\n",
    "        if value > current_node.value and current_node.right is not None:\n",
    "            return self._find(value, current_node.right)\n",
    "        elif value < current_node.value and current_node.left is not None:\n",
    "            return self._find(value, current_node.left)\n",
    "        \n",
    "        if value == current_node.value:\n",
    "            return True\n",
    "        \n",
    "    def inorder_print_tree(self):\n",
    "        if self.root is not None:\n",
    "            self._inorder_print_tree(self.root)\n",
    "            \n",
    "    def _inorder_print_tree(self, current_node):\n",
    "        if current_node is not None:\n",
    "            self._inorder_print_tree(current_node.left)\n",
    "            print(F\"{current_node.value}\")\n",
    "            self._inorder_print_tree(current_node.right)\n",
    "            \n",
    "    def is_bst_satisfied(self):\n",
    "        if self.root is not None:\n",
    "            is_satisfied = self._is_bst_satisfied(self.root, self.root.value)\n",
    "            \n",
    "            if is_satisfied is None:\n",
    "                return True\n",
    "            return False\n",
    "        \n",
    "        return True\n",
    "    \n",
    "    def _is_bst_satisfied(self, current_node, value):\n",
    "        if current_node.left is not None:\n",
    "            if value > current_node.left.value:\n",
    "                return self._is_bst_satisfied(current_node.left, current_node.left.value)\n",
    "            else:\n",
    "                return False\n",
    "        \n",
    "        if current_node.right is not None:\n",
    "            if value < current_node.right.value:\n",
    "                return self._is_bst_satisfied(current_node.right, current_node.right.value)\n",
    "            else:\n",
    "                return False\n",
    "\n",
    "            "
   ]
  },
  {
   "cell_type": "code",
   "execution_count": 5,
   "metadata": {},
   "outputs": [],
   "source": [
    "bst = BST()\n",
    "bst.insert(8)\n",
    "bst.insert(3)\n",
    "bst.insert(10)\n",
    "bst.insert(1)\n",
    "bst.insert(6)\n",
    "bst.insert(9)\n",
    "bst.insert(11)"
   ]
  },
  {
   "cell_type": "code",
   "execution_count": 6,
   "metadata": {},
   "outputs": [
    {
     "data": {
      "text/plain": [
       "True"
      ]
     },
     "execution_count": 6,
     "metadata": {},
     "output_type": "execute_result"
    }
   ],
   "source": [
    "bst.find(10)"
   ]
  },
  {
   "cell_type": "code",
   "execution_count": 7,
   "metadata": {},
   "outputs": [
    {
     "data": {
      "text/plain": [
       "True"
      ]
     },
     "execution_count": 7,
     "metadata": {},
     "output_type": "execute_result"
    }
   ],
   "source": [
    "bst.is_bst_satisfied()"
   ]
  },
  {
   "cell_type": "code",
   "execution_count": 8,
   "metadata": {},
   "outputs": [
    {
     "name": "stdout",
     "output_type": "stream",
     "text": [
      "1\n",
      "3\n",
      "6\n",
      "8\n",
      "9\n",
      "10\n",
      "11\n"
     ]
    }
   ],
   "source": [
    "bst.inorder_print_tree()"
   ]
  },
  {
   "cell_type": "code",
   "execution_count": null,
   "metadata": {},
   "outputs": [],
   "source": []
  }
 ],
 "metadata": {
  "kernelspec": {
   "display_name": "Python 3",
   "language": "python",
   "name": "python3"
  },
  "language_info": {
   "codemirror_mode": {
    "name": "ipython",
    "version": 3
   },
   "file_extension": ".py",
   "mimetype": "text/x-python",
   "name": "python",
   "nbconvert_exporter": "python",
   "pygments_lexer": "ipython3",
   "version": "3.7.6"
  }
 },
 "nbformat": 4,
 "nbformat_minor": 4
}
